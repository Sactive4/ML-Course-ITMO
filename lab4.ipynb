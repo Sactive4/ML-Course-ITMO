{
  "cells": [
    {
      "cell_type": "markdown",
      "metadata": {
        "id": "hGClrhQA9SAk"
      },
      "source": [
        "# Деревья решений"
      ]
    },
    {
      "cell_type": "markdown",
      "metadata": {
        "id": "veekMy8WRjBi"
      },
      "source": [
        "## Построение дерева"
      ]
    },
    {
      "cell_type": "markdown",
      "metadata": {
        "id": "SYkVwAFiUHXj"
      },
      "source": [
        "Опишем жадный алгоритм построения бинарного дерева решений:\n",
        "1. Начинаем со всей обучающей выборки $X$, которую помещаем в корень $R_1$. \n",
        "2. Задаём функционал качества $Q(X, j, t)$ и критерий остановки. \n",
        "3. Запускаем построение из корня: $SplitNode(1, R_1)$\n",
        "\n",
        "Функция $SplitNode(m, R_m)$\n",
        "1. Если выполнен критерий остановки, то выход.\n",
        "2. Находим наилучший с точки зрения $Q$ предикат: $j, t$: $[x_j<t]$\n",
        "3. Помещаем предикат в вершину и получаем с его помощью разбиение $X$ на две части: $R_{left} = \\lbrace x|x_j<t \\rbrace$ и $R_{right} = \\lbrace x|x_j \\geqslant t \\rbrace$\n",
        "4. Поместим $R_{left}$ и $R_{right}$ соответсвенно в левое и правое поддерево.\n",
        "5. Рекурсивно повторяем $SplitNode(left, R_{left})$ и $SplitNode(right, R_{right})$.\n",
        "\n",
        "В конце поставим в соответствие каждому листу ответ. Для задачи классификации - это самый частый среди объектов класс или вектор с долями классов (можно интерпретировать как вероятности):\n",
        "$$ c_v = \\arg \\max_{k\\in Y} \\sum_{(x_i,y_i) \\in R_v} [y_i=k]  $$"
      ]
    },
    {
      "cell_type": "markdown",
      "metadata": {
        "id": "9P6FsdBog4Ai"
      },
      "source": [
        "## Функционал качества для деревьев решений\n"
      ]
    },
    {
      "cell_type": "markdown",
      "metadata": {
        "id": "9VAKO0aykGBD"
      },
      "source": [
        "Энтропия Шеннона для системы с N возможными состояниями определяется по формуле:\n",
        "$$H = - \\sum_{i=0}^{N} p_i\\log_2p_i $$"
      ]
    },
    {
      "cell_type": "markdown",
      "metadata": {
        "id": "5582B-1Fn2bw"
      },
      "source": [
        "где $p_i$ – вероятности нахождения системы в $i$-ом состоянии. \n",
        "\n",
        "Это очень важное понятие теории информации, которое позволяет оценить количество информации (степень хаоса в системе). Чем выше энтропия, тем менее упорядочена система и наоборот. С помощью энтропии мы формализуем функционал качества для разделение выборки (для задачи классификации)."
      ]
    },
    {
      "cell_type": "code",
      "execution_count": null,
      "metadata": {
        "id": "PbcMUd7bvk05"
      },
      "outputs": [],
      "source": [
        "import numpy as np\n",
        "import pandas as pd\n",
        "\n",
        "import matplotlib.pyplot as plt\n",
        "\n",
        "import random\n",
        "from pprint import pprint\n",
        "\n",
        "from sklearn import datasets\n",
        "from sklearn.model_selection import train_test_split\n",
        "from sklearn.metrics import accuracy_score"
      ]
    },
    {
      "cell_type": "markdown",
      "metadata": {
        "id": "4AdLxP9CowTm"
      },
      "source": [
        "Код для расчёта энтропии:"
      ]
    },
    {
      "cell_type": "code",
      "execution_count": null,
      "metadata": {
        "id": "2mT8Jq8Av2sM"
      },
      "outputs": [],
      "source": [
        "def entropy(y):\n",
        "    \n",
        "    _, counts = np.unique(y, return_counts=True)\n",
        "\n",
        "    probabilities = counts / counts.sum()\n",
        "    entropy = sum(probabilities * -np.log2(probabilities))\n",
        "     \n",
        "    return entropy"
      ]
    },
    {
      "cell_type": "markdown",
      "metadata": {
        "id": "Xk9etb2vo7fK"
      },
      "source": [
        "Здесь $y$ - это массив значений целевой переменной"
      ]
    },
    {
      "cell_type": "markdown",
      "metadata": {
        "id": "07TCw0USzLus"
      },
      "source": [
        "Энтропия – по сути степень хаоса (или неопределенности) в системе. Уменьшение энтропии называют приростом информации (information gain, IG).\n",
        "\n",
        "Обочначим $R_v$ - объекты, которые нужно разделить в помощью предиката в вершине $v$. Запишем формулу для расчёта информационного прироста:\n",
        "$$ Q = IG = H(R_v) - (H(R_{left})+H(R_{right}))$$\n",
        "\n",
        "На каждом шаге нам нужно максимизировать этот функционал качества. Как это делать? Например, так можно перебрать $t$ для выбранного $j$."
      ]
    },
    {
      "cell_type": "markdown",
      "metadata": {
        "id": "trEWHDoXg_p9"
      },
      "source": [
        "Предыдущая версия формулы прироста информации слишком упрощена. В работе необходимо использовать более устойчивую формулу, которая учитывает не только энтропию подмножеств, но и их размер. \n",
        "\n",
        "$$ Q = IG = H(R_v) - \\Big (\\frac{|R_{left}|} {|R_{v}|} H(R_{left})+ \\frac{|R_{right}|} {|R_{v}|} H(R_{right})\\Big)$$\n",
        "\n",
        "где, $|R_{v}|$, $|R_{left}|$ и $|R_{right}|$ - количество элементов в соответствующих множествах."
      ]
    },
    {
      "cell_type": "markdown",
      "metadata": {
        "id": "9xmN6V_N1xBr"
      },
      "source": [
        "\n",
        "### Задание 4.1"
      ]
    },
    {
      "cell_type": "markdown",
      "metadata": {
        "id": "nWFHZScF2CBF"
      },
      "source": [
        "Реализуйте алгоритм построения дерева. Должны быть отдельные функции (методы) для расчёта энтропии (уже есть), для разделения дерева (используйте `pandas`), для подсчёта функционала качества $IG$, для выбора наилучшего разделения (с учетом признакоd и порогов), для проверки критерия остановки.\n",
        "\n",
        "Для набора данных `iris` реализуйте алгоритм и минимум три из разными критерия остановки из перечисленных ниже:\n",
        "* максимальной глубины дерева = 5\n",
        "* минимального числа объектов в листе = 5\n",
        "* максимальное количество листьев в дереве = 5\n",
        "* purity (остановка, если все объекты в листе относятся к одному классу)\n",
        "\n",
        "Реализуйте функцию `predict` (на вход функции подаётся датафрейм с объектами)\n",
        "\n",
        "Оцените точность каждой модели с помощью метрики точность (`from sklearn.metrics import accuracy_score` или реализовать свою)."
      ]
    },
    {
      "cell_type": "code",
      "execution_count": null,
      "metadata": {
        "id": "xnIdU-PYnrK-"
      },
      "outputs": [],
      "source": [
        "iris = datasets.load_iris()"
      ]
    },
    {
      "cell_type": "code",
      "execution_count": null,
      "metadata": {
        "colab": {
          "base_uri": "https://localhost:8080/",
          "height": 81
        },
        "id": "YUYCLPpxoROG",
        "outputId": "5b8db73d-fef3-4f24-9176-324175f55230"
      },
      "outputs": [
        {
          "data": {
            "text/html": [
              "<div>\n",
              "<style scoped>\n",
              "    .dataframe tbody tr th:only-of-type {\n",
              "        vertical-align: middle;\n",
              "    }\n",
              "\n",
              "    .dataframe tbody tr th {\n",
              "        vertical-align: top;\n",
              "    }\n",
              "\n",
              "    .dataframe thead th {\n",
              "        text-align: right;\n",
              "    }\n",
              "</style>\n",
              "<table border=\"1\" class=\"dataframe\">\n",
              "  <thead>\n",
              "    <tr style=\"text-align: right;\">\n",
              "      <th></th>\n",
              "      <th>sepal length (cm)</th>\n",
              "      <th>sepal width (cm)</th>\n",
              "      <th>petal length (cm)</th>\n",
              "      <th>petal width (cm)</th>\n",
              "      <th>target</th>\n",
              "    </tr>\n",
              "  </thead>\n",
              "  <tbody>\n",
              "    <tr>\n",
              "      <th>22</th>\n",
              "      <td>4.6</td>\n",
              "      <td>3.6</td>\n",
              "      <td>1.0</td>\n",
              "      <td>0.2</td>\n",
              "      <td>0.0</td>\n",
              "    </tr>\n",
              "  </tbody>\n",
              "</table>\n",
              "</div>"
            ],
            "text/plain": [
              "    sepal length (cm)  sepal width (cm)  ...  petal width (cm)  target\n",
              "22                4.6               3.6  ...               0.2     0.0\n",
              "\n",
              "[1 rows x 5 columns]"
            ]
          },
          "execution_count": 4,
          "metadata": {},
          "output_type": "execute_result"
        }
      ],
      "source": [
        "df= pd.DataFrame(data= np.c_[iris['data'], iris['target']],\n",
        "                 columns= iris['feature_names'] + ['target'])\n",
        "df.sample()"
      ]
    },
    {
      "cell_type": "markdown",
      "metadata": {
        "id": "oK_q51asbHDg"
      },
      "source": [
        "### Реализуем функции"
      ]
    },
    {
      "cell_type": "markdown",
      "metadata": {
        "id": "HeMEJTgszDM6"
      },
      "source": [
        "Ввиду того, что в задании сказано \"на вход функции подаётся датафрейм с объектами\", будем реализовавыть функции так, что бы им на вход поступал DataFrame"
      ]
    },
    {
      "cell_type": "code",
      "execution_count": null,
      "metadata": {
        "id": "AE8YJCZBc9Ol"
      },
      "outputs": [],
      "source": [
        "def make_split(j, t, df):\n",
        "    left = df[df[df.columns[j]] < t]\n",
        "    right = df[df[df.columns[j]] >= t]\n",
        "\n",
        "    return left, right\n",
        "\n",
        "\n",
        "def calc_IG(df, sample1, sample2):\n",
        "    size_R_v = len(df[df.columns[-1]])\n",
        "    size_R_left = len(sample1[sample1.columns[-1]])\n",
        "    size_R_right = len(sample2[sample2.columns[-1]])\n",
        "\n",
        "    IG = entropy(df[df.columns[-1]]) - (\n",
        "            size_R_left / size_R_v * entropy(sample1[sample1.columns[-1]]) +\n",
        "            size_R_right / size_R_v * entropy(sample2[sample2.columns[-1]])\n",
        "    )\n",
        "\n",
        "    return IG\n",
        "\n",
        "\n",
        "def get_best_split(df):\n",
        "    best_j, best_t, best_IG = 0, 0.0, 0.0\n",
        "\n",
        "    for j in range(len(df.columns) - 1):\n",
        "        for t in df[df.columns[j]]:\n",
        "            left, right = make_split(j, t, df)\n",
        "            cur_IG = calc_IG(df, left, right)\n",
        "\n",
        "            if cur_IG > best_IG:\n",
        "                best_j, best_t, best_IG = j, t, cur_IG\n",
        "\n",
        "    return {'index': best_j, 'value': best_t, 'children': make_split(best_j, best_t, df)}\n",
        "\n",
        "\n",
        "def to_terminal(sample):\n",
        "    return sample[sample.columns[-1]].value_counts().index[0]\n",
        "\n",
        "\n",
        "def split_node(node, max_depth, min_size, purity, depth):\n",
        "    left, right = node['children']\n",
        "    del (node['children'])\n",
        "\n",
        "    if purity:\n",
        "        if left.value_counts().size == 1:\n",
        "            to_terminal(left)\n",
        "            return\n",
        "        if right.value_counts().size == 1:\n",
        "            to_terminal(right)\n",
        "            return\n",
        "\n",
        "    if left.empty or right.empty:\n",
        "        node['left'] = node['right'] = to_terminal(pd.concat([left, right]))\n",
        "        return\n",
        "\n",
        "    if depth >= max_depth:\n",
        "        node['left'], node['right'] = to_terminal(left), to_terminal(right)\n",
        "        return\n",
        "\n",
        "    if len(left) <= min_size:\n",
        "        node['left'] = to_terminal(left)\n",
        "    else:\n",
        "        node['left'] = get_best_split(left)\n",
        "        split_node(node['left'], max_depth, min_size, purity, depth + 1)\n",
        "\n",
        "    if len(right) <= min_size:\n",
        "        node['right'] = to_terminal(right)\n",
        "    else:\n",
        "        node['right'] = get_best_split(right)\n",
        "        split_node(node['right'], max_depth, min_size, purity, depth + 1)\n",
        "\n",
        "\n",
        "def build_tree(train, max_depth, min_size, purity):\n",
        "    root = get_best_split(train)\n",
        "    split_node(root, max_depth, min_size, purity, 1)\n",
        "    return root\n",
        "\n",
        "\n",
        "def predict_row(node, row_df):\n",
        "    if row_df[row_df.columns[node['index']]].iloc[0] < node['value']:\n",
        "        if isinstance(node['left'], dict):\n",
        "            return predict_row(node['left'], row_df)\n",
        "        else:\n",
        "            return node['left']\n",
        "    else:\n",
        "        if isinstance(node['right'], dict):\n",
        "            return predict_row(node['right'], row_df)\n",
        "        else:\n",
        "            return node['right']\n",
        "\n",
        "\n",
        "def predict_df(node, df_test):\n",
        "    y_pred = []\n",
        "    for i in range(df_test.shape[0]):\n",
        "        row_df = df_test.iloc[[i]]\n",
        "        pred_class = predict_row(node, row_df)\n",
        "\n",
        "        y_pred.append(pred_class)\n",
        "\n",
        "    return y_pred\n"
      ]
    },
    {
      "cell_type": "markdown",
      "metadata": {
        "id": "cG4X3Q0W07Nv"
      },
      "source": [
        "\n",
        "\n",
        "---\n",
        "\n"
      ]
    },
    {
      "cell_type": "markdown",
      "metadata": {
        "id": "wa2ix6CluFDZ"
      },
      "source": [
        "### Протестируем"
      ]
    },
    {
      "cell_type": "code",
      "execution_count": null,
      "metadata": {
        "id": "_sikKxxgu12A"
      },
      "outputs": [],
      "source": [
        "train_size = 120\n",
        "df_train = df.sample(train_size, random_state=42)\n",
        "df_test = df.drop(df_train.index)\n",
        "\n",
        "max_depth = 3\n",
        "min_size = 1\n",
        "tree = build_tree(df_train, max_depth, min_size, False)"
      ]
    },
    {
      "cell_type": "code",
      "execution_count": null,
      "metadata": {
        "id": "xcJy9Q7DC4vw"
      },
      "outputs": [],
      "source": [
        "accuracies = []\n",
        "for i_depth in range(1, 10):\n",
        "  tree = build_tree(df_train, i_depth, 1, False)\n",
        "\n",
        "  accuracies.append(accuracy_score(df_test[df_test.columns[-1]], predict_df(tree, df_test)))"
      ]
    },
    {
      "cell_type": "code",
      "execution_count": null,
      "metadata": {
        "colab": {
          "base_uri": "https://localhost:8080/",
          "height": 283
        },
        "id": "RDFM9FkPDT6P",
        "outputId": "fd0acaf3-4fd7-4bfa-b632-37416005d323"
      },
      "outputs": [
        {
          "data": {
            "text/plain": [
              "[<matplotlib.lines.Line2D at 0x7f11b9056bd0>]"
            ]
          },
          "execution_count": 8,
          "metadata": {},
          "output_type": "execute_result"
        },
        {
          "data": {
            "image/png": "[encoded data removed]",
            "text/plain": [
              "<Figure size 432x288 with 1 Axes>"
            ]
          },
          "metadata": {},
          "output_type": "display_data"
        }
      ],
      "source": [
        "plt.plot(range(1, 10), accuracies)"
      ]
    },
    {
      "cell_type": "markdown",
      "metadata": {
        "id": "r4GfCFZgD_G5"
      },
      "source": [
        "Таким образом, ниилучшая глубина равна **3**. Дальнейшее усложнение дерева ведет к переобучению."
      ]
    },
    {
      "cell_type": "markdown",
      "metadata": {
        "id": "e7mffGBYN8Mw"
      },
      "source": [
        "\n",
        "\n",
        "---\n",
        "\n"
      ]
    },
    {
      "cell_type": "markdown",
      "metadata": {
        "id": "BkyCjLcy_CTM"
      },
      "source": [
        "##  Случайный лес"
      ]
    },
    {
      "cell_type": "markdown",
      "metadata": {
        "id": "7fKZe1FyRgCa"
      },
      "source": [
        "Опишем алгоритм случайный лес (*random forest*) и попутно разберём основные идеи:\n",
        "\n",
        "1. Зададим $N$ - число деревьев в лесу.\n",
        "2. Для каждого $n$ из $N$ сгенерируем свою выборку $X_n$. Пусть $m$ - это количество объектов в $X$. При генерации каждой $X_n$ мы будем брать объекты $m$ раз с возвращением. То есть один и тот же объект может попасть в выборку несколько раз, а какие-то объекты не попадут. (Этот способ назвается бутстрап).\n",
        "3. По каждой $X_n$ построим решающее дерево $b_n$. Обычно стараются делать глубокие деревья. В качестве критериев остановки можно использовать `max_depth` или `min_samples_leaf` (например, пока в каждом листе не окажется по одному объекту). При каждом разбиении сначала выбирается $k$ (эвристика $k = \\sqrt d$, где $d$ - это число признаков объектов из выборки $X$) случайных признаков из исходных, и оптимальное разделение выборки ищется только среди них. Обратите внимание, что мы не выбрасываем оставшиеся признаки!\n",
        "4. Итоговый алгоритм будет представлять собой результат голосования (для классификации, бэггинг) и среднее арифметическое (для регрессии). Модификация алгоритма предполагает учёт весов каждого отдельного слабого алгоритма в ансамбле, но в этом особо нет смысла.\n"
      ]
    },
    {
      "cell_type": "markdown",
      "metadata": {
        "id": "YJBQ8lc0WyrN"
      },
      "source": [
        "### Задание 4.2"
      ]
    },
    {
      "cell_type": "markdown",
      "metadata": {
        "id": "y594Jn04ZTCm"
      },
      "source": [
        "В качестве набора данных используйте: https://www.kaggle.com/mathchi/churn-for-bank-customers\n",
        "\n",
        "Там есть описание и примеры работы с этими данными. Если кратко, речь идёт про задачу прогнозирования оттока клиентов. Есть данные о 10 тысячах клиентов банка, часть из которых больше не являются клиентами."
      ]
    },
    {
      "cell_type": "markdown",
      "metadata": {
        "id": "be_mLbdVW2oG"
      },
      "source": [
        "Используя либо свою реализацию, либо  `DecisionTreeClassifier` с разными настройками из `sklearn.tree` реализйте алгоритм \"случайный лес\". \n",
        "\n",
        "Найдите наилучшие гиперпараметры этого алгоритма: количество деревьев, критерий остановки, функционал качества, минимальное количество объектов в листьях и другие.\n",
        "\n",
        "Нельзя использовать готовую реализацию случайного леса из `sklearn`.\n",
        "\n",
        "В подобных задачах очень важна интерпретируемость алгоритма. Попытайтесь оценить информативность признаков, т.е. ответить а вопрос, значения каких признаков являются самыми важными индикаторами того, что банк потеряет клиента."
      ]
    },
    {
      "cell_type": "code",
      "execution_count": null,
      "metadata": {
        "id": "EU87VVYKOtfC"
      },
      "outputs": [],
      "source": [
        "from sklearn.tree import DecisionTreeClassifier\n",
        "from sklearn.preprocessing import StandardScaler\n",
        "import math"
      ]
    },
    {
      "cell_type": "code",
      "execution_count": null,
      "metadata": {
        "colab": {
          "base_uri": "https://localhost:8080/"
        },
        "id": "LuNr9-qXMx-O",
        "outputId": "b4893f99-7862-4789-bb85-4cfff54b0cb6"
      },
      "outputs": [
        {
          "name": "stdout",
          "output_type": "stream",
          "text": [
            "Drive already mounted at /content/drive; to attempt to forcibly remount, call drive.mount(\"/content/drive\", force_remount=True).\n"
          ]
        }
      ],
      "source": [
        "from google.colab import drive\n",
        "drive.mount('/content/drive')"
      ]
    },
    {
      "cell_type": "code",
      "execution_count": null,
      "metadata": {
        "colab": {
          "base_uri": "https://localhost:8080/",
          "height": 226
        },
        "id": "d8ajscx1M0EK",
        "outputId": "ff12a8c0-7a39-46c3-cb6a-c0f951137bb3"
      },
      "outputs": [
        {
          "data": {
            "text/html": [
              "<div>\n",
              "<style scoped>\n",
              "    .dataframe tbody tr th:only-of-type {\n",
              "        vertical-align: middle;\n",
              "    }\n",
              "\n",
              "    .dataframe tbody tr th {\n",
              "        vertical-align: top;\n",
              "    }\n",
              "\n",
              "    .dataframe thead th {\n",
              "        text-align: right;\n",
              "    }\n",
              "</style>\n",
              "<table border=\"1\" class=\"dataframe\">\n",
              "  <thead>\n",
              "    <tr style=\"text-align: right;\">\n",
              "      <th></th>\n",
              "      <th>RowNumber</th>\n",
              "      <th>CustomerId</th>\n",
              "      <th>Surname</th>\n",
              "      <th>CreditScore</th>\n",
              "      <th>Geography</th>\n",
              "      <th>Gender</th>\n",
              "      <th>Age</th>\n",
              "      <th>Tenure</th>\n",
              "      <th>Balance</th>\n",
              "      <th>NumOfProducts</th>\n",
              "      <th>HasCrCard</th>\n",
              "      <th>IsActiveMember</th>\n",
              "      <th>EstimatedSalary</th>\n",
              "      <th>Exited</th>\n",
              "    </tr>\n",
              "  </thead>\n",
              "  <tbody>\n",
              "    <tr>\n",
              "      <th>1955</th>\n",
              "      <td>1956</td>\n",
              "      <td>15779176</td>\n",
              "      <td>Dike</td>\n",
              "      <td>565</td>\n",
              "      <td>Germany</td>\n",
              "      <td>Female</td>\n",
              "      <td>58</td>\n",
              "      <td>3</td>\n",
              "      <td>108888.24</td>\n",
              "      <td>3</td>\n",
              "      <td>0</td>\n",
              "      <td>1</td>\n",
              "      <td>135875.51</td>\n",
              "      <td>1</td>\n",
              "    </tr>\n",
              "    <tr>\n",
              "      <th>8233</th>\n",
              "      <td>8234</td>\n",
              "      <td>15589019</td>\n",
              "      <td>Morant</td>\n",
              "      <td>633</td>\n",
              "      <td>Spain</td>\n",
              "      <td>Female</td>\n",
              "      <td>33</td>\n",
              "      <td>4</td>\n",
              "      <td>92855.02</td>\n",
              "      <td>1</td>\n",
              "      <td>1</td>\n",
              "      <td>1</td>\n",
              "      <td>159813.18</td>\n",
              "      <td>0</td>\n",
              "    </tr>\n",
              "    <tr>\n",
              "      <th>156</th>\n",
              "      <td>157</td>\n",
              "      <td>15655007</td>\n",
              "      <td>Li</td>\n",
              "      <td>758</td>\n",
              "      <td>France</td>\n",
              "      <td>Female</td>\n",
              "      <td>33</td>\n",
              "      <td>7</td>\n",
              "      <td>0.00</td>\n",
              "      <td>2</td>\n",
              "      <td>0</td>\n",
              "      <td>0</td>\n",
              "      <td>82996.47</td>\n",
              "      <td>0</td>\n",
              "    </tr>\n",
              "    <tr>\n",
              "      <th>8623</th>\n",
              "      <td>8624</td>\n",
              "      <td>15666197</td>\n",
              "      <td>Boni</td>\n",
              "      <td>430</td>\n",
              "      <td>Germany</td>\n",
              "      <td>Female</td>\n",
              "      <td>38</td>\n",
              "      <td>8</td>\n",
              "      <td>153058.64</td>\n",
              "      <td>1</td>\n",
              "      <td>1</td>\n",
              "      <td>0</td>\n",
              "      <td>99377.27</td>\n",
              "      <td>0</td>\n",
              "    </tr>\n",
              "    <tr>\n",
              "      <th>6962</th>\n",
              "      <td>6963</td>\n",
              "      <td>15683892</td>\n",
              "      <td>Fraser</td>\n",
              "      <td>677</td>\n",
              "      <td>Germany</td>\n",
              "      <td>Female</td>\n",
              "      <td>26</td>\n",
              "      <td>3</td>\n",
              "      <td>102395.79</td>\n",
              "      <td>1</td>\n",
              "      <td>1</td>\n",
              "      <td>0</td>\n",
              "      <td>119368.99</td>\n",
              "      <td>0</td>\n",
              "    </tr>\n",
              "  </tbody>\n",
              "</table>\n",
              "</div>"
            ],
            "text/plain": [
              "      RowNumber  CustomerId Surname  ...  IsActiveMember EstimatedSalary Exited\n",
              "1955       1956    15779176    Dike  ...               1       135875.51      1\n",
              "8233       8234    15589019  Morant  ...               1       159813.18      0\n",
              "156         157    15655007      Li  ...               0        82996.47      0\n",
              "8623       8624    15666197    Boni  ...               0        99377.27      0\n",
              "6962       6963    15683892  Fraser  ...               0       119368.99      0\n",
              "\n",
              "[5 rows x 14 columns]"
            ]
          },
          "execution_count": 11,
          "metadata": {},
          "output_type": "execute_result"
        }
      ],
      "source": [
        "churn = pd.read_csv('/content/drive/MyDrive/!ITMO/ML/Data/churn.csv')\n",
        "churn.sample(5, random_state=2021)"
      ]
    },
    {
      "cell_type": "markdown",
      "metadata": {
        "id": "3P1WariAYgof"
      },
      "source": [
        "### Проанализируем данные"
      ]
    },
    {
      "cell_type": "code",
      "execution_count": null,
      "metadata": {
        "id": "BxljAoU6VZTM"
      },
      "outputs": [],
      "source": [
        "# numeric features\n",
        "num_cols = [\n",
        "    #'RowNumber', from the data description - this column is useless\n",
        "    #'CustomerId', from the data description - this column is useless\n",
        "    'CreditScore',\n",
        "    'Age',\n",
        "    'Tenure',\n",
        "    'Balance',\n",
        "    'NumOfProducts',\n",
        "    'HasCrCard',\n",
        "    'IsActiveMember',\n",
        "    'EstimatedSalary'\n",
        "]\n",
        "\n",
        "# categorical features\n",
        "cat_cols = [\n",
        "    # 'Surname', from the data description - this column is useless\n",
        "    'Geography',\n",
        "    'Gender'\n",
        "]\n",
        "\n",
        "feature_cols = num_cols + cat_cols\n",
        "target_col = 'Exited'"
      ]
    },
    {
      "cell_type": "code",
      "execution_count": null,
      "metadata": {
        "colab": {
          "base_uri": "https://localhost:8080/",
          "height": 320
        },
        "id": "6d94sajdYoBv",
        "outputId": "d5802c89-6d68-48a8-950d-b3fc31f22a01"
      },
      "outputs": [
        {
          "data": {
            "text/html": [
              "<div>\n",
              "<style scoped>\n",
              "    .dataframe tbody tr th:only-of-type {\n",
              "        vertical-align: middle;\n",
              "    }\n",
              "\n",
              "    .dataframe tbody tr th {\n",
              "        vertical-align: top;\n",
              "    }\n",
              "\n",
              "    .dataframe thead th {\n",
              "        text-align: right;\n",
              "    }\n",
              "</style>\n",
              "<table border=\"1\" class=\"dataframe\">\n",
              "  <thead>\n",
              "    <tr style=\"text-align: right;\">\n",
              "      <th></th>\n",
              "      <th>RowNumber</th>\n",
              "      <th>CustomerId</th>\n",
              "      <th>CreditScore</th>\n",
              "      <th>Age</th>\n",
              "      <th>Tenure</th>\n",
              "      <th>Balance</th>\n",
              "      <th>NumOfProducts</th>\n",
              "      <th>HasCrCard</th>\n",
              "      <th>IsActiveMember</th>\n",
              "      <th>EstimatedSalary</th>\n",
              "      <th>Exited</th>\n",
              "    </tr>\n",
              "  </thead>\n",
              "  <tbody>\n",
              "    <tr>\n",
              "      <th>count</th>\n",
              "      <td>10000.00000</td>\n",
              "      <td>1.000000e+04</td>\n",
              "      <td>10000.000000</td>\n",
              "      <td>10000.000000</td>\n",
              "      <td>10000.000000</td>\n",
              "      <td>10000.000000</td>\n",
              "      <td>10000.000000</td>\n",
              "      <td>10000.00000</td>\n",
              "      <td>10000.000000</td>\n",
              "      <td>10000.000000</td>\n",
              "      <td>10000.000000</td>\n",
              "    </tr>\n",
              "    <tr>\n",
              "      <th>mean</th>\n",
              "      <td>5000.50000</td>\n",
              "      <td>1.569094e+07</td>\n",
              "      <td>650.528800</td>\n",
              "      <td>38.921800</td>\n",
              "      <td>5.012800</td>\n",
              "      <td>76485.889288</td>\n",
              "      <td>1.530200</td>\n",
              "      <td>0.70550</td>\n",
              "      <td>0.515100</td>\n",
              "      <td>100090.239881</td>\n",
              "      <td>0.203700</td>\n",
              "    </tr>\n",
              "    <tr>\n",
              "      <th>std</th>\n",
              "      <td>2886.89568</td>\n",
              "      <td>7.193619e+04</td>\n",
              "      <td>96.653299</td>\n",
              "      <td>10.487806</td>\n",
              "      <td>2.892174</td>\n",
              "      <td>62397.405202</td>\n",
              "      <td>0.581654</td>\n",
              "      <td>0.45584</td>\n",
              "      <td>0.499797</td>\n",
              "      <td>57510.492818</td>\n",
              "      <td>0.402769</td>\n",
              "    </tr>\n",
              "    <tr>\n",
              "      <th>min</th>\n",
              "      <td>1.00000</td>\n",
              "      <td>1.556570e+07</td>\n",
              "      <td>350.000000</td>\n",
              "      <td>18.000000</td>\n",
              "      <td>0.000000</td>\n",
              "      <td>0.000000</td>\n",
              "      <td>1.000000</td>\n",
              "      <td>0.00000</td>\n",
              "      <td>0.000000</td>\n",
              "      <td>11.580000</td>\n",
              "      <td>0.000000</td>\n",
              "    </tr>\n",
              "    <tr>\n",
              "      <th>25%</th>\n",
              "      <td>2500.75000</td>\n",
              "      <td>1.562853e+07</td>\n",
              "      <td>584.000000</td>\n",
              "      <td>32.000000</td>\n",
              "      <td>3.000000</td>\n",
              "      <td>0.000000</td>\n",
              "      <td>1.000000</td>\n",
              "      <td>0.00000</td>\n",
              "      <td>0.000000</td>\n",
              "      <td>51002.110000</td>\n",
              "      <td>0.000000</td>\n",
              "    </tr>\n",
              "    <tr>\n",
              "      <th>50%</th>\n",
              "      <td>5000.50000</td>\n",
              "      <td>1.569074e+07</td>\n",
              "      <td>652.000000</td>\n",
              "      <td>37.000000</td>\n",
              "      <td>5.000000</td>\n",
              "      <td>97198.540000</td>\n",
              "      <td>1.000000</td>\n",
              "      <td>1.00000</td>\n",
              "      <td>1.000000</td>\n",
              "      <td>100193.915000</td>\n",
              "      <td>0.000000</td>\n",
              "    </tr>\n",
              "    <tr>\n",
              "      <th>75%</th>\n",
              "      <td>7500.25000</td>\n",
              "      <td>1.575323e+07</td>\n",
              "      <td>718.000000</td>\n",
              "      <td>44.000000</td>\n",
              "      <td>7.000000</td>\n",
              "      <td>127644.240000</td>\n",
              "      <td>2.000000</td>\n",
              "      <td>1.00000</td>\n",
              "      <td>1.000000</td>\n",
              "      <td>149388.247500</td>\n",
              "      <td>0.000000</td>\n",
              "    </tr>\n",
              "    <tr>\n",
              "      <th>max</th>\n",
              "      <td>10000.00000</td>\n",
              "      <td>1.581569e+07</td>\n",
              "      <td>850.000000</td>\n",
              "      <td>92.000000</td>\n",
              "      <td>10.000000</td>\n",
              "      <td>250898.090000</td>\n",
              "      <td>4.000000</td>\n",
              "      <td>1.00000</td>\n",
              "      <td>1.000000</td>\n",
              "      <td>199992.480000</td>\n",
              "      <td>1.000000</td>\n",
              "    </tr>\n",
              "  </tbody>\n",
              "</table>\n",
              "</div>"
            ],
            "text/plain": [
              "         RowNumber    CustomerId  ...  EstimatedSalary        Exited\n",
              "count  10000.00000  1.000000e+04  ...     10000.000000  10000.000000\n",
              "mean    5000.50000  1.569094e+07  ...    100090.239881      0.203700\n",
              "std     2886.89568  7.193619e+04  ...     57510.492818      0.402769\n",
              "min        1.00000  1.556570e+07  ...        11.580000      0.000000\n",
              "25%     2500.75000  1.562853e+07  ...     51002.110000      0.000000\n",
              "50%     5000.50000  1.569074e+07  ...    100193.915000      0.000000\n",
              "75%     7500.25000  1.575323e+07  ...    149388.247500      0.000000\n",
              "max    10000.00000  1.581569e+07  ...    199992.480000      1.000000\n",
              "\n",
              "[8 rows x 11 columns]"
            ]
          },
          "execution_count": 13,
          "metadata": {},
          "output_type": "execute_result"
        }
      ],
      "source": [
        "churn.describe()"
      ]
    },
    {
      "cell_type": "code",
      "execution_count": null,
      "metadata": {
        "colab": {
          "base_uri": "https://localhost:8080/"
        },
        "id": "vkni9fx3W2Sf",
        "outputId": "cb355f4d-b999-4857-ae51-bdfb4c4c9b5a"
      },
      "outputs": [
        {
          "name": "stdout",
          "output_type": "stream",
          "text": [
            "<class 'pandas.core.frame.DataFrame'>\n",
            "RangeIndex: 10000 entries, 0 to 9999\n",
            "Data columns (total 14 columns):\n",
            " #   Column           Non-Null Count  Dtype  \n",
            "---  ------           --------------  -----  \n",
            " 0   RowNumber        10000 non-null  int64  \n",
            " 1   CustomerId       10000 non-null  int64  \n",
            " 2   Surname          10000 non-null  object \n",
            " 3   CreditScore      10000 non-null  int64  \n",
            " 4   Geography        10000 non-null  object \n",
            " 5   Gender           10000 non-null  object \n",
            " 6   Age              10000 non-null  int64  \n",
            " 7   Tenure           10000 non-null  int64  \n",
            " 8   Balance          10000 non-null  float64\n",
            " 9   NumOfProducts    10000 non-null  int64  \n",
            " 10  HasCrCard        10000 non-null  int64  \n",
            " 11  IsActiveMember   10000 non-null  int64  \n",
            " 12  EstimatedSalary  10000 non-null  float64\n",
            " 13  Exited           10000 non-null  int64  \n",
            "dtypes: float64(2), int64(9), object(3)\n",
            "memory usage: 1.1+ MB\n"
          ]
        }
      ],
      "source": [
        "churn.info()"
      ]
    },
    {
      "cell_type": "code",
      "execution_count": null,
      "metadata": {
        "colab": {
          "base_uri": "https://localhost:8080/"
        },
        "id": "lfjnWrp8Ywo8",
        "outputId": "2c5b6919-cdf6-4e13-ae17-d544c1ce03d2"
      },
      "outputs": [
        {
          "data": {
            "text/plain": [
              "RowNumber          0\n",
              "CustomerId         0\n",
              "Surname            0\n",
              "CreditScore        0\n",
              "Geography          0\n",
              "Gender             0\n",
              "Age                0\n",
              "Tenure             0\n",
              "Balance            0\n",
              "NumOfProducts      0\n",
              "HasCrCard          0\n",
              "IsActiveMember     0\n",
              "EstimatedSalary    0\n",
              "Exited             0\n",
              "dtype: int64"
            ]
          },
          "execution_count": 15,
          "metadata": {},
          "output_type": "execute_result"
        }
      ],
      "source": [
        "churn.isna().sum()"
      ]
    },
    {
      "cell_type": "code",
      "execution_count": null,
      "metadata": {
        "colab": {
          "base_uri": "https://localhost:8080/",
          "height": 294
        },
        "id": "vzlMqhtjYzJj",
        "outputId": "8b1f8105-1d84-40f9-d693-182654f09407"
      },
      "outputs": [
        {
          "data": {
            "image/png": "[encoded data removed]",
            "text/plain": [
              "<Figure size 720x720 with 2 Axes>"
            ]
          },
          "metadata": {},
          "output_type": "display_data"
        }
      ],
      "source": [
        "n = math.ceil(math.sqrt(len(cat_cols)))\n",
        "\n",
        "plt.figure(figsize=(10, 10))\n",
        "for i in range(0, len(cat_cols)):\n",
        "    plt.subplot(n, n, i+1)\n",
        "    plt.pie(churn[cat_cols[i]].value_counts())\n",
        "    plt.title(cat_cols[i])\n",
        "\n",
        "plt.show()"
      ]
    },
    {
      "cell_type": "markdown",
      "metadata": {
        "id": "0uhs134XaLj0"
      },
      "source": [
        "### Обработаем данные"
      ]
    },
    {
      "cell_type": "markdown",
      "metadata": {
        "id": "FU6kV1v5a9pZ"
      },
      "source": [
        "Из описания данных (https://www.kaggle.com/mathchi/churn-for-bank-customers) можем заключить, что RowNumber, CustomerId и Surname ни как не влиют на отток клиента. Исключим эти признаки."
      ]
    },
    {
      "cell_type": "code",
      "execution_count": null,
      "metadata": {
        "colab": {
          "base_uri": "https://localhost:8080/",
          "height": 163
        },
        "id": "m06qH-lEbSKD",
        "outputId": "d0506e24-a233-48fc-89cd-82c7cbd6e20b"
      },
      "outputs": [
        {
          "data": {
            "text/html": [
              "<div>\n",
              "<style scoped>\n",
              "    .dataframe tbody tr th:only-of-type {\n",
              "        vertical-align: middle;\n",
              "    }\n",
              "\n",
              "    .dataframe tbody tr th {\n",
              "        vertical-align: top;\n",
              "    }\n",
              "\n",
              "    .dataframe thead th {\n",
              "        text-align: right;\n",
              "    }\n",
              "</style>\n",
              "<table border=\"1\" class=\"dataframe\">\n",
              "  <thead>\n",
              "    <tr style=\"text-align: right;\">\n",
              "      <th></th>\n",
              "      <th>CreditScore</th>\n",
              "      <th>Geography</th>\n",
              "      <th>Gender</th>\n",
              "      <th>Age</th>\n",
              "      <th>Tenure</th>\n",
              "      <th>Balance</th>\n",
              "      <th>NumOfProducts</th>\n",
              "      <th>HasCrCard</th>\n",
              "      <th>IsActiveMember</th>\n",
              "      <th>EstimatedSalary</th>\n",
              "      <th>Exited</th>\n",
              "    </tr>\n",
              "  </thead>\n",
              "  <tbody>\n",
              "    <tr>\n",
              "      <th>0</th>\n",
              "      <td>619</td>\n",
              "      <td>France</td>\n",
              "      <td>Female</td>\n",
              "      <td>42</td>\n",
              "      <td>2</td>\n",
              "      <td>0.00</td>\n",
              "      <td>1</td>\n",
              "      <td>1</td>\n",
              "      <td>1</td>\n",
              "      <td>101348.88</td>\n",
              "      <td>1</td>\n",
              "    </tr>\n",
              "    <tr>\n",
              "      <th>1</th>\n",
              "      <td>608</td>\n",
              "      <td>Spain</td>\n",
              "      <td>Female</td>\n",
              "      <td>41</td>\n",
              "      <td>1</td>\n",
              "      <td>83807.86</td>\n",
              "      <td>1</td>\n",
              "      <td>0</td>\n",
              "      <td>1</td>\n",
              "      <td>112542.58</td>\n",
              "      <td>0</td>\n",
              "    </tr>\n",
              "    <tr>\n",
              "      <th>2</th>\n",
              "      <td>502</td>\n",
              "      <td>France</td>\n",
              "      <td>Female</td>\n",
              "      <td>42</td>\n",
              "      <td>8</td>\n",
              "      <td>159660.80</td>\n",
              "      <td>3</td>\n",
              "      <td>1</td>\n",
              "      <td>0</td>\n",
              "      <td>113931.57</td>\n",
              "      <td>1</td>\n",
              "    </tr>\n",
              "  </tbody>\n",
              "</table>\n",
              "</div>"
            ],
            "text/plain": [
              "   CreditScore Geography  Gender  ...  IsActiveMember  EstimatedSalary  Exited\n",
              "0          619    France  Female  ...               1        101348.88       1\n",
              "1          608     Spain  Female  ...               1        112542.58       0\n",
              "2          502    France  Female  ...               0        113931.57       1\n",
              "\n",
              "[3 rows x 11 columns]"
            ]
          },
          "execution_count": 17,
          "metadata": {},
          "output_type": "execute_result"
        }
      ],
      "source": [
        "df = churn.drop(columns=['RowNumber', 'CustomerId', 'Surname'])\n",
        "df.head(3)"
      ]
    },
    {
      "cell_type": "code",
      "execution_count": null,
      "metadata": {
        "id": "bFGV_AGLYkOw"
      },
      "outputs": [],
      "source": [
        "# one-hot encoding\n",
        "df = pd.get_dummies(df, prefix=cat_cols, columns=cat_cols)\n",
        "# normalize numerical features \n",
        "df[num_cols] = StandardScaler().fit(df[num_cols]).transform(df[num_cols])\n",
        "\n",
        "X = df.loc[:, df.columns != target_col]\n",
        "y = df[target_col]\n",
        "\n",
        "X_train, X_test, y_train, y_test = train_test_split(X, y, test_size=0.33, random_state=2021)"
      ]
    },
    {
      "cell_type": "markdown",
      "metadata": {
        "id": "31lkj4nTcRxf"
      },
      "source": [
        "\n",
        "\n",
        "---\n",
        "\n"
      ]
    },
    {
      "cell_type": "markdown",
      "metadata": {
        "id": "NmK9-9QDaNr7"
      },
      "source": [
        "### Реализуем RandomForest"
      ]
    },
    {
      "cell_type": "code",
      "execution_count": null,
      "metadata": {
        "id": "Tgn10IT2UAFM"
      },
      "outputs": [],
      "source": [
        "# bootstrap\n",
        "class MyRandomForest():\n",
        "  def __init__(self, N=100, criterion='entropy', max_depth=11, min_samples_leaf=2, max_features='sqrt'):\n",
        "    self.trees = []\n",
        "\n",
        "    self.N = N\n",
        "    self.criterion = criterion\n",
        "    self.max_depth = max_depth\n",
        "    self.min_samples_leaf = min_samples_leaf\n",
        "    self.max_features = max_features\n",
        "\n",
        "  def fit(self, X_train, y_train):\n",
        "    m = X_train.shape[0]\n",
        "\n",
        "    for n in range(self.N):\n",
        "      X_n = X_train.sample(n=m, replace=True) # bootstrap\n",
        "      b_n = DecisionTreeClassifier(criterion=self.criterion, \n",
        "                                  max_depth=self.max_depth, \n",
        "                                  min_samples_leaf=self.min_samples_leaf, \n",
        "                                  max_features=self.max_features)\n",
        "      b_n.fit(X_train, y_train)\n",
        "      self.trees.append(b_n)\n",
        "\n",
        "    #return self.trees.copy()\n",
        "\n",
        "  def _predict_row(self, X_row):\n",
        "    predictions = []\n",
        "\n",
        "    for i in range(len(self.trees)):\n",
        "      predictions.append(self.trees[i].predict(X_row))\n",
        "    \n",
        "    predictions_int = []\n",
        "    for a in predictions:\n",
        "      predictions_int.append(a[0])\n",
        "\n",
        "    return max(set(predictions_int), key=predictions_int.count)\n",
        "\n",
        "  def predict(self, X_test):\n",
        "    y_pred = []\n",
        "\n",
        "    for i in range(X_test.shape[0]):\n",
        "      y_pred.append(self._predict_row(X_test.iloc[[i]]) )\n",
        "      \n",
        "\n",
        "    return y_pred\n",
        "\n",
        "  def score(self, X_test, y_true):\n",
        "    y_pred = self.predict(X_test)\n",
        "\n",
        "    return accuracy_score(y_true, y_pred)"
      ]
    },
    {
      "cell_type": "markdown",
      "metadata": {
        "id": "_2da2KC1o8Vk"
      },
      "source": [
        "\n",
        "\n",
        "---\n",
        "\n"
      ]
    },
    {
      "cell_type": "markdown",
      "metadata": {
        "id": "SKV1T-PJzxfW"
      },
      "source": [
        "### Протестируем алгоритм"
      ]
    },
    {
      "cell_type": "code",
      "execution_count": null,
      "metadata": {
        "colab": {
          "base_uri": "https://localhost:8080/"
        },
        "id": "abg_Pi3DNkxZ",
        "outputId": "885936a8-1f50-419c-f1ec-fc9475a3e335"
      },
      "outputs": [
        {
          "data": {
            "text/plain": [
              "0.8563636363636363"
            ]
          },
          "execution_count": 20,
          "metadata": {},
          "output_type": "execute_result"
        }
      ],
      "source": [
        "model = MyRandomForest(N=200)\n",
        "model.fit(X_train, y_train)\n",
        "\n",
        "model.score(X_test, y_test)"
      ]
    },
    {
      "cell_type": "code",
      "execution_count": null,
      "metadata": {
        "colab": {
          "base_uri": "https://localhost:8080/"
        },
        "id": "uoPLjEjJnmRC",
        "outputId": "c597ebf9-8364-499c-939e-543bad0b5ce0"
      },
      "outputs": [
        {
          "data": {
            "text/plain": [
              "0.8518181818181818"
            ]
          },
          "execution_count": 21,
          "metadata": {},
          "output_type": "execute_result"
        }
      ],
      "source": [
        "model = MyRandomForest(N=11)\n",
        "model.fit(X_train, y_train)\n",
        "\n",
        "model.score(X_test, y_test)"
      ]
    },
    {
      "cell_type": "markdown",
      "metadata": {
        "id": "3goVP0fV0z8h"
      },
      "source": [
        "#### Настроим гиперпараметры"
      ]
    },
    {
      "cell_type": "markdown",
      "metadata": {
        "id": "w3noAK2r3Vua"
      },
      "source": [
        "N"
      ]
    },
    {
      "cell_type": "code",
      "execution_count": null,
      "metadata": {
        "colab": {
          "background_save": true
        },
        "id": "5trcukEEz8Ex"
      },
      "outputs": [],
      "source": [
        "b_N, b_score = 1, 0.0\n",
        "for i_N in range(50, 201, 50):\n",
        "  model = MyRandomForest(N=i_N)\n",
        "  model.fit(X_train, y_train)\n",
        "\n",
        "  scr = model.score(X_test, y_test)\n",
        "\n",
        "  if scr > b_score:\n",
        "    b_N, b_score = i_N, scr"
      ]
    },
    {
      "cell_type": "code",
      "execution_count": null,
      "metadata": {
        "colab": {
          "background_save": true
        },
        "id": "LLABX0SO135O",
        "outputId": "88403b56-c613-4431-9a36-dfe19f8fa639"
      },
      "outputs": [
        {
          "name": "stdout",
          "output_type": "stream",
          "text": [
            "Best number of trees N=150\n"
          ]
        }
      ],
      "source": [
        "print(f'Best number of trees N={b_N}')"
      ]
    },
    {
      "cell_type": "markdown",
      "metadata": {
        "id": "MeBg6jNj3W-J"
      },
      "source": [
        "max_depth"
      ]
    },
    {
      "cell_type": "code",
      "execution_count": null,
      "metadata": {
        "id": "d7qM3Znc2O6l"
      },
      "outputs": [],
      "source": [
        "b_max_depth, b_score = 1, 0.0\n",
        "for i_max_depth in range(2, 12, 3):\n",
        "  model = MyRandomForest(max_depth=i_max_depth)\n",
        "  model.fit(X_train, y_train)\n",
        "\n",
        "  scr = model.score(X_test, y_test)\n",
        "\n",
        "  if scr > b_score:\n",
        "    b_max_depth, b_score = i_max_depth, scr"
      ]
    },
    {
      "cell_type": "code",
      "execution_count": null,
      "metadata": {
        "colab": {
          "base_uri": "https://localhost:8080/"
        },
        "id": "ZXwAzHcd2qsJ",
        "outputId": "78b73df1-0388-404d-d898-d0891dc10791"
      },
      "outputs": [
        {
          "name": "stdout",
          "output_type": "stream",
          "text": [
            "Best max_depth=11\n"
          ]
        }
      ],
      "source": [
        "print(f'Best max_depth={b_N}')"
      ]
    },
    {
      "cell_type": "markdown",
      "metadata": {
        "id": "xepNnqex3alB"
      },
      "source": [
        "criterion"
      ]
    },
    {
      "cell_type": "code",
      "execution_count": null,
      "metadata": {
        "colab": {
          "base_uri": "https://localhost:8080/"
        },
        "id": "9AM3WzsC3aG4",
        "outputId": "1c1e8809-99f3-4431-8cec-16fa5d07afcd"
      },
      "outputs": [
        {
          "name": "stdout",
          "output_type": "stream",
          "text": [
            "Best criterion is entropy\n"
          ]
        }
      ],
      "source": [
        "#gini\n",
        "model = MyRandomForest(criterion='gini')\n",
        "model.fit(X_train, y_train)\n",
        "scr_gini = model.score(X_test, y_test)\n",
        "\n",
        "#entropy\n",
        "model = MyRandomForest(criterion='entropy')\n",
        "model.fit(X_train, y_train)\n",
        "scr_entropy = model.score(X_test, y_test)\n",
        "\n",
        "if scr_gini >= scr_entropy:\n",
        "  print('Best criterion is gini')\n",
        "else:\n",
        "  print('Best criterion is entropy')"
      ]
    },
    {
      "cell_type": "markdown",
      "metadata": {
        "id": "clui9lRG5KEw"
      },
      "source": [
        "### Интерпретация"
      ]
    },
    {
      "cell_type": "markdown",
      "metadata": {
        "id": "DnBVqC8I5Qwb"
      },
      "source": [
        "Будем удалять признаки по одному и смотреть влияние на accuracy"
      ]
    },
    {
      "cell_type": "code",
      "execution_count": null,
      "metadata": {
        "id": "PIRf5tzO5OEo"
      },
      "outputs": [],
      "source": [
        "model = MyRandomForest()\n",
        "model.fit(X_train, y_train)\n",
        "\n",
        "score_all_features = model.score(X_test, y_test)"
      ]
    },
    {
      "cell_type": "code",
      "execution_count": null,
      "metadata": {
        "id": "UhcIaUuZ7HAK"
      },
      "outputs": [],
      "source": [
        "b_feature, b_min_score_diff = '', score_all_features + 1\n",
        "for i_cl in range(len(X_train.columns)):\n",
        "  X_train_dropped = X_train.drop(columns=[X_train.columns[i_cl]])\n",
        "  X_test_dropped = X_test.drop(columns=[X_test.columns[i_cl]])\n",
        "\n",
        "  model = MyRandomForest()\n",
        "  model.fit(X_train_dropped, y_train)\n",
        "\n",
        "  scr = model.score(X_test_dropped, y_test)\n",
        "\n",
        "  # check how they close to each other\n",
        "  if (score_all_features - scr) < b_min_score_diff:\n",
        "    b_feature = i_cl\n",
        "    b_min_score_diff = score_all_features - scr\n"
      ]
    },
    {
      "cell_type": "code",
      "execution_count": null,
      "metadata": {
        "colab": {
          "base_uri": "https://localhost:8080/"
        },
        "id": "o1fwGXCX8EsQ",
        "outputId": "9542904a-4da7-4eef-e9e0-7be4cc733084"
      },
      "outputs": [
        {
          "name": "stdout",
          "output_type": "stream",
          "text": [
            "The most inportant feature is HasCrCard\n"
          ]
        }
      ],
      "source": [
        "print(f'The most inportant feature is {X_train.columns[b_feature]}')"
      ]
    }
  ],
  "metadata": {
    "colab": {
      "name": "Smirnov_DT_test.ipynb",
      "provenance": [],
      "toc_visible": true
    },
    "kernelspec": {
      "display_name": "Python 3",
      "name": "python3"
    }
  },
  "nbformat": 4,
  "nbformat_minor": 0
}