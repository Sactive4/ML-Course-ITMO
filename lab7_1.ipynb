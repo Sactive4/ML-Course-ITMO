{
  "nbformat": 4,
  "nbformat_minor": 0,
  "metadata": {
    "colab": {
      "name": "test 7.1 pytorch tasks.ipynb",
      "provenance": [],
      "collapsed_sections": []
    },
    "kernelspec": {
      "display_name": "Python 3",
      "language": "python",
      "name": "python3"
    },
    "language_info": {
      "codemirror_mode": {
        "name": "ipython",
        "version": 3
      },
      "file_extension": ".py",
      "mimetype": "text/x-python",
      "name": "python",
      "nbconvert_exporter": "python",
      "pygments_lexer": "ipython3",
      "version": "3.6.5"
    },
    "accelerator": "GPU"
  },
  "cells": [
    {
      "cell_type": "markdown",
      "metadata": {
        "id": "vcnGdgw_YJ8u"
      },
      "source": [
        "# PyTorch. Основы: синтаксис, torch.cuda и torch.autograd\n",
        "\n",
        "## Задание 7.1"
      ]
    },
    {
      "cell_type": "code",
      "metadata": {
        "id": "RtyozNmmYJ89"
      },
      "source": [
        "import torch\n",
        "import matplotlib.pyplot as plt\n",
        "from torch.autograd import Variable"
      ],
      "execution_count": null,
      "outputs": []
    },
    {
      "cell_type": "markdown",
      "metadata": {
        "id": "ny4-Qi2wYJ-6"
      },
      "source": [
        "### Задача 1"
      ]
    },
    {
      "cell_type": "markdown",
      "metadata": {
        "id": "IWxlFq0bYJ-_"
      },
      "source": [
        "1). Создайте два вещественных тензора: `a` размером (3, 4) и `b` размером (12,)   \n",
        "2). Создайте тензор `c`, являющийся тензором `b`, но размера (2, 2, 3)  \n",
        "3). Выведите первый столбец матрицы `a` с помощью индексации"
      ]
    },
    {
      "cell_type": "markdown",
      "source": [
        "1)"
      ],
      "metadata": {
        "id": "GJX86I81bpMG"
      }
    },
    {
      "cell_type": "code",
      "metadata": {
        "id": "3oxZuk3yYJ_A",
        "colab": {
          "base_uri": "https://localhost:8080/"
        },
        "outputId": "8b014547-582f-4a79-d377-f53211888f70"
      },
      "source": [
        "a = torch.randn((3,4)).uniform_(0, 1) # Равномерно U[0, 1]\n",
        "a.shape"
      ],
      "execution_count": null,
      "outputs": [
        {
          "output_type": "execute_result",
          "data": {
            "text/plain": [
              "torch.Size([3, 4])"
            ]
          },
          "metadata": {},
          "execution_count": 84
        }
      ]
    },
    {
      "cell_type": "code",
      "source": [
        "b = torch.randn(12).normal_(mean=0, std=1) # Нормальное со средним 0 и дисперсией 1\n",
        "b.shape"
      ],
      "metadata": {
        "colab": {
          "base_uri": "https://localhost:8080/"
        },
        "id": "4gld-PqsZ_Xc",
        "outputId": "3a481ff4-b44d-4bfe-d779-8313caca4b0e"
      },
      "execution_count": null,
      "outputs": [
        {
          "output_type": "execute_result",
          "data": {
            "text/plain": [
              "torch.Size([12])"
            ]
          },
          "metadata": {},
          "execution_count": 85
        }
      ]
    },
    {
      "cell_type": "markdown",
      "source": [
        "2)"
      ],
      "metadata": {
        "id": "WNywctQvbr7W"
      }
    },
    {
      "cell_type": "code",
      "source": [
        "c = b.view(2, 2, 3)\n",
        "c.shape"
      ],
      "metadata": {
        "colab": {
          "base_uri": "https://localhost:8080/"
        },
        "id": "y7ypzrg_aYkI",
        "outputId": "70bb359d-b7fb-4687-b2ec-e68eae6afc89"
      },
      "execution_count": null,
      "outputs": [
        {
          "output_type": "execute_result",
          "data": {
            "text/plain": [
              "torch.Size([2, 2, 3])"
            ]
          },
          "metadata": {},
          "execution_count": 86
        }
      ]
    },
    {
      "cell_type": "markdown",
      "source": [
        "3)"
      ],
      "metadata": {
        "id": "Bxi2fyItbtjO"
      }
    },
    {
      "cell_type": "code",
      "source": [
        "[row[0].item() for row in a]"
      ],
      "metadata": {
        "colab": {
          "base_uri": "https://localhost:8080/"
        },
        "id": "N5e1LZYma5VI",
        "outputId": "62a0b1dd-ae09-4a49-b437-d8d508ebb4ee"
      },
      "execution_count": null,
      "outputs": [
        {
          "output_type": "execute_result",
          "data": {
            "text/plain": [
              "[0.8692784905433655, 0.18888121843338013, 0.37925535440444946]"
            ]
          },
          "metadata": {},
          "execution_count": 87
        }
      ]
    },
    {
      "cell_type": "markdown",
      "metadata": {
        "id": "D2IP_FrKYKAA"
      },
      "source": [
        "### Задача 2"
      ]
    },
    {
      "cell_type": "markdown",
      "metadata": {
        "id": "tBZFbSYQYKAA"
      },
      "source": [
        "1). Создайте два вещественных тензора: `a` размером (5, 2) и `b` размером (1,10)   \n",
        "2). Создайте тензор `c`, являющийся тензором `b`, но размера (5, 2)  \n",
        "3). Произведите все арифметические операции с тензорами `a` и `c`"
      ]
    },
    {
      "cell_type": "markdown",
      "source": [
        "1)"
      ],
      "metadata": {
        "id": "4bFE721FfieG"
      }
    },
    {
      "cell_type": "code",
      "metadata": {
        "id": "hzs2bH3GYKAB"
      },
      "source": [
        "a_2 = torch.FloatTensor([\n",
        "                         [1.1, 2.2],\n",
        "                         [3, 4],\n",
        "                         [5, 6],\n",
        "                         [7, 8],\n",
        "                         [9, 10]\n",
        "])\n",
        "b_2 = torch.FloatTensor([-1.1, -2.2, -3, -4, -5, -6, -7, -8, -9, -10])"
      ],
      "execution_count": null,
      "outputs": []
    },
    {
      "cell_type": "markdown",
      "source": [
        "2) "
      ],
      "metadata": {
        "id": "Y0xql-x2fmlO"
      }
    },
    {
      "cell_type": "code",
      "source": [
        "c_2 = b_2.view(5, 2)\n",
        "c_2"
      ],
      "metadata": {
        "colab": {
          "base_uri": "https://localhost:8080/"
        },
        "id": "J4B4hXAhcSGp",
        "outputId": "874ac0c5-7a52-462f-93ae-cdacb26dac5d"
      },
      "execution_count": null,
      "outputs": [
        {
          "output_type": "execute_result",
          "data": {
            "text/plain": [
              "tensor([[ -1.1000,  -2.2000],\n",
              "        [ -3.0000,  -4.0000],\n",
              "        [ -5.0000,  -6.0000],\n",
              "        [ -7.0000,  -8.0000],\n",
              "        [ -9.0000, -10.0000]])"
            ]
          },
          "metadata": {},
          "execution_count": 89
        }
      ]
    },
    {
      "cell_type": "markdown",
      "source": [
        "3)"
      ],
      "metadata": {
        "id": "EQ-Pee_bfwj2"
      }
    },
    {
      "cell_type": "markdown",
      "source": [
        "| операция | аналоги |\n",
        "|:-:|:-:|\n",
        "|`+`| `torch.add()` |\n",
        "|`-`| `torch.sub()` |\n",
        "|`*`| `torch.mul()` |\n",
        "|`/`| `torch.div()` |"
      ],
      "metadata": {
        "id": "PHX4j531f37y"
      }
    },
    {
      "cell_type": "markdown",
      "source": [
        "Сложение"
      ],
      "metadata": {
        "id": "02OSoh4phcL0"
      }
    },
    {
      "cell_type": "code",
      "source": [
        "print(a_2, '\\n', c_2)"
      ],
      "metadata": {
        "colab": {
          "base_uri": "https://localhost:8080/"
        },
        "id": "NiAGwFbQfxSO",
        "outputId": "56dce817-ce85-4cf1-8a4d-281fdaca98ee"
      },
      "execution_count": null,
      "outputs": [
        {
          "output_type": "stream",
          "name": "stdout",
          "text": [
            "tensor([[ 1.1000,  2.2000],\n",
            "        [ 3.0000,  4.0000],\n",
            "        [ 5.0000,  6.0000],\n",
            "        [ 7.0000,  8.0000],\n",
            "        [ 9.0000, 10.0000]]) \n",
            " tensor([[ -1.1000,  -2.2000],\n",
            "        [ -3.0000,  -4.0000],\n",
            "        [ -5.0000,  -6.0000],\n",
            "        [ -7.0000,  -8.0000],\n",
            "        [ -9.0000, -10.0000]])\n"
          ]
        }
      ]
    },
    {
      "cell_type": "code",
      "source": [
        "a_2 + c_2"
      ],
      "metadata": {
        "colab": {
          "base_uri": "https://localhost:8080/"
        },
        "id": "qvUb-P-MgLm2",
        "outputId": "ad3bf6a7-45e4-4ad4-ddbc-cd22bc4e0c04"
      },
      "execution_count": null,
      "outputs": [
        {
          "output_type": "execute_result",
          "data": {
            "text/plain": [
              "tensor([[0., 0.],\n",
              "        [0., 0.],\n",
              "        [0., 0.],\n",
              "        [0., 0.],\n",
              "        [0., 0.]])"
            ]
          },
          "metadata": {},
          "execution_count": 91
        }
      ]
    },
    {
      "cell_type": "code",
      "source": [
        "a_2.add(c_2)"
      ],
      "metadata": {
        "colab": {
          "base_uri": "https://localhost:8080/"
        },
        "id": "YgSAC70UgUl2",
        "outputId": "e291cc55-c5db-4180-9fd5-c6ad397e4e99"
      },
      "execution_count": null,
      "outputs": [
        {
          "output_type": "execute_result",
          "data": {
            "text/plain": [
              "tensor([[0., 0.],\n",
              "        [0., 0.],\n",
              "        [0., 0.],\n",
              "        [0., 0.],\n",
              "        [0., 0.]])"
            ]
          },
          "metadata": {},
          "execution_count": 92
        }
      ]
    },
    {
      "cell_type": "markdown",
      "source": [
        "Вычитание"
      ],
      "metadata": {
        "id": "j-IdMh9Ehe5d"
      }
    },
    {
      "cell_type": "code",
      "source": [
        "a_2 - c_2"
      ],
      "metadata": {
        "colab": {
          "base_uri": "https://localhost:8080/"
        },
        "id": "ABrdoTpxgW5m",
        "outputId": "2cc63d1a-e62a-4efe-bebe-813af06cf7b4"
      },
      "execution_count": null,
      "outputs": [
        {
          "output_type": "execute_result",
          "data": {
            "text/plain": [
              "tensor([[ 2.2000,  4.4000],\n",
              "        [ 6.0000,  8.0000],\n",
              "        [10.0000, 12.0000],\n",
              "        [14.0000, 16.0000],\n",
              "        [18.0000, 20.0000]])"
            ]
          },
          "metadata": {},
          "execution_count": 93
        }
      ]
    },
    {
      "cell_type": "code",
      "source": [
        "a_2.sub(c_2) # copy (don't change a_2)\n",
        "# a_2.sub_(c_2) # inpalce (change a_2)"
      ],
      "metadata": {
        "colab": {
          "base_uri": "https://localhost:8080/"
        },
        "id": "P4aNmTDphgT9",
        "outputId": "256362b7-d081-47d6-8cd8-91911168fa4b"
      },
      "execution_count": null,
      "outputs": [
        {
          "output_type": "execute_result",
          "data": {
            "text/plain": [
              "tensor([[ 2.2000,  4.4000],\n",
              "        [ 6.0000,  8.0000],\n",
              "        [10.0000, 12.0000],\n",
              "        [14.0000, 16.0000],\n",
              "        [18.0000, 20.0000]])"
            ]
          },
          "metadata": {},
          "execution_count": 94
        }
      ]
    },
    {
      "cell_type": "markdown",
      "source": [
        "Умножение (поэлементное)"
      ],
      "metadata": {
        "id": "7vNNi_YJh9mI"
      }
    },
    {
      "cell_type": "code",
      "source": [
        "a_2 * c_2"
      ],
      "metadata": {
        "colab": {
          "base_uri": "https://localhost:8080/"
        },
        "id": "-_vaHBD3h_yY",
        "outputId": "321f8495-bf1a-440b-dc2e-e5cedfcae2f9"
      },
      "execution_count": null,
      "outputs": [
        {
          "output_type": "execute_result",
          "data": {
            "text/plain": [
              "tensor([[  -1.2100,   -4.8400],\n",
              "        [  -9.0000,  -16.0000],\n",
              "        [ -25.0000,  -36.0000],\n",
              "        [ -49.0000,  -64.0000],\n",
              "        [ -81.0000, -100.0000]])"
            ]
          },
          "metadata": {},
          "execution_count": 95
        }
      ]
    },
    {
      "cell_type": "code",
      "source": [
        "a_2.mul(c_2)"
      ],
      "metadata": {
        "colab": {
          "base_uri": "https://localhost:8080/"
        },
        "id": "QSHSZxBIiB5H",
        "outputId": "9f414048-ceeb-4b92-af17-46d6720f3de1"
      },
      "execution_count": null,
      "outputs": [
        {
          "output_type": "execute_result",
          "data": {
            "text/plain": [
              "tensor([[  -1.2100,   -4.8400],\n",
              "        [  -9.0000,  -16.0000],\n",
              "        [ -25.0000,  -36.0000],\n",
              "        [ -49.0000,  -64.0000],\n",
              "        [ -81.0000, -100.0000]])"
            ]
          },
          "metadata": {},
          "execution_count": 96
        }
      ]
    },
    {
      "cell_type": "markdown",
      "source": [
        "Деление (поэлементное)"
      ],
      "metadata": {
        "id": "Pl8ujTCOiEov"
      }
    },
    {
      "cell_type": "code",
      "source": [
        "a_2 / c_2"
      ],
      "metadata": {
        "colab": {
          "base_uri": "https://localhost:8080/"
        },
        "id": "7LW-tI3HiGoH",
        "outputId": "dbe86978-d864-40e3-e9b0-43a5b6cd7435"
      },
      "execution_count": null,
      "outputs": [
        {
          "output_type": "execute_result",
          "data": {
            "text/plain": [
              "tensor([[-1., -1.],\n",
              "        [-1., -1.],\n",
              "        [-1., -1.],\n",
              "        [-1., -1.],\n",
              "        [-1., -1.]])"
            ]
          },
          "metadata": {},
          "execution_count": 97
        }
      ]
    },
    {
      "cell_type": "code",
      "source": [
        "a_2.div(c_2)"
      ],
      "metadata": {
        "colab": {
          "base_uri": "https://localhost:8080/"
        },
        "id": "8uqViGFKiKLn",
        "outputId": "6d2a2e9d-85dd-4a9c-c424-35bd951c08f5"
      },
      "execution_count": null,
      "outputs": [
        {
          "output_type": "execute_result",
          "data": {
            "text/plain": [
              "tensor([[-1., -1.],\n",
              "        [-1., -1.],\n",
              "        [-1., -1.],\n",
              "        [-1., -1.],\n",
              "        [-1., -1.]])"
            ]
          },
          "metadata": {},
          "execution_count": 98
        }
      ]
    },
    {
      "cell_type": "markdown",
      "metadata": {
        "id": "rIaroFO6YKBT"
      },
      "source": [
        "### Задача 3"
      ]
    },
    {
      "cell_type": "code",
      "source": [
        "a_2"
      ],
      "metadata": {
        "colab": {
          "base_uri": "https://localhost:8080/"
        },
        "id": "cbL99x2UlqtE",
        "outputId": "c6d0a069-ad15-49fc-885a-e0b52487c9c9"
      },
      "execution_count": null,
      "outputs": [
        {
          "output_type": "execute_result",
          "data": {
            "text/plain": [
              "tensor([[ 1.1000,  2.2000],\n",
              "        [ 3.0000,  4.0000],\n",
              "        [ 5.0000,  6.0000],\n",
              "        [ 7.0000,  8.0000],\n",
              "        [ 9.0000, 10.0000]])"
            ]
          },
          "metadata": {},
          "execution_count": 99
        }
      ]
    },
    {
      "cell_type": "code",
      "source": [
        "a_2[0] = 0\n",
        "a_2"
      ],
      "metadata": {
        "colab": {
          "base_uri": "https://localhost:8080/"
        },
        "id": "EFoSnSlelrvn",
        "outputId": "9880be96-72b8-4222-ebe1-c29d5f0fb163"
      },
      "execution_count": null,
      "outputs": [
        {
          "output_type": "execute_result",
          "data": {
            "text/plain": [
              "tensor([[ 0.,  0.],\n",
              "        [ 3.,  4.],\n",
              "        [ 5.,  6.],\n",
              "        [ 7.,  8.],\n",
              "        [ 9., 10.]])"
            ]
          },
          "metadata": {},
          "execution_count": 100
        }
      ]
    },
    {
      "cell_type": "markdown",
      "metadata": {
        "id": "GfLHVvKvYKBT"
      },
      "source": [
        "1). Создайте тензор *целых чисел* `images` размерности (100, 200, 200, 3) (можно интерпретировать это как 100 картинок размера 200х200 с тремя цветовыми каналами, то есть 100 цветных изображений 200х200). Заполните его нулями  \n",
        "\n",
        "2). Сделайте так, чтобы у $i$-ой по порядку картинки была нарисована белая полоса толщиной два пикселя в строках, которые соответствуют номеру картинки. Например, у 3-ей по порядку картинки белая полоска будет занимать 6 и 7 строки, у 99 - 198 и 199. Сделать белую строку можно, записав в ячейки тензора число 255 (по всем трём каналам). Выведите несколько примеров с помощью `pylot`  \n",
        "\n",
        "3). Посчитайте среднее тензора `images` по 1-ой оси (по сути - средняя картинка), умножьте полученный тензор на 70. Нарисуйте с помощью `pyplot`, должна получиться серая картинка (при взятии среднего нужно привести тензор к float с помощью `.float()`, при отрисовке обратно к int с помощью `.int()`)"
      ]
    },
    {
      "cell_type": "markdown",
      "source": [
        "1)"
      ],
      "metadata": {
        "id": "IZ6UeJi1mz9D"
      }
    },
    {
      "cell_type": "code",
      "metadata": {
        "id": "pZVGHEQQYKBU",
        "colab": {
          "base_uri": "https://localhost:8080/",
          "height": 286
        },
        "outputId": "102cad39-4e57-48a8-a835-c1a8554c794c"
      },
      "source": [
        "images = torch.IntTensor(100, 200, 200, 3).zero_()\n",
        "\n",
        "plt.imshow(images[0])"
      ],
      "execution_count": null,
      "outputs": [
        {
          "output_type": "execute_result",
          "data": {
            "text/plain": [
              "<matplotlib.image.AxesImage at 0x7f7d161c6e90>"
            ]
          },
          "metadata": {},
          "execution_count": 101
        },
        {
          "output_type": "display_data",
          "data": {
            "image/png": "[encoded data removed]",
            "text/plain": [
              "<Figure size 432x288 with 1 Axes>"
            ]
          },
          "metadata": {
            "needs_background": "light"
          }
        }
      ]
    },
    {
      "cell_type": "markdown",
      "source": [
        "2)"
      ],
      "metadata": {
        "id": "uWPXL_pIm13T"
      }
    },
    {
      "cell_type": "code",
      "source": [
        "for i in range(images.shape[0]):\n",
        "  images[i][i * 2] = images[i][i * 2 + 1] = 255"
      ],
      "metadata": {
        "id": "A5UpOvPkkUq4"
      },
      "execution_count": null,
      "outputs": []
    },
    {
      "cell_type": "code",
      "source": [
        "plt.imshow(images[3])"
      ],
      "metadata": {
        "colab": {
          "base_uri": "https://localhost:8080/",
          "height": 286
        },
        "id": "JHCRojDqnyem",
        "outputId": "1f9b0b9f-9053-4530-b7da-3d7287d48c05"
      },
      "execution_count": null,
      "outputs": [
        {
          "output_type": "execute_result",
          "data": {
            "text/plain": [
              "<matplotlib.image.AxesImage at 0x7f7d161428d0>"
            ]
          },
          "metadata": {},
          "execution_count": 103
        },
        {
          "output_type": "display_data",
          "data": {
            "image/png": "[encoded data removed]",
            "text/plain": [
              "<Figure size 432x288 with 1 Axes>"
            ]
          },
          "metadata": {
            "needs_background": "light"
          }
        }
      ]
    },
    {
      "cell_type": "code",
      "source": [
        "plt.imshow(images[50])"
      ],
      "metadata": {
        "colab": {
          "base_uri": "https://localhost:8080/",
          "height": 286
        },
        "id": "N9k1g4Hun5su",
        "outputId": "40491f2b-a3a6-45a7-f30d-d5516746ce8e"
      },
      "execution_count": null,
      "outputs": [
        {
          "output_type": "execute_result",
          "data": {
            "text/plain": [
              "<matplotlib.image.AxesImage at 0x7f7d160a7f10>"
            ]
          },
          "metadata": {},
          "execution_count": 104
        },
        {
          "output_type": "display_data",
          "data": {
            "image/png": "[encoded data removed]",
            "text/plain": [
              "<Figure size 432x288 with 1 Axes>"
            ]
          },
          "metadata": {
            "needs_background": "light"
          }
        }
      ]
    },
    {
      "cell_type": "markdown",
      "source": [
        "3)"
      ],
      "metadata": {
        "id": "np5mxX2VoC8X"
      }
    },
    {
      "cell_type": "code",
      "source": [
        "value = (images.float()[1].mean() * 70).item()\n",
        "value"
      ],
      "metadata": {
        "colab": {
          "base_uri": "https://localhost:8080/"
        },
        "id": "EcIczg4ioDuz",
        "outputId": "27bfa93c-d400-4234-e272-fc0950ff8edd"
      },
      "execution_count": null,
      "outputs": [
        {
          "output_type": "execute_result",
          "data": {
            "text/plain": [
              "178.5"
            ]
          },
          "metadata": {},
          "execution_count": 105
        }
      ]
    },
    {
      "cell_type": "code",
      "source": [
        "tmp_images = images.clone()\n",
        "tmp_images[0] = value\n",
        "\n",
        "gray_image = tmp_images[0]\n",
        "plt.imshow(gray_image)"
      ],
      "metadata": {
        "colab": {
          "base_uri": "https://localhost:8080/",
          "height": 286
        },
        "id": "ON6cdjYSpnOK",
        "outputId": "45ca1320-2032-4302-ca28-e2b768fbbb42"
      },
      "execution_count": null,
      "outputs": [
        {
          "output_type": "execute_result",
          "data": {
            "text/plain": [
              "<matplotlib.image.AxesImage at 0x7f7d16095a50>"
            ]
          },
          "metadata": {},
          "execution_count": 106
        },
        {
          "output_type": "display_data",
          "data": {
            "image/png": "[encoded data removed]",
            "text/plain": [
              "<Figure size 432x288 with 1 Axes>"
            ]
          },
          "metadata": {
            "needs_background": "light"
          }
        }
      ]
    },
    {
      "cell_type": "markdown",
      "metadata": {
        "id": "oQnhq5ZdYKCu"
      },
      "source": [
        "### Задача 4"
      ]
    },
    {
      "cell_type": "markdown",
      "metadata": {
        "id": "UB95BhgTYKCu"
      },
      "source": [
        "- В Colab нажмите в меню сверху: `Runtime` -> `Change Runtime Type` -> `GPU`, где изначально стоит `None` (`Среда выполнение` - `Сменить среду выполнения`)\n",
        "- Объявите тензор `a` размера (2, 3, 4) и тензор `b` размера (1, 8, 3) на GPU, иницилизируйте их случайно равномерно (`.uniform_()`)\n",
        "- Затем измените форму тензора `b`, чтобы она совпадала с формой тензора `a`, получите тензор `c`  \n",
        "- Переместите `c` на CPU, переместите `a` на CPU  \n",
        "- Оберните их в `Variable()`\n",
        "- Объявите тензор `L = torch.mean((c - a) `**` 2)` и посчитайте градиент `L` по `c` ( то есть $\\frac{\\partial{L}}{\\partial{c}})$\n",
        "- Выведите градиент `L` по `c`"
      ]
    },
    {
      "cell_type": "markdown",
      "source": [
        "![image.png](data:image/png;base64,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)"
      ],
      "metadata": {
        "id": "o6N3CHG4tPXF"
      }
    },
    {
      "cell_type": "code",
      "source": [
        "device = 'cuda' if torch.cuda.is_available() else 'cpu'"
      ],
      "metadata": {
        "id": "67rTc7vOvsY0"
      },
      "execution_count": null,
      "outputs": []
    },
    {
      "cell_type": "code",
      "metadata": {
        "id": "WESOm5TCYKCv"
      },
      "source": [
        "a_4 = torch.FloatTensor(2, 3, 4).uniform_().to(device)\n",
        "b_4 = torch.FloatTensor(1, 8, 3).uniform_().to(device)"
      ],
      "execution_count": null,
      "outputs": []
    },
    {
      "cell_type": "code",
      "source": [
        "a_4"
      ],
      "metadata": {
        "colab": {
          "base_uri": "https://localhost:8080/"
        },
        "id": "9bMgNB3pueAT",
        "outputId": "df48e57b-3863-47f5-d429-f999714f01f4"
      },
      "execution_count": null,
      "outputs": [
        {
          "output_type": "execute_result",
          "data": {
            "text/plain": [
              "tensor([[[0.1890, 0.7557, 0.1512, 0.9037],\n",
              "         [0.4551, 0.5000, 0.3980, 0.0152],\n",
              "         [0.0719, 0.1793, 0.1526, 0.3196]],\n",
              "\n",
              "        [[0.2750, 0.4421, 0.2204, 0.4737],\n",
              "         [0.8885, 0.0817, 0.1352, 0.4532],\n",
              "         [0.7957, 0.8404, 0.1667, 0.6726]]], device='cuda:0')"
            ]
          },
          "metadata": {},
          "execution_count": 109
        }
      ]
    },
    {
      "cell_type": "code",
      "source": [
        "c_4 = b_4.view(a_4.shape)\n",
        "c_4.shape"
      ],
      "metadata": {
        "colab": {
          "base_uri": "https://localhost:8080/"
        },
        "id": "cHHqcEJuvUyW",
        "outputId": "d5153f12-f398-4ac6-9e8e-30b4b2c152e1"
      },
      "execution_count": null,
      "outputs": [
        {
          "output_type": "execute_result",
          "data": {
            "text/plain": [
              "torch.Size([2, 3, 4])"
            ]
          },
          "metadata": {},
          "execution_count": 110
        }
      ]
    },
    {
      "cell_type": "code",
      "source": [
        "a_4 = a_4.to('cpu')\n",
        "c_4 = c_4.to('cpu')"
      ],
      "metadata": {
        "id": "ZYP_iRNrwyvW"
      },
      "execution_count": null,
      "outputs": []
    },
    {
      "cell_type": "code",
      "source": [
        "a_4 = Variable(a_4, requires_grad=True)\n",
        "c_4 = Variable(c_4, requires_grad=True)"
      ],
      "metadata": {
        "id": "QS8_aW-OxzJn"
      },
      "execution_count": null,
      "outputs": []
    },
    {
      "cell_type": "code",
      "source": [
        "L = torch.mean((c_4 - a_4) ** 2)\n",
        "L.backward()"
      ],
      "metadata": {
        "id": "ClymaPcvOkkZ"
      },
      "execution_count": null,
      "outputs": []
    },
    {
      "cell_type": "code",
      "source": [
        "c_4.grad"
      ],
      "metadata": {
        "colab": {
          "base_uri": "https://localhost:8080/"
        },
        "id": "aAFUB0egOz_m",
        "outputId": "c471c72a-17e7-40f9-f880-8e8f55bed3e7"
      },
      "execution_count": null,
      "outputs": [
        {
          "output_type": "execute_result",
          "data": {
            "text/plain": [
              "tensor([[[ 0.0632, -0.0322,  0.0439, -0.0170],\n",
              "         [-0.0107, -0.0392, -0.0253,  0.0408],\n",
              "         [ 0.0623,  0.0020,  0.0153,  0.0492]],\n",
              "\n",
              "        [[ 0.0144, -0.0228, -0.0049, -0.0194],\n",
              "         [-0.0063,  0.0269,  0.0214,  0.0412],\n",
              "         [-0.0450,  0.0077,  0.0615, -0.0429]]])"
            ]
          },
          "metadata": {},
          "execution_count": 114
        }
      ]
    },
    {
      "cell_type": "code",
      "source": [
        ""
      ],
      "metadata": {
        "id": "AF_zCoIZO6yV"
      },
      "execution_count": null,
      "outputs": []
    }
  ]
}