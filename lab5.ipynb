{
  "nbformat": 4,
  "nbformat_minor": 0,
  "metadata": {
    "kernelspec": {
      "display_name": "Python 3",
      "language": "python",
      "name": "python3"
    },
    "language_info": {
      "codemirror_mode": {
        "name": "ipython",
        "version": 3
      },
      "file_extension": ".py",
      "mimetype": "text/x-python",
      "name": "python",
      "nbconvert_exporter": "python",
      "pygments_lexer": "ipython3",
      "version": "3.5.2"
    },
    "colab": {
      "name": "lab5.ipynb",
      "provenance": [],
      "collapsed_sections": [],
      "toc_visible": true
    }
  },
  "cells": [
    {
      "cell_type": "markdown",
      "metadata": {
        "id": "UHX9p5jfTySS"
      },
      "source": [
        "## Задание 5.1"
      ]
    },
    {
      "cell_type": "markdown",
      "metadata": {
        "id": "0EnHNZtbXlH0"
      },
      "source": [
        "Набор данных тут: https://github.com/sismetanin/rureviews, также есть в папке [Data](https://drive.google.com/drive/folders/1YAMe7MiTxA-RSSd8Ex2p-L0Dspe6Gs4L). Те, кто предпочитает работать с английским языком, могут использовать набор данных `sms_spam`."
      ]
    },
    {
      "cell_type": "markdown",
      "metadata": {
        "id": "bJox-LoonoPx"
      },
      "source": [
        "Применим полученные навыки и решим задачу анализа тональности отзывов. \n",
        "\n",
        "Нужно повторить весь пайплайн от сырых текстов до получения обученной модели.\n",
        "\n",
        "Обязательные шаги предобработки:\n",
        "1. токенизация\n",
        "2. приведение к нижнему регистру\n",
        "3. удаление стоп-слов\n",
        "4. лемматизация\n",
        "5. векторизация (с настройкой гиперпараметров)\n",
        "6. построение модели\n",
        "7. оценка качества модели\n",
        "\n",
        "Обязательно использование векторайзеров:\n",
        "1. мешок n-грамм (диапазон для n подбирайте самостоятельно, запрещено использовать только униграммы).\n",
        "2. tf-idf ((диапазон для n подбирайте самостоятельно, также нужно подбирать параметры max_df, min_df, max_features)\n",
        "3. символьные n-граммы (диапазон для n подбирайте самостоятельно)\n",
        "\n",
        "В качестве классификатора нужно использовать наивный байесовский классификатор. \n",
        "\n",
        "Для сравнения векторайзеров между собой используйте precision, recall, f1-score и accuracy. Для этого сформируйте датафрейм, в котором в строках будут разные векторайзеры, а в столбцах разные метрики качества, а в  ячейках будут значения этих метрик для соответсвующих векторайзеров."
      ]
    },
    {
      "cell_type": "markdown",
      "metadata": {
        "id": "kFPA4T7fk2OZ"
      },
      "source": [
        "\n",
        "\n",
        "---\n",
        "\n"
      ]
    },
    {
      "cell_type": "code",
      "metadata": {
        "colab": {
          "base_uri": "https://localhost:8080/"
        },
        "id": "KgKuiOvOK3bJ",
        "outputId": "da3e65b4-e51a-47d5-b334-711a1510d266"
      },
      "source": [
        "!pip install pymorphy2"
      ],
      "execution_count": null,
      "outputs": [
        {
          "output_type": "stream",
          "name": "stdout",
          "text": [
            "Requirement already satisfied: pymorphy2 in /usr/local/lib/python3.7/dist-packages (0.9.1)\n",
            "Requirement already satisfied: docopt>=0.6 in /usr/local/lib/python3.7/dist-packages (from pymorphy2) (0.6.2)\n",
            "Requirement already satisfied: pymorphy2-dicts-ru<3.0,>=2.4 in /usr/local/lib/python3.7/dist-packages (from pymorphy2) (2.4.417127.4579844)\n",
            "Requirement already satisfied: dawg-python>=0.7.1 in /usr/local/lib/python3.7/dist-packages (from pymorphy2) (0.7.2)\n"
          ]
        }
      ]
    },
    {
      "cell_type": "code",
      "metadata": {
        "colab": {
          "base_uri": "https://localhost:8080/"
        },
        "id": "0aSrtKWUkEGd",
        "outputId": "fd5eae25-3aba-4c3b-b478-b854f1303735"
      },
      "source": [
        "import pandas as pd\n",
        "import numpy as np\n",
        "\n",
        "from sklearn.metrics import * \n",
        "from sklearn.model_selection import train_test_split \n",
        "\n",
        "import nltk\n",
        "from nltk import ngrams\n",
        "from nltk.tokenize import word_tokenize\n",
        "from nltk.corpus import stopwords\n",
        "\n",
        "from sklearn.naive_bayes import MultinomialNB # наивный байесовский классификатор\n",
        "from sklearn.feature_extraction.text import CountVectorizer # модель \"мешка слов\"\n",
        "from sklearn.feature_extraction.text import TfidfVectorizer # tf-idf\n",
        "from pymorphy2 import MorphAnalyzer\n",
        "\n",
        "nltk.download('stopwords')\n",
        "nltk.download('punkt')"
      ],
      "execution_count": null,
      "outputs": [
        {
          "output_type": "stream",
          "name": "stdout",
          "text": [
            "[nltk_data] Downloading package stopwords to /root/nltk_data...\n",
            "[nltk_data]   Package stopwords is already up-to-date!\n",
            "[nltk_data] Downloading package punkt to /root/nltk_data...\n",
            "[nltk_data]   Package punkt is already up-to-date!\n"
          ]
        },
        {
          "output_type": "execute_result",
          "data": {
            "text/plain": [
              "True"
            ]
          },
          "metadata": {},
          "execution_count": 5
        }
      ]
    },
    {
      "cell_type": "code",
      "metadata": {
        "colab": {
          "base_uri": "https://localhost:8080/",
          "height": 223
        },
        "id": "_YXw0-majnOt",
        "outputId": "307a9c7d-63f0-4a58-db48-fd1117b8228a"
      },
      "source": [
        "from google.colab import drive\n",
        "drive.mount('/content/drive')\n",
        "\n",
        "df = pd.read_csv('/content/drive/MyDrive/!ITMO/ML/Data/women-clothing-accessories.csv', sep='\\t', usecols=[0, 1])\n",
        "df.head(5)"
      ],
      "execution_count": null,
      "outputs": [
        {
          "output_type": "stream",
          "name": "stdout",
          "text": [
            "Mounted at /content/drive\n"
          ]
        },
        {
          "output_type": "execute_result",
          "data": {
            "text/html": [
              "<div>\n",
              "<style scoped>\n",
              "    .dataframe tbody tr th:only-of-type {\n",
              "        vertical-align: middle;\n",
              "    }\n",
              "\n",
              "    .dataframe tbody tr th {\n",
              "        vertical-align: top;\n",
              "    }\n",
              "\n",
              "    .dataframe thead th {\n",
              "        text-align: right;\n",
              "    }\n",
              "</style>\n",
              "<table border=\"1\" class=\"dataframe\">\n",
              "  <thead>\n",
              "    <tr style=\"text-align: right;\">\n",
              "      <th></th>\n",
              "      <th>review</th>\n",
              "      <th>sentiment</th>\n",
              "    </tr>\n",
              "  </thead>\n",
              "  <tbody>\n",
              "    <tr>\n",
              "      <th>0</th>\n",
              "      <td>качество плохое пошив ужасный (горловина напер...</td>\n",
              "      <td>negative</td>\n",
              "    </tr>\n",
              "    <tr>\n",
              "      <th>1</th>\n",
              "      <td>Товар отдали другому человеку, я не получила п...</td>\n",
              "      <td>negative</td>\n",
              "    </tr>\n",
              "    <tr>\n",
              "      <th>2</th>\n",
              "      <td>Ужасная синтетика! Тонкая, ничего общего с пре...</td>\n",
              "      <td>negative</td>\n",
              "    </tr>\n",
              "    <tr>\n",
              "      <th>3</th>\n",
              "      <td>товар не пришел, продавец продлил защиту без м...</td>\n",
              "      <td>negative</td>\n",
              "    </tr>\n",
              "    <tr>\n",
              "      <th>4</th>\n",
              "      <td>Кофточка голая синтетика, носить не возможно.</td>\n",
              "      <td>negative</td>\n",
              "    </tr>\n",
              "  </tbody>\n",
              "</table>\n",
              "</div>"
            ],
            "text/plain": [
              "                                              review sentiment\n",
              "0  качество плохое пошив ужасный (горловина напер...  negative\n",
              "1  Товар отдали другому человеку, я не получила п...  negative\n",
              "2  Ужасная синтетика! Тонкая, ничего общего с пре...  negative\n",
              "3  товар не пришел, продавец продлил защиту без м...  negative\n",
              "4      Кофточка голая синтетика, носить не возможно.  negative"
            ]
          },
          "metadata": {},
          "execution_count": 6
        }
      ]
    },
    {
      "cell_type": "markdown",
      "metadata": {
        "id": "nBW1mJV1lwQp"
      },
      "source": [
        "### Посмотрим на данные"
      ]
    },
    {
      "cell_type": "code",
      "metadata": {
        "colab": {
          "base_uri": "https://localhost:8080/",
          "height": 175
        },
        "id": "H8E1FaN2k0fd",
        "outputId": "82942bb9-0858-42bc-cecb-f88b089bca58"
      },
      "source": [
        "df.describe()"
      ],
      "execution_count": null,
      "outputs": [
        {
          "output_type": "execute_result",
          "data": {
            "text/html": [
              "<div>\n",
              "<style scoped>\n",
              "    .dataframe tbody tr th:only-of-type {\n",
              "        vertical-align: middle;\n",
              "    }\n",
              "\n",
              "    .dataframe tbody tr th {\n",
              "        vertical-align: top;\n",
              "    }\n",
              "\n",
              "    .dataframe thead th {\n",
              "        text-align: right;\n",
              "    }\n",
              "</style>\n",
              "<table border=\"1\" class=\"dataframe\">\n",
              "  <thead>\n",
              "    <tr style=\"text-align: right;\">\n",
              "      <th></th>\n",
              "      <th>review</th>\n",
              "      <th>sentiment</th>\n",
              "    </tr>\n",
              "  </thead>\n",
              "  <tbody>\n",
              "    <tr>\n",
              "      <th>count</th>\n",
              "      <td>90000</td>\n",
              "      <td>90000</td>\n",
              "    </tr>\n",
              "    <tr>\n",
              "      <th>unique</th>\n",
              "      <td>87321</td>\n",
              "      <td>3</td>\n",
              "    </tr>\n",
              "    <tr>\n",
              "      <th>top</th>\n",
              "      <td>Товар не пришёл</td>\n",
              "      <td>neautral</td>\n",
              "    </tr>\n",
              "    <tr>\n",
              "      <th>freq</th>\n",
              "      <td>58</td>\n",
              "      <td>30000</td>\n",
              "    </tr>\n",
              "  </tbody>\n",
              "</table>\n",
              "</div>"
            ],
            "text/plain": [
              "                  review sentiment\n",
              "count              90000     90000\n",
              "unique             87321         3\n",
              "top     Товар не пришёл   neautral\n",
              "freq                  58     30000"
            ]
          },
          "metadata": {},
          "execution_count": 7
        }
      ]
    },
    {
      "cell_type": "code",
      "metadata": {
        "colab": {
          "base_uri": "https://localhost:8080/"
        },
        "id": "umbXMrY6lR9F",
        "outputId": "a0b57875-590d-4e8c-8a69-36689407cae8"
      },
      "source": [
        "df['sentiment'].value_counts()"
      ],
      "execution_count": null,
      "outputs": [
        {
          "output_type": "execute_result",
          "data": {
            "text/plain": [
              "neautral    30000\n",
              "negative    30000\n",
              "positive    30000\n",
              "Name: sentiment, dtype: int64"
            ]
          },
          "metadata": {},
          "execution_count": 8
        }
      ]
    },
    {
      "cell_type": "markdown",
      "metadata": {
        "id": "5zw-W4xnl7z6"
      },
      "source": [
        "### Предобработаем"
      ]
    },
    {
      "cell_type": "code",
      "metadata": {
        "id": "Rtd3CDiEIRS1"
      },
      "source": [
        "def data_preprocessing(data_series):\n",
        "  # 1. Токенизация\n",
        "  data_series = data_series.apply(word_tokenize)\n",
        "\n",
        "  # 2. Приведение к нижнему регистру\n",
        "  data_series = data_series.apply(lambda sentence: [word.lower() for word in sentence])\n",
        "\n",
        "  # 3. Удаление стоп-слов\n",
        "  noice = set(stopwords.words('russian'))\n",
        "  data_series = data_series.apply(lambda sentence: [word for word in sentence if word not in noice])\n",
        "\n",
        "  # 4. Лемматизация\n",
        "  pymorphy2_analyzer = MorphAnalyzer()\n",
        "  data_series = data_series.apply(lambda sentence: [pymorphy2_analyzer.parse(word)[0].normal_form for word in sentence])\n",
        "\n",
        "  # list -> str\n",
        "  data_series = data_series.apply(lambda sentence: ' '.join(sentence))\n",
        "\n",
        "  return data_series"
      ],
      "execution_count": null,
      "outputs": []
    },
    {
      "cell_type": "code",
      "metadata": {
        "id": "KIfCJROks5P2"
      },
      "source": [
        "x_train, x_test, y_train, y_test = train_test_split(df.review, df.sentiment, train_size = 0.7)"
      ],
      "execution_count": null,
      "outputs": []
    },
    {
      "cell_type": "code",
      "metadata": {
        "id": "Lrn4xVsShoGj"
      },
      "source": [
        "x_train_preprocessed = data_preprocessing(x_train)\n",
        "x_test_preprocessed = data_preprocessing(x_test)"
      ],
      "execution_count": null,
      "outputs": []
    },
    {
      "cell_type": "markdown",
      "metadata": {
        "id": "JTpwpdZsmCZG"
      },
      "source": [
        "### Протестируем"
      ]
    },
    {
      "cell_type": "markdown",
      "metadata": {
        "id": "ygmkvDtLpYf5"
      },
      "source": [
        "#### Мешок n-грамм"
      ]
    },
    {
      "cell_type": "markdown",
      "metadata": {
        "id": "RyPAs8QWnRGd"
      },
      "source": [
        "ngram_range=(1, 1)"
      ]
    },
    {
      "cell_type": "code",
      "metadata": {
        "id": "2HYrYlDJiQKO"
      },
      "source": [
        "vectorizer_CountVectorizer_ng11 = CountVectorizer(ngram_range=(1, 1))\n",
        "\n",
        "vectorized_x_train = vectorizer_CountVectorizer_ng11.fit_transform(x_train_preprocessed)\n",
        "vectorized_x_test = vectorizer_CountVectorizer_ng11.transform(x_test_preprocessed)\n",
        "\n",
        "clf = MultinomialNB()\n",
        "clf.fit(vectorized_x_train, y_train)\n",
        "y_pred = clf.predict(vectorized_x_test)"
      ],
      "execution_count": null,
      "outputs": []
    },
    {
      "cell_type": "code",
      "metadata": {
        "colab": {
          "base_uri": "https://localhost:8080/",
          "height": 81
        },
        "id": "V9JC5NcimuqK",
        "outputId": "10aede26-0268-404b-e11b-5a10967b8bda"
      },
      "source": [
        "comparison_df = pd.DataFrame(\n",
        "    {'precision': [precision_score(y_test, y_pred, average='weighted')],\n",
        "     'recall': [recall_score(y_test, y_pred, average='weighted')],\n",
        "     'f1': [f1_score(y_test, y_pred, average='weighted')],\n",
        "     'accuracy': [accuracy_score(y_test, y_pred)]}, \n",
        "    index=['vectorizer_CountVectorizer_ng11'])\n",
        "comparison_df"
      ],
      "execution_count": null,
      "outputs": [
        {
          "output_type": "execute_result",
          "data": {
            "text/html": [
              "<div>\n",
              "<style scoped>\n",
              "    .dataframe tbody tr th:only-of-type {\n",
              "        vertical-align: middle;\n",
              "    }\n",
              "\n",
              "    .dataframe tbody tr th {\n",
              "        vertical-align: top;\n",
              "    }\n",
              "\n",
              "    .dataframe thead th {\n",
              "        text-align: right;\n",
              "    }\n",
              "</style>\n",
              "<table border=\"1\" class=\"dataframe\">\n",
              "  <thead>\n",
              "    <tr style=\"text-align: right;\">\n",
              "      <th></th>\n",
              "      <th>precision</th>\n",
              "      <th>recall</th>\n",
              "      <th>f1</th>\n",
              "      <th>accuracy</th>\n",
              "    </tr>\n",
              "  </thead>\n",
              "  <tbody>\n",
              "    <tr>\n",
              "      <th>vectorizer_CountVectorizer_ng11</th>\n",
              "      <td>0.703347</td>\n",
              "      <td>0.697641</td>\n",
              "      <td>0.698068</td>\n",
              "      <td>0.697641</td>\n",
              "    </tr>\n",
              "  </tbody>\n",
              "</table>\n",
              "</div>"
            ],
            "text/plain": [
              "                                 precision    recall        f1  accuracy\n",
              "vectorizer_CountVectorizer_ng11   0.703347  0.697641  0.698068  0.697641"
            ]
          },
          "metadata": {},
          "execution_count": 49
        }
      ]
    },
    {
      "cell_type": "markdown",
      "metadata": {
        "id": "oCQMalo_nT7-"
      },
      "source": [
        "ngram_range=(2, 2)"
      ]
    },
    {
      "cell_type": "code",
      "metadata": {
        "colab": {
          "base_uri": "https://localhost:8080/",
          "height": 112
        },
        "id": "NW5_zns5nPA2",
        "outputId": "f14fb33d-1d82-40c7-d7b0-cc26d3c3995f"
      },
      "source": [
        "vectorizer_CountVectorizer_ng22 = CountVectorizer(ngram_range=(2, 2))\n",
        "\n",
        "vectorized_x_train = vectorizer_CountVectorizer_ng22.fit_transform(x_train_preprocessed)\n",
        "vectorized_x_test = vectorizer_CountVectorizer_ng22.transform(x_test_preprocessed)\n",
        "\n",
        "clf = MultinomialNB()\n",
        "clf.fit(vectorized_x_train, y_train)\n",
        "y_pred = clf.predict(vectorized_x_test)\n",
        "\n",
        "new_df = pd.DataFrame(\n",
        "    {'precision': [precision_score(y_test, y_pred, average='weighted')],\n",
        "     'recall': [recall_score(y_test, y_pred, average='weighted')],\n",
        "     'f1': [f1_score(y_test, y_pred, average='weighted')],\n",
        "     'accuracy': [accuracy_score(y_test, y_pred)]}, \n",
        "    index=['vectorizer_CountVectorizer_ng22'])\n",
        "\n",
        "comparison_df = comparison_df.append(new_df)\n",
        "comparison_df"
      ],
      "execution_count": null,
      "outputs": [
        {
          "output_type": "execute_result",
          "data": {
            "text/html": [
              "<div>\n",
              "<style scoped>\n",
              "    .dataframe tbody tr th:only-of-type {\n",
              "        vertical-align: middle;\n",
              "    }\n",
              "\n",
              "    .dataframe tbody tr th {\n",
              "        vertical-align: top;\n",
              "    }\n",
              "\n",
              "    .dataframe thead th {\n",
              "        text-align: right;\n",
              "    }\n",
              "</style>\n",
              "<table border=\"1\" class=\"dataframe\">\n",
              "  <thead>\n",
              "    <tr style=\"text-align: right;\">\n",
              "      <th></th>\n",
              "      <th>precision</th>\n",
              "      <th>recall</th>\n",
              "      <th>f1</th>\n",
              "      <th>accuracy</th>\n",
              "    </tr>\n",
              "  </thead>\n",
              "  <tbody>\n",
              "    <tr>\n",
              "      <th>vectorizer_CountVectorizer_ng11</th>\n",
              "      <td>0.703347</td>\n",
              "      <td>0.697641</td>\n",
              "      <td>0.698068</td>\n",
              "      <td>0.697641</td>\n",
              "    </tr>\n",
              "    <tr>\n",
              "      <th>vectorizer_CountVectorizer_ng22</th>\n",
              "      <td>0.689454</td>\n",
              "      <td>0.689604</td>\n",
              "      <td>0.689123</td>\n",
              "      <td>0.689604</td>\n",
              "    </tr>\n",
              "  </tbody>\n",
              "</table>\n",
              "</div>"
            ],
            "text/plain": [
              "                                 precision    recall        f1  accuracy\n",
              "vectorizer_CountVectorizer_ng11   0.703347  0.697641  0.698068  0.697641\n",
              "vectorizer_CountVectorizer_ng22   0.689454  0.689604  0.689123  0.689604"
            ]
          },
          "metadata": {},
          "execution_count": 50
        }
      ]
    },
    {
      "cell_type": "markdown",
      "metadata": {
        "id": "6SNhxSPIovui"
      },
      "source": [
        "ngram_range=(1, 2)"
      ]
    },
    {
      "cell_type": "code",
      "metadata": {
        "colab": {
          "base_uri": "https://localhost:8080/",
          "height": 143
        },
        "id": "NtAa5On5ox9S",
        "outputId": "9c0ef7ca-6b30-433c-fd0d-1bd66bc27565"
      },
      "source": [
        "vectorizer_CountVectorizer_ng12 = CountVectorizer(ngram_range=(1, 2))\n",
        "\n",
        "vectorized_x_train = vectorizer_CountVectorizer_ng12.fit_transform(x_train_preprocessed)\n",
        "vectorized_x_test = vectorizer_CountVectorizer_ng12.transform(x_test_preprocessed)\n",
        "\n",
        "clf = MultinomialNB()\n",
        "clf.fit(vectorized_x_train, y_train)\n",
        "y_pred = clf.predict(vectorized_x_test)\n",
        "\n",
        "new_df = pd.DataFrame(\n",
        "    {'precision': [precision_score(y_test, y_pred, average='weighted')],\n",
        "     'recall': [recall_score(y_test, y_pred, average='weighted')],\n",
        "     'f1': [f1_score(y_test, y_pred, average='weighted')],\n",
        "     'accuracy': [accuracy_score(y_test, y_pred)]}, \n",
        "    index=['vectorizer_CountVectorizer_ng12'])\n",
        "\n",
        "comparison_df = comparison_df.append(new_df)\n",
        "comparison_df"
      ],
      "execution_count": null,
      "outputs": [
        {
          "output_type": "execute_result",
          "data": {
            "text/html": [
              "<div>\n",
              "<style scoped>\n",
              "    .dataframe tbody tr th:only-of-type {\n",
              "        vertical-align: middle;\n",
              "    }\n",
              "\n",
              "    .dataframe tbody tr th {\n",
              "        vertical-align: top;\n",
              "    }\n",
              "\n",
              "    .dataframe thead th {\n",
              "        text-align: right;\n",
              "    }\n",
              "</style>\n",
              "<table border=\"1\" class=\"dataframe\">\n",
              "  <thead>\n",
              "    <tr style=\"text-align: right;\">\n",
              "      <th></th>\n",
              "      <th>precision</th>\n",
              "      <th>recall</th>\n",
              "      <th>f1</th>\n",
              "      <th>accuracy</th>\n",
              "    </tr>\n",
              "  </thead>\n",
              "  <tbody>\n",
              "    <tr>\n",
              "      <th>vectorizer_CountVectorizer_ng11</th>\n",
              "      <td>0.703347</td>\n",
              "      <td>0.697641</td>\n",
              "      <td>0.698068</td>\n",
              "      <td>0.697641</td>\n",
              "    </tr>\n",
              "    <tr>\n",
              "      <th>vectorizer_CountVectorizer_ng22</th>\n",
              "      <td>0.689454</td>\n",
              "      <td>0.689604</td>\n",
              "      <td>0.689123</td>\n",
              "      <td>0.689604</td>\n",
              "    </tr>\n",
              "    <tr>\n",
              "      <th>vectorizer_CountVectorizer_ng12</th>\n",
              "      <td>0.714521</td>\n",
              "      <td>0.712492</td>\n",
              "      <td>0.712502</td>\n",
              "      <td>0.712492</td>\n",
              "    </tr>\n",
              "  </tbody>\n",
              "</table>\n",
              "</div>"
            ],
            "text/plain": [
              "                                 precision    recall        f1  accuracy\n",
              "vectorizer_CountVectorizer_ng11   0.703347  0.697641  0.698068  0.697641\n",
              "vectorizer_CountVectorizer_ng22   0.689454  0.689604  0.689123  0.689604\n",
              "vectorizer_CountVectorizer_ng12   0.714521  0.712492  0.712502  0.712492"
            ]
          },
          "metadata": {},
          "execution_count": 51
        }
      ]
    },
    {
      "cell_type": "markdown",
      "metadata": {
        "id": "vK0O86vkpA1e"
      },
      "source": [
        "ngram_range=(1, 3)"
      ]
    },
    {
      "cell_type": "code",
      "metadata": {
        "colab": {
          "base_uri": "https://localhost:8080/",
          "height": 175
        },
        "id": "tamO2u2qo8-G",
        "outputId": "17a0a4fe-9bd3-4fc7-fed3-7ca6ff833818"
      },
      "source": [
        "vectorizer_CountVectorizer_ng13 = CountVectorizer(ngram_range=(1, 3))\n",
        "\n",
        "vectorized_x_train = vectorizer_CountVectorizer_ng13.fit_transform(x_train_preprocessed)\n",
        "vectorized_x_test = vectorizer_CountVectorizer_ng13.transform(x_test_preprocessed)\n",
        "\n",
        "clf = MultinomialNB()\n",
        "clf.fit(vectorized_x_train, y_train)\n",
        "y_pred = clf.predict(vectorized_x_test)\n",
        "\n",
        "new_df = pd.DataFrame(\n",
        "    {'precision': [precision_score(y_test, y_pred, average='weighted')],\n",
        "     'recall': [recall_score(y_test, y_pred, average='weighted')],\n",
        "     'f1': [f1_score(y_test, y_pred, average='weighted')],\n",
        "     'accuracy': [accuracy_score(y_test, y_pred)]}, \n",
        "    index=['vectorizer_CountVectorizer_ng13'])\n",
        "\n",
        "comparison_df = comparison_df.append(new_df)\n",
        "comparison_df"
      ],
      "execution_count": null,
      "outputs": [
        {
          "output_type": "execute_result",
          "data": {
            "text/html": [
              "<div>\n",
              "<style scoped>\n",
              "    .dataframe tbody tr th:only-of-type {\n",
              "        vertical-align: middle;\n",
              "    }\n",
              "\n",
              "    .dataframe tbody tr th {\n",
              "        vertical-align: top;\n",
              "    }\n",
              "\n",
              "    .dataframe thead th {\n",
              "        text-align: right;\n",
              "    }\n",
              "</style>\n",
              "<table border=\"1\" class=\"dataframe\">\n",
              "  <thead>\n",
              "    <tr style=\"text-align: right;\">\n",
              "      <th></th>\n",
              "      <th>precision</th>\n",
              "      <th>recall</th>\n",
              "      <th>f1</th>\n",
              "      <th>accuracy</th>\n",
              "    </tr>\n",
              "  </thead>\n",
              "  <tbody>\n",
              "    <tr>\n",
              "      <th>vectorizer_CountVectorizer_ng11</th>\n",
              "      <td>0.703347</td>\n",
              "      <td>0.697641</td>\n",
              "      <td>0.698068</td>\n",
              "      <td>0.697641</td>\n",
              "    </tr>\n",
              "    <tr>\n",
              "      <th>vectorizer_CountVectorizer_ng22</th>\n",
              "      <td>0.689454</td>\n",
              "      <td>0.689604</td>\n",
              "      <td>0.689123</td>\n",
              "      <td>0.689604</td>\n",
              "    </tr>\n",
              "    <tr>\n",
              "      <th>vectorizer_CountVectorizer_ng12</th>\n",
              "      <td>0.714521</td>\n",
              "      <td>0.712492</td>\n",
              "      <td>0.712502</td>\n",
              "      <td>0.712492</td>\n",
              "    </tr>\n",
              "    <tr>\n",
              "      <th>vectorizer_CountVectorizer_ng13</th>\n",
              "      <td>0.710881</td>\n",
              "      <td>0.711159</td>\n",
              "      <td>0.710547</td>\n",
              "      <td>0.711159</td>\n",
              "    </tr>\n",
              "  </tbody>\n",
              "</table>\n",
              "</div>"
            ],
            "text/plain": [
              "                                 precision    recall        f1  accuracy\n",
              "vectorizer_CountVectorizer_ng11   0.703347  0.697641  0.698068  0.697641\n",
              "vectorizer_CountVectorizer_ng22   0.689454  0.689604  0.689123  0.689604\n",
              "vectorizer_CountVectorizer_ng12   0.714521  0.712492  0.712502  0.712492\n",
              "vectorizer_CountVectorizer_ng13   0.710881  0.711159  0.710547  0.711159"
            ]
          },
          "metadata": {},
          "execution_count": 52
        }
      ]
    },
    {
      "cell_type": "markdown",
      "metadata": {
        "id": "Zf7E2MZhpHne"
      },
      "source": [
        "ngram_range=(2, 4)"
      ]
    },
    {
      "cell_type": "code",
      "metadata": {
        "colab": {
          "base_uri": "https://localhost:8080/",
          "height": 206
        },
        "id": "kdsJ_D0wpMNj",
        "outputId": "a32c4de9-4125-4dfe-ce88-63aa688e578d"
      },
      "source": [
        "vectorizer_CountVectorizer_ng24 = CountVectorizer(ngram_range=(2, 4))\n",
        "\n",
        "vectorized_x_train = vectorizer_CountVectorizer_ng24.fit_transform(x_train_preprocessed)\n",
        "vectorized_x_test = vectorizer_CountVectorizer_ng24.transform(x_test_preprocessed)\n",
        "\n",
        "clf = MultinomialNB()\n",
        "clf.fit(vectorized_x_train, y_train)\n",
        "y_pred = clf.predict(vectorized_x_test)\n",
        "\n",
        "new_df = pd.DataFrame(\n",
        "    {'precision': [precision_score(y_test, y_pred, average='weighted')],\n",
        "     'recall': [recall_score(y_test, y_pred, average='weighted')],\n",
        "     'f1': [f1_score(y_test, y_pred, average='weighted')],\n",
        "     'accuracy': [accuracy_score(y_test, y_pred)]}, \n",
        "    index=['vectorizer_CountVectorizer_ng24'])\n",
        "\n",
        "comparison_df = comparison_df.append(new_df)\n",
        "comparison_df"
      ],
      "execution_count": null,
      "outputs": [
        {
          "output_type": "execute_result",
          "data": {
            "text/html": [
              "<div>\n",
              "<style scoped>\n",
              "    .dataframe tbody tr th:only-of-type {\n",
              "        vertical-align: middle;\n",
              "    }\n",
              "\n",
              "    .dataframe tbody tr th {\n",
              "        vertical-align: top;\n",
              "    }\n",
              "\n",
              "    .dataframe thead th {\n",
              "        text-align: right;\n",
              "    }\n",
              "</style>\n",
              "<table border=\"1\" class=\"dataframe\">\n",
              "  <thead>\n",
              "    <tr style=\"text-align: right;\">\n",
              "      <th></th>\n",
              "      <th>precision</th>\n",
              "      <th>recall</th>\n",
              "      <th>f1</th>\n",
              "      <th>accuracy</th>\n",
              "    </tr>\n",
              "  </thead>\n",
              "  <tbody>\n",
              "    <tr>\n",
              "      <th>vectorizer_CountVectorizer_ng11</th>\n",
              "      <td>0.703347</td>\n",
              "      <td>0.697641</td>\n",
              "      <td>0.698068</td>\n",
              "      <td>0.697641</td>\n",
              "    </tr>\n",
              "    <tr>\n",
              "      <th>vectorizer_CountVectorizer_ng22</th>\n",
              "      <td>0.689454</td>\n",
              "      <td>0.689604</td>\n",
              "      <td>0.689123</td>\n",
              "      <td>0.689604</td>\n",
              "    </tr>\n",
              "    <tr>\n",
              "      <th>vectorizer_CountVectorizer_ng12</th>\n",
              "      <td>0.714521</td>\n",
              "      <td>0.712492</td>\n",
              "      <td>0.712502</td>\n",
              "      <td>0.712492</td>\n",
              "    </tr>\n",
              "    <tr>\n",
              "      <th>vectorizer_CountVectorizer_ng13</th>\n",
              "      <td>0.710881</td>\n",
              "      <td>0.711159</td>\n",
              "      <td>0.710547</td>\n",
              "      <td>0.711159</td>\n",
              "    </tr>\n",
              "    <tr>\n",
              "      <th>vectorizer_CountVectorizer_ng24</th>\n",
              "      <td>0.679136</td>\n",
              "      <td>0.681827</td>\n",
              "      <td>0.680069</td>\n",
              "      <td>0.681827</td>\n",
              "    </tr>\n",
              "  </tbody>\n",
              "</table>\n",
              "</div>"
            ],
            "text/plain": [
              "                                 precision    recall        f1  accuracy\n",
              "vectorizer_CountVectorizer_ng11   0.703347  0.697641  0.698068  0.697641\n",
              "vectorizer_CountVectorizer_ng22   0.689454  0.689604  0.689123  0.689604\n",
              "vectorizer_CountVectorizer_ng12   0.714521  0.712492  0.712502  0.712492\n",
              "vectorizer_CountVectorizer_ng13   0.710881  0.711159  0.710547  0.711159\n",
              "vectorizer_CountVectorizer_ng24   0.679136  0.681827  0.680069  0.681827"
            ]
          },
          "metadata": {},
          "execution_count": 53
        }
      ]
    },
    {
      "cell_type": "markdown",
      "metadata": {
        "id": "ggB-4mGMpf6Z"
      },
      "source": [
        "#### tf-idf"
      ]
    },
    {
      "cell_type": "markdown",
      "metadata": {
        "id": "b4lhHT0wua0D"
      },
      "source": [
        "ngram_range=(1, 1)"
      ]
    },
    {
      "cell_type": "code",
      "metadata": {
        "colab": {
          "base_uri": "https://localhost:8080/",
          "height": 237
        },
        "id": "i46qcLhFpkTZ",
        "outputId": "4c614c34-927d-4e15-d38f-2c57525ccee2"
      },
      "source": [
        "vectorizer_TfidfVectorizer_ng11 = TfidfVectorizer(ngram_range=(1, 1))\n",
        "\n",
        "vectorized_x_train = vectorizer_TfidfVectorizer_ng11.fit_transform(x_train_preprocessed)\n",
        "vectorized_x_test = vectorizer_TfidfVectorizer_ng11.transform(x_test_preprocessed)\n",
        "\n",
        "clf = MultinomialNB()\n",
        "clf.fit(vectorized_x_train, y_train)\n",
        "y_pred = clf.predict(vectorized_x_test)\n",
        "\n",
        "new_df = pd.DataFrame(\n",
        "    {'precision': [precision_score(y_test, y_pred, average='weighted')],\n",
        "     'recall': [recall_score(y_test, y_pred, average='weighted')],\n",
        "     'f1': [f1_score(y_test, y_pred, average='weighted')],\n",
        "     'accuracy': [accuracy_score(y_test, y_pred)]}, \n",
        "    index=['vectorizer_TfidfVectorizer_ng11'])\n",
        "\n",
        "comparison_df = comparison_df.append(new_df)\n",
        "comparison_df"
      ],
      "execution_count": null,
      "outputs": [
        {
          "output_type": "execute_result",
          "data": {
            "text/html": [
              "<div>\n",
              "<style scoped>\n",
              "    .dataframe tbody tr th:only-of-type {\n",
              "        vertical-align: middle;\n",
              "    }\n",
              "\n",
              "    .dataframe tbody tr th {\n",
              "        vertical-align: top;\n",
              "    }\n",
              "\n",
              "    .dataframe thead th {\n",
              "        text-align: right;\n",
              "    }\n",
              "</style>\n",
              "<table border=\"1\" class=\"dataframe\">\n",
              "  <thead>\n",
              "    <tr style=\"text-align: right;\">\n",
              "      <th></th>\n",
              "      <th>precision</th>\n",
              "      <th>recall</th>\n",
              "      <th>f1</th>\n",
              "      <th>accuracy</th>\n",
              "    </tr>\n",
              "  </thead>\n",
              "  <tbody>\n",
              "    <tr>\n",
              "      <th>vectorizer_CountVectorizer_ng11</th>\n",
              "      <td>0.703347</td>\n",
              "      <td>0.697641</td>\n",
              "      <td>0.698068</td>\n",
              "      <td>0.697641</td>\n",
              "    </tr>\n",
              "    <tr>\n",
              "      <th>vectorizer_CountVectorizer_ng22</th>\n",
              "      <td>0.689454</td>\n",
              "      <td>0.689604</td>\n",
              "      <td>0.689123</td>\n",
              "      <td>0.689604</td>\n",
              "    </tr>\n",
              "    <tr>\n",
              "      <th>vectorizer_CountVectorizer_ng12</th>\n",
              "      <td>0.714521</td>\n",
              "      <td>0.712492</td>\n",
              "      <td>0.712502</td>\n",
              "      <td>0.712492</td>\n",
              "    </tr>\n",
              "    <tr>\n",
              "      <th>vectorizer_CountVectorizer_ng13</th>\n",
              "      <td>0.710881</td>\n",
              "      <td>0.711159</td>\n",
              "      <td>0.710547</td>\n",
              "      <td>0.711159</td>\n",
              "    </tr>\n",
              "    <tr>\n",
              "      <th>vectorizer_CountVectorizer_ng24</th>\n",
              "      <td>0.679136</td>\n",
              "      <td>0.681827</td>\n",
              "      <td>0.680069</td>\n",
              "      <td>0.681827</td>\n",
              "    </tr>\n",
              "    <tr>\n",
              "      <th>vectorizer_TfidfVectorizer_ng11</th>\n",
              "      <td>0.704041</td>\n",
              "      <td>0.698085</td>\n",
              "      <td>0.698781</td>\n",
              "      <td>0.698085</td>\n",
              "    </tr>\n",
              "  </tbody>\n",
              "</table>\n",
              "</div>"
            ],
            "text/plain": [
              "                                 precision    recall        f1  accuracy\n",
              "vectorizer_CountVectorizer_ng11   0.703347  0.697641  0.698068  0.697641\n",
              "vectorizer_CountVectorizer_ng22   0.689454  0.689604  0.689123  0.689604\n",
              "vectorizer_CountVectorizer_ng12   0.714521  0.712492  0.712502  0.712492\n",
              "vectorizer_CountVectorizer_ng13   0.710881  0.711159  0.710547  0.711159\n",
              "vectorizer_CountVectorizer_ng24   0.679136  0.681827  0.680069  0.681827\n",
              "vectorizer_TfidfVectorizer_ng11   0.704041  0.698085  0.698781  0.698085"
            ]
          },
          "metadata": {},
          "execution_count": 54
        }
      ]
    },
    {
      "cell_type": "markdown",
      "metadata": {
        "id": "SfJFVw2mudGQ"
      },
      "source": [
        "ngram_range=(1, 2)"
      ]
    },
    {
      "cell_type": "code",
      "metadata": {
        "colab": {
          "base_uri": "https://localhost:8080/",
          "height": 269
        },
        "id": "1mF1lwv4uhXQ",
        "outputId": "ba3e9808-9184-4bf0-9cae-fa3c7c457036"
      },
      "source": [
        "vectorizer_TfidfVectorizer_ng12 = TfidfVectorizer(ngram_range=(1, 2))\n",
        "\n",
        "vectorized_x_train = vectorizer_TfidfVectorizer_ng12.fit_transform(x_train_preprocessed)\n",
        "vectorized_x_test = vectorizer_TfidfVectorizer_ng12.transform(x_test_preprocessed)\n",
        "\n",
        "clf = MultinomialNB()\n",
        "clf.fit(vectorized_x_train, y_train)\n",
        "y_pred = clf.predict(vectorized_x_test)\n",
        "\n",
        "new_df = pd.DataFrame(\n",
        "    {'precision': [precision_score(y_test, y_pred, average='weighted')],\n",
        "     'recall': [recall_score(y_test, y_pred, average='weighted')],\n",
        "     'f1': [f1_score(y_test, y_pred, average='weighted')],\n",
        "     'accuracy': [accuracy_score(y_test, y_pred)]}, \n",
        "    index=['vectorizer_TfidfVectorizer_ng12'])\n",
        "\n",
        "comparison_df = comparison_df.append(new_df)\n",
        "comparison_df"
      ],
      "execution_count": null,
      "outputs": [
        {
          "output_type": "execute_result",
          "data": {
            "text/html": [
              "<div>\n",
              "<style scoped>\n",
              "    .dataframe tbody tr th:only-of-type {\n",
              "        vertical-align: middle;\n",
              "    }\n",
              "\n",
              "    .dataframe tbody tr th {\n",
              "        vertical-align: top;\n",
              "    }\n",
              "\n",
              "    .dataframe thead th {\n",
              "        text-align: right;\n",
              "    }\n",
              "</style>\n",
              "<table border=\"1\" class=\"dataframe\">\n",
              "  <thead>\n",
              "    <tr style=\"text-align: right;\">\n",
              "      <th></th>\n",
              "      <th>precision</th>\n",
              "      <th>recall</th>\n",
              "      <th>f1</th>\n",
              "      <th>accuracy</th>\n",
              "    </tr>\n",
              "  </thead>\n",
              "  <tbody>\n",
              "    <tr>\n",
              "      <th>vectorizer_CountVectorizer_ng11</th>\n",
              "      <td>0.703347</td>\n",
              "      <td>0.697641</td>\n",
              "      <td>0.698068</td>\n",
              "      <td>0.697641</td>\n",
              "    </tr>\n",
              "    <tr>\n",
              "      <th>vectorizer_CountVectorizer_ng22</th>\n",
              "      <td>0.689454</td>\n",
              "      <td>0.689604</td>\n",
              "      <td>0.689123</td>\n",
              "      <td>0.689604</td>\n",
              "    </tr>\n",
              "    <tr>\n",
              "      <th>vectorizer_CountVectorizer_ng12</th>\n",
              "      <td>0.714521</td>\n",
              "      <td>0.712492</td>\n",
              "      <td>0.712502</td>\n",
              "      <td>0.712492</td>\n",
              "    </tr>\n",
              "    <tr>\n",
              "      <th>vectorizer_CountVectorizer_ng13</th>\n",
              "      <td>0.710881</td>\n",
              "      <td>0.711159</td>\n",
              "      <td>0.710547</td>\n",
              "      <td>0.711159</td>\n",
              "    </tr>\n",
              "    <tr>\n",
              "      <th>vectorizer_CountVectorizer_ng24</th>\n",
              "      <td>0.679136</td>\n",
              "      <td>0.681827</td>\n",
              "      <td>0.680069</td>\n",
              "      <td>0.681827</td>\n",
              "    </tr>\n",
              "    <tr>\n",
              "      <th>vectorizer_TfidfVectorizer_ng11</th>\n",
              "      <td>0.704041</td>\n",
              "      <td>0.698085</td>\n",
              "      <td>0.698781</td>\n",
              "      <td>0.698085</td>\n",
              "    </tr>\n",
              "    <tr>\n",
              "      <th>vectorizer_TfidfVectorizer_ng12</th>\n",
              "      <td>0.715107</td>\n",
              "      <td>0.713529</td>\n",
              "      <td>0.713256</td>\n",
              "      <td>0.713529</td>\n",
              "    </tr>\n",
              "  </tbody>\n",
              "</table>\n",
              "</div>"
            ],
            "text/plain": [
              "                                 precision    recall        f1  accuracy\n",
              "vectorizer_CountVectorizer_ng11   0.703347  0.697641  0.698068  0.697641\n",
              "vectorizer_CountVectorizer_ng22   0.689454  0.689604  0.689123  0.689604\n",
              "vectorizer_CountVectorizer_ng12   0.714521  0.712492  0.712502  0.712492\n",
              "vectorizer_CountVectorizer_ng13   0.710881  0.711159  0.710547  0.711159\n",
              "vectorizer_CountVectorizer_ng24   0.679136  0.681827  0.680069  0.681827\n",
              "vectorizer_TfidfVectorizer_ng11   0.704041  0.698085  0.698781  0.698085\n",
              "vectorizer_TfidfVectorizer_ng12   0.715107  0.713529  0.713256  0.713529"
            ]
          },
          "metadata": {},
          "execution_count": 55
        }
      ]
    },
    {
      "cell_type": "markdown",
      "metadata": {
        "id": "qVrCCqotvJUz"
      },
      "source": [
        "Подберем и гиперпараметры max_df, min_df, max_features"
      ]
    },
    {
      "cell_type": "markdown",
      "metadata": {
        "id": "57d3XxUqvBc7"
      },
      "source": [
        "**max_df** : float or int, default=1.0\n",
        "When building the vocabulary ignore terms that have a document frequency strictly higher than the given threshold (corpus-specific stop words). If float in range [0.0, 1.0], the parameter represents a proportion of documents, integer absolute counts. This parameter is ignored if vocabulary is not None.\n",
        "\n",
        "**min_df** : float or int, default=1\n",
        "When building the vocabulary ignore terms that have a document frequency strictly lower than the given threshold. This value is also called cut-off in the literature. If float in range of [0.0, 1.0], the parameter represents a proportion of documents, integer absolute counts. This parameter is ignored if vocabulary is not None.\n",
        "\n",
        "**max_features** : int, default=None\n",
        "If not None, build a vocabulary that only consider the top max_features ordered by term frequency across the corpus.\n",
        "\n",
        "This parameter is ignored if vocabulary is not None."
      ]
    },
    {
      "cell_type": "markdown",
      "metadata": {
        "id": "AY66ofVjurID"
      },
      "source": [
        "ngram_range=(1, 2), max_df=0.5, min_df=0.01, max_features=int(vocab_len/2)"
      ]
    },
    {
      "cell_type": "code",
      "metadata": {
        "colab": {
          "base_uri": "https://localhost:8080/"
        },
        "id": "Z0_wgFkeuOF8",
        "outputId": "21b09234-8158-4d16-eb83-6cc9718f9214"
      },
      "source": [
        "vocab_len = vectorizer_TfidfVectorizer_ng11.vocabulary_.__len__()\n",
        "vocab_len"
      ],
      "execution_count": null,
      "outputs": [
        {
          "output_type": "execute_result",
          "data": {
            "text/plain": [
              "26692"
            ]
          },
          "metadata": {},
          "execution_count": 56
        }
      ]
    },
    {
      "cell_type": "code",
      "metadata": {
        "colab": {
          "base_uri": "https://localhost:8080/",
          "height": 300
        },
        "id": "unjZNU1lvb6n",
        "outputId": "ec1ff2c6-75a0-490c-a8c9-6c54de69b943"
      },
      "source": [
        "vectorizer_TfidfVectorizer_ng12_maxdf05_mindf001_maxf2 = TfidfVectorizer(\n",
        "    ngram_range=(1, 2), max_df=0.5, min_df=0.01, max_features=int(vocab_len/2)\n",
        "    )\n",
        "\n",
        "vectorized_x_train = vectorizer_TfidfVectorizer_ng12_maxdf05_mindf001_maxf2.fit_transform(x_train_preprocessed)\n",
        "vectorized_x_test = vectorizer_TfidfVectorizer_ng12_maxdf05_mindf001_maxf2.transform(x_test_preprocessed)\n",
        "\n",
        "clf = MultinomialNB()\n",
        "clf.fit(vectorized_x_train, y_train)\n",
        "y_pred = clf.predict(vectorized_x_test)\n",
        "\n",
        "new_df = pd.DataFrame(\n",
        "    {'precision': [precision_score(y_test, y_pred, average='weighted')],\n",
        "     'recall': [recall_score(y_test, y_pred, average='weighted')],\n",
        "     'f1': [f1_score(y_test, y_pred, average='weighted')],\n",
        "     'accuracy': [accuracy_score(y_test, y_pred)]}, \n",
        "    index=['vectorizer_TfidfVectorizer_ng12_maxdf05_mindf001_maxf2'])\n",
        "\n",
        "comparison_df = comparison_df.append(new_df)\n",
        "comparison_df"
      ],
      "execution_count": null,
      "outputs": [
        {
          "output_type": "execute_result",
          "data": {
            "text/html": [
              "<div>\n",
              "<style scoped>\n",
              "    .dataframe tbody tr th:only-of-type {\n",
              "        vertical-align: middle;\n",
              "    }\n",
              "\n",
              "    .dataframe tbody tr th {\n",
              "        vertical-align: top;\n",
              "    }\n",
              "\n",
              "    .dataframe thead th {\n",
              "        text-align: right;\n",
              "    }\n",
              "</style>\n",
              "<table border=\"1\" class=\"dataframe\">\n",
              "  <thead>\n",
              "    <tr style=\"text-align: right;\">\n",
              "      <th></th>\n",
              "      <th>precision</th>\n",
              "      <th>recall</th>\n",
              "      <th>f1</th>\n",
              "      <th>accuracy</th>\n",
              "    </tr>\n",
              "  </thead>\n",
              "  <tbody>\n",
              "    <tr>\n",
              "      <th>vectorizer_CountVectorizer_ng11</th>\n",
              "      <td>0.703347</td>\n",
              "      <td>0.697641</td>\n",
              "      <td>0.698068</td>\n",
              "      <td>0.697641</td>\n",
              "    </tr>\n",
              "    <tr>\n",
              "      <th>vectorizer_CountVectorizer_ng22</th>\n",
              "      <td>0.689454</td>\n",
              "      <td>0.689604</td>\n",
              "      <td>0.689123</td>\n",
              "      <td>0.689604</td>\n",
              "    </tr>\n",
              "    <tr>\n",
              "      <th>vectorizer_CountVectorizer_ng12</th>\n",
              "      <td>0.714521</td>\n",
              "      <td>0.712492</td>\n",
              "      <td>0.712502</td>\n",
              "      <td>0.712492</td>\n",
              "    </tr>\n",
              "    <tr>\n",
              "      <th>vectorizer_CountVectorizer_ng13</th>\n",
              "      <td>0.710881</td>\n",
              "      <td>0.711159</td>\n",
              "      <td>0.710547</td>\n",
              "      <td>0.711159</td>\n",
              "    </tr>\n",
              "    <tr>\n",
              "      <th>vectorizer_CountVectorizer_ng24</th>\n",
              "      <td>0.679136</td>\n",
              "      <td>0.681827</td>\n",
              "      <td>0.680069</td>\n",
              "      <td>0.681827</td>\n",
              "    </tr>\n",
              "    <tr>\n",
              "      <th>vectorizer_TfidfVectorizer_ng11</th>\n",
              "      <td>0.704041</td>\n",
              "      <td>0.698085</td>\n",
              "      <td>0.698781</td>\n",
              "      <td>0.698085</td>\n",
              "    </tr>\n",
              "    <tr>\n",
              "      <th>vectorizer_TfidfVectorizer_ng12</th>\n",
              "      <td>0.715107</td>\n",
              "      <td>0.713529</td>\n",
              "      <td>0.713256</td>\n",
              "      <td>0.713529</td>\n",
              "    </tr>\n",
              "    <tr>\n",
              "      <th>vectorizer_TfidfVectorizer_ng12_maxdf05_mindf001_maxf2</th>\n",
              "      <td>0.676841</td>\n",
              "      <td>0.666012</td>\n",
              "      <td>0.667872</td>\n",
              "      <td>0.666012</td>\n",
              "    </tr>\n",
              "  </tbody>\n",
              "</table>\n",
              "</div>"
            ],
            "text/plain": [
              "                                                    precision  ...  accuracy\n",
              "vectorizer_CountVectorizer_ng11                      0.703347  ...  0.697641\n",
              "vectorizer_CountVectorizer_ng22                      0.689454  ...  0.689604\n",
              "vectorizer_CountVectorizer_ng12                      0.714521  ...  0.712492\n",
              "vectorizer_CountVectorizer_ng13                      0.710881  ...  0.711159\n",
              "vectorizer_CountVectorizer_ng24                      0.679136  ...  0.681827\n",
              "vectorizer_TfidfVectorizer_ng11                      0.704041  ...  0.698085\n",
              "vectorizer_TfidfVectorizer_ng12                      0.715107  ...  0.713529\n",
              "vectorizer_TfidfVectorizer_ng12_maxdf05_mindf00...   0.676841  ...  0.666012\n",
              "\n",
              "[8 rows x 4 columns]"
            ]
          },
          "metadata": {},
          "execution_count": 57
        }
      ]
    },
    {
      "cell_type": "markdown",
      "metadata": {
        "id": "kZMXlNE-wNvW"
      },
      "source": [
        "ngram_range=(1, 2), max_df=0.5"
      ]
    },
    {
      "cell_type": "code",
      "metadata": {
        "colab": {
          "base_uri": "https://localhost:8080/",
          "height": 331
        },
        "id": "-vr2TjQCwOPl",
        "outputId": "5d0c40f3-8dbe-4db7-f012-df2663f1e66b"
      },
      "source": [
        "vectorizer_TfidfVectorizer_ng12_maxdf05 = TfidfVectorizer(\n",
        "    ngram_range=(1, 2), max_df=0.5\n",
        "    )\n",
        "\n",
        "vectorized_x_train = vectorizer_TfidfVectorizer_ng12_maxdf05.fit_transform(x_train_preprocessed)\n",
        "vectorized_x_test = vectorizer_TfidfVectorizer_ng12_maxdf05.transform(x_test_preprocessed)\n",
        "\n",
        "clf = MultinomialNB()\n",
        "clf.fit(vectorized_x_train, y_train)\n",
        "y_pred = clf.predict(vectorized_x_test)\n",
        "\n",
        "new_df = pd.DataFrame(\n",
        "    {'precision': [precision_score(y_test, y_pred, average='weighted')],\n",
        "     'recall': [recall_score(y_test, y_pred, average='weighted')],\n",
        "     'f1': [f1_score(y_test, y_pred, average='weighted')],\n",
        "     'accuracy': [accuracy_score(y_test, y_pred)]}, \n",
        "    index=['vectorizer_TfidfVectorizer_ng12_maxdf05'])\n",
        "\n",
        "comparison_df = comparison_df.append(new_df)\n",
        "comparison_df"
      ],
      "execution_count": null,
      "outputs": [
        {
          "output_type": "execute_result",
          "data": {
            "text/html": [
              "<div>\n",
              "<style scoped>\n",
              "    .dataframe tbody tr th:only-of-type {\n",
              "        vertical-align: middle;\n",
              "    }\n",
              "\n",
              "    .dataframe tbody tr th {\n",
              "        vertical-align: top;\n",
              "    }\n",
              "\n",
              "    .dataframe thead th {\n",
              "        text-align: right;\n",
              "    }\n",
              "</style>\n",
              "<table border=\"1\" class=\"dataframe\">\n",
              "  <thead>\n",
              "    <tr style=\"text-align: right;\">\n",
              "      <th></th>\n",
              "      <th>precision</th>\n",
              "      <th>recall</th>\n",
              "      <th>f1</th>\n",
              "      <th>accuracy</th>\n",
              "    </tr>\n",
              "  </thead>\n",
              "  <tbody>\n",
              "    <tr>\n",
              "      <th>vectorizer_CountVectorizer_ng11</th>\n",
              "      <td>0.703347</td>\n",
              "      <td>0.697641</td>\n",
              "      <td>0.698068</td>\n",
              "      <td>0.697641</td>\n",
              "    </tr>\n",
              "    <tr>\n",
              "      <th>vectorizer_CountVectorizer_ng22</th>\n",
              "      <td>0.689454</td>\n",
              "      <td>0.689604</td>\n",
              "      <td>0.689123</td>\n",
              "      <td>0.689604</td>\n",
              "    </tr>\n",
              "    <tr>\n",
              "      <th>vectorizer_CountVectorizer_ng12</th>\n",
              "      <td>0.714521</td>\n",
              "      <td>0.712492</td>\n",
              "      <td>0.712502</td>\n",
              "      <td>0.712492</td>\n",
              "    </tr>\n",
              "    <tr>\n",
              "      <th>vectorizer_CountVectorizer_ng13</th>\n",
              "      <td>0.710881</td>\n",
              "      <td>0.711159</td>\n",
              "      <td>0.710547</td>\n",
              "      <td>0.711159</td>\n",
              "    </tr>\n",
              "    <tr>\n",
              "      <th>vectorizer_CountVectorizer_ng24</th>\n",
              "      <td>0.679136</td>\n",
              "      <td>0.681827</td>\n",
              "      <td>0.680069</td>\n",
              "      <td>0.681827</td>\n",
              "    </tr>\n",
              "    <tr>\n",
              "      <th>vectorizer_TfidfVectorizer_ng11</th>\n",
              "      <td>0.704041</td>\n",
              "      <td>0.698085</td>\n",
              "      <td>0.698781</td>\n",
              "      <td>0.698085</td>\n",
              "    </tr>\n",
              "    <tr>\n",
              "      <th>vectorizer_TfidfVectorizer_ng12</th>\n",
              "      <td>0.715107</td>\n",
              "      <td>0.713529</td>\n",
              "      <td>0.713256</td>\n",
              "      <td>0.713529</td>\n",
              "    </tr>\n",
              "    <tr>\n",
              "      <th>vectorizer_TfidfVectorizer_ng12_maxdf05_mindf001_maxf2</th>\n",
              "      <td>0.676841</td>\n",
              "      <td>0.666012</td>\n",
              "      <td>0.667872</td>\n",
              "      <td>0.666012</td>\n",
              "    </tr>\n",
              "    <tr>\n",
              "      <th>vectorizer_TfidfVectorizer_ng12_maxdf05</th>\n",
              "      <td>0.715107</td>\n",
              "      <td>0.713529</td>\n",
              "      <td>0.713256</td>\n",
              "      <td>0.713529</td>\n",
              "    </tr>\n",
              "  </tbody>\n",
              "</table>\n",
              "</div>"
            ],
            "text/plain": [
              "                                                    precision  ...  accuracy\n",
              "vectorizer_CountVectorizer_ng11                      0.703347  ...  0.697641\n",
              "vectorizer_CountVectorizer_ng22                      0.689454  ...  0.689604\n",
              "vectorizer_CountVectorizer_ng12                      0.714521  ...  0.712492\n",
              "vectorizer_CountVectorizer_ng13                      0.710881  ...  0.711159\n",
              "vectorizer_CountVectorizer_ng24                      0.679136  ...  0.681827\n",
              "vectorizer_TfidfVectorizer_ng11                      0.704041  ...  0.698085\n",
              "vectorizer_TfidfVectorizer_ng12                      0.715107  ...  0.713529\n",
              "vectorizer_TfidfVectorizer_ng12_maxdf05_mindf00...   0.676841  ...  0.666012\n",
              "vectorizer_TfidfVectorizer_ng12_maxdf05              0.715107  ...  0.713529\n",
              "\n",
              "[9 rows x 4 columns]"
            ]
          },
          "metadata": {},
          "execution_count": 58
        }
      ]
    },
    {
      "cell_type": "markdown",
      "metadata": {
        "id": "AKaKaRMwwrFQ"
      },
      "source": [
        "ngram_range=(1, 2), max_df=0.1"
      ]
    },
    {
      "cell_type": "code",
      "metadata": {
        "colab": {
          "base_uri": "https://localhost:8080/",
          "height": 363
        },
        "id": "QEkaqB0Swrq_",
        "outputId": "653cb3fd-97d6-4c6d-af98-9c8d6e778fff"
      },
      "source": [
        "vectorizer_TfidfVectorizer_ng12_maxdf01 = TfidfVectorizer(\n",
        "    ngram_range=(1, 2), max_df=0.1\n",
        "    )\n",
        "\n",
        "vectorized_x_train = vectorizer_TfidfVectorizer_ng12_maxdf01.fit_transform(x_train_preprocessed)\n",
        "vectorized_x_test = vectorizer_TfidfVectorizer_ng12_maxdf01.transform(x_test_preprocessed)\n",
        "\n",
        "clf = MultinomialNB()\n",
        "clf.fit(vectorized_x_train, y_train)\n",
        "y_pred = clf.predict(vectorized_x_test)\n",
        "\n",
        "new_df = pd.DataFrame(\n",
        "    {'precision': [precision_score(y_test, y_pred, average='weighted')],\n",
        "     'recall': [recall_score(y_test, y_pred, average='weighted')],\n",
        "     'f1': [f1_score(y_test, y_pred, average='weighted')],\n",
        "     'accuracy': [accuracy_score(y_test, y_pred)]}, \n",
        "    index=['vectorizer_TfidfVectorizer_ng12_maxdf01'])\n",
        "\n",
        "comparison_df = comparison_df.append(new_df)\n",
        "comparison_df"
      ],
      "execution_count": null,
      "outputs": [
        {
          "output_type": "execute_result",
          "data": {
            "text/html": [
              "<div>\n",
              "<style scoped>\n",
              "    .dataframe tbody tr th:only-of-type {\n",
              "        vertical-align: middle;\n",
              "    }\n",
              "\n",
              "    .dataframe tbody tr th {\n",
              "        vertical-align: top;\n",
              "    }\n",
              "\n",
              "    .dataframe thead th {\n",
              "        text-align: right;\n",
              "    }\n",
              "</style>\n",
              "<table border=\"1\" class=\"dataframe\">\n",
              "  <thead>\n",
              "    <tr style=\"text-align: right;\">\n",
              "      <th></th>\n",
              "      <th>precision</th>\n",
              "      <th>recall</th>\n",
              "      <th>f1</th>\n",
              "      <th>accuracy</th>\n",
              "    </tr>\n",
              "  </thead>\n",
              "  <tbody>\n",
              "    <tr>\n",
              "      <th>vectorizer_CountVectorizer_ng11</th>\n",
              "      <td>0.703347</td>\n",
              "      <td>0.697641</td>\n",
              "      <td>0.698068</td>\n",
              "      <td>0.697641</td>\n",
              "    </tr>\n",
              "    <tr>\n",
              "      <th>vectorizer_CountVectorizer_ng22</th>\n",
              "      <td>0.689454</td>\n",
              "      <td>0.689604</td>\n",
              "      <td>0.689123</td>\n",
              "      <td>0.689604</td>\n",
              "    </tr>\n",
              "    <tr>\n",
              "      <th>vectorizer_CountVectorizer_ng12</th>\n",
              "      <td>0.714521</td>\n",
              "      <td>0.712492</td>\n",
              "      <td>0.712502</td>\n",
              "      <td>0.712492</td>\n",
              "    </tr>\n",
              "    <tr>\n",
              "      <th>vectorizer_CountVectorizer_ng13</th>\n",
              "      <td>0.710881</td>\n",
              "      <td>0.711159</td>\n",
              "      <td>0.710547</td>\n",
              "      <td>0.711159</td>\n",
              "    </tr>\n",
              "    <tr>\n",
              "      <th>vectorizer_CountVectorizer_ng24</th>\n",
              "      <td>0.679136</td>\n",
              "      <td>0.681827</td>\n",
              "      <td>0.680069</td>\n",
              "      <td>0.681827</td>\n",
              "    </tr>\n",
              "    <tr>\n",
              "      <th>vectorizer_TfidfVectorizer_ng11</th>\n",
              "      <td>0.704041</td>\n",
              "      <td>0.698085</td>\n",
              "      <td>0.698781</td>\n",
              "      <td>0.698085</td>\n",
              "    </tr>\n",
              "    <tr>\n",
              "      <th>vectorizer_TfidfVectorizer_ng12</th>\n",
              "      <td>0.715107</td>\n",
              "      <td>0.713529</td>\n",
              "      <td>0.713256</td>\n",
              "      <td>0.713529</td>\n",
              "    </tr>\n",
              "    <tr>\n",
              "      <th>vectorizer_TfidfVectorizer_ng12_maxdf05_mindf001_maxf2</th>\n",
              "      <td>0.676841</td>\n",
              "      <td>0.666012</td>\n",
              "      <td>0.667872</td>\n",
              "      <td>0.666012</td>\n",
              "    </tr>\n",
              "    <tr>\n",
              "      <th>vectorizer_TfidfVectorizer_ng12_maxdf05</th>\n",
              "      <td>0.715107</td>\n",
              "      <td>0.713529</td>\n",
              "      <td>0.713256</td>\n",
              "      <td>0.713529</td>\n",
              "    </tr>\n",
              "    <tr>\n",
              "      <th>vectorizer_TfidfVectorizer_ng12_maxdf01</th>\n",
              "      <td>0.715525</td>\n",
              "      <td>0.712937</td>\n",
              "      <td>0.712984</td>\n",
              "      <td>0.712937</td>\n",
              "    </tr>\n",
              "  </tbody>\n",
              "</table>\n",
              "</div>"
            ],
            "text/plain": [
              "                                                    precision  ...  accuracy\n",
              "vectorizer_CountVectorizer_ng11                      0.703347  ...  0.697641\n",
              "vectorizer_CountVectorizer_ng22                      0.689454  ...  0.689604\n",
              "vectorizer_CountVectorizer_ng12                      0.714521  ...  0.712492\n",
              "vectorizer_CountVectorizer_ng13                      0.710881  ...  0.711159\n",
              "vectorizer_CountVectorizer_ng24                      0.679136  ...  0.681827\n",
              "vectorizer_TfidfVectorizer_ng11                      0.704041  ...  0.698085\n",
              "vectorizer_TfidfVectorizer_ng12                      0.715107  ...  0.713529\n",
              "vectorizer_TfidfVectorizer_ng12_maxdf05_mindf00...   0.676841  ...  0.666012\n",
              "vectorizer_TfidfVectorizer_ng12_maxdf05              0.715107  ...  0.713529\n",
              "vectorizer_TfidfVectorizer_ng12_maxdf01              0.715525  ...  0.712937\n",
              "\n",
              "[10 rows x 4 columns]"
            ]
          },
          "metadata": {},
          "execution_count": 59
        }
      ]
    },
    {
      "cell_type": "markdown",
      "metadata": {
        "id": "gftd4o2Sw7Xy"
      },
      "source": [
        "ngram_range=(1, 2), max_df=0.5, min_df=0.01"
      ]
    },
    {
      "cell_type": "code",
      "metadata": {
        "colab": {
          "base_uri": "https://localhost:8080/",
          "height": 394
        },
        "id": "m3JxVtCNw7q6",
        "outputId": "2889ba0e-717a-4fef-d0e1-8f8164280498"
      },
      "source": [
        "vectorizer_TfidfVectorizer_ng12_maxdf05_mindf001 = TfidfVectorizer(\n",
        "    ngram_range=(1, 2), max_df=0.5, min_df=0.01\n",
        "    )\n",
        "\n",
        "vectorized_x_train = vectorizer_TfidfVectorizer_ng12_maxdf05_mindf001.fit_transform(x_train_preprocessed)\n",
        "vectorized_x_test = vectorizer_TfidfVectorizer_ng12_maxdf05_mindf001.transform(x_test_preprocessed)\n",
        "\n",
        "clf = MultinomialNB()\n",
        "clf.fit(vectorized_x_train, y_train)\n",
        "y_pred = clf.predict(vectorized_x_test)\n",
        "\n",
        "new_df = pd.DataFrame(\n",
        "    {'precision': [precision_score(y_test, y_pred, average='weighted')],\n",
        "     'recall': [recall_score(y_test, y_pred, average='weighted')],\n",
        "     'f1': [f1_score(y_test, y_pred, average='weighted')],\n",
        "     'accuracy': [accuracy_score(y_test, y_pred)]}, \n",
        "    index=['vectorizer_TfidfVectorizer_ng12_maxdf05_mindf001'])\n",
        "\n",
        "comparison_df = comparison_df.append(new_df)\n",
        "comparison_df"
      ],
      "execution_count": null,
      "outputs": [
        {
          "output_type": "execute_result",
          "data": {
            "text/html": [
              "<div>\n",
              "<style scoped>\n",
              "    .dataframe tbody tr th:only-of-type {\n",
              "        vertical-align: middle;\n",
              "    }\n",
              "\n",
              "    .dataframe tbody tr th {\n",
              "        vertical-align: top;\n",
              "    }\n",
              "\n",
              "    .dataframe thead th {\n",
              "        text-align: right;\n",
              "    }\n",
              "</style>\n",
              "<table border=\"1\" class=\"dataframe\">\n",
              "  <thead>\n",
              "    <tr style=\"text-align: right;\">\n",
              "      <th></th>\n",
              "      <th>precision</th>\n",
              "      <th>recall</th>\n",
              "      <th>f1</th>\n",
              "      <th>accuracy</th>\n",
              "    </tr>\n",
              "  </thead>\n",
              "  <tbody>\n",
              "    <tr>\n",
              "      <th>vectorizer_CountVectorizer_ng11</th>\n",
              "      <td>0.703347</td>\n",
              "      <td>0.697641</td>\n",
              "      <td>0.698068</td>\n",
              "      <td>0.697641</td>\n",
              "    </tr>\n",
              "    <tr>\n",
              "      <th>vectorizer_CountVectorizer_ng22</th>\n",
              "      <td>0.689454</td>\n",
              "      <td>0.689604</td>\n",
              "      <td>0.689123</td>\n",
              "      <td>0.689604</td>\n",
              "    </tr>\n",
              "    <tr>\n",
              "      <th>vectorizer_CountVectorizer_ng12</th>\n",
              "      <td>0.714521</td>\n",
              "      <td>0.712492</td>\n",
              "      <td>0.712502</td>\n",
              "      <td>0.712492</td>\n",
              "    </tr>\n",
              "    <tr>\n",
              "      <th>vectorizer_CountVectorizer_ng13</th>\n",
              "      <td>0.710881</td>\n",
              "      <td>0.711159</td>\n",
              "      <td>0.710547</td>\n",
              "      <td>0.711159</td>\n",
              "    </tr>\n",
              "    <tr>\n",
              "      <th>vectorizer_CountVectorizer_ng24</th>\n",
              "      <td>0.679136</td>\n",
              "      <td>0.681827</td>\n",
              "      <td>0.680069</td>\n",
              "      <td>0.681827</td>\n",
              "    </tr>\n",
              "    <tr>\n",
              "      <th>vectorizer_TfidfVectorizer_ng11</th>\n",
              "      <td>0.704041</td>\n",
              "      <td>0.698085</td>\n",
              "      <td>0.698781</td>\n",
              "      <td>0.698085</td>\n",
              "    </tr>\n",
              "    <tr>\n",
              "      <th>vectorizer_TfidfVectorizer_ng12</th>\n",
              "      <td>0.715107</td>\n",
              "      <td>0.713529</td>\n",
              "      <td>0.713256</td>\n",
              "      <td>0.713529</td>\n",
              "    </tr>\n",
              "    <tr>\n",
              "      <th>vectorizer_TfidfVectorizer_ng12_maxdf05_mindf001_maxf2</th>\n",
              "      <td>0.676841</td>\n",
              "      <td>0.666012</td>\n",
              "      <td>0.667872</td>\n",
              "      <td>0.666012</td>\n",
              "    </tr>\n",
              "    <tr>\n",
              "      <th>vectorizer_TfidfVectorizer_ng12_maxdf05</th>\n",
              "      <td>0.715107</td>\n",
              "      <td>0.713529</td>\n",
              "      <td>0.713256</td>\n",
              "      <td>0.713529</td>\n",
              "    </tr>\n",
              "    <tr>\n",
              "      <th>vectorizer_TfidfVectorizer_ng12_maxdf01</th>\n",
              "      <td>0.715525</td>\n",
              "      <td>0.712937</td>\n",
              "      <td>0.712984</td>\n",
              "      <td>0.712937</td>\n",
              "    </tr>\n",
              "    <tr>\n",
              "      <th>vectorizer_TfidfVectorizer_ng12_maxdf05_mindf001</th>\n",
              "      <td>0.676841</td>\n",
              "      <td>0.666012</td>\n",
              "      <td>0.667872</td>\n",
              "      <td>0.666012</td>\n",
              "    </tr>\n",
              "  </tbody>\n",
              "</table>\n",
              "</div>"
            ],
            "text/plain": [
              "                                                    precision  ...  accuracy\n",
              "vectorizer_CountVectorizer_ng11                      0.703347  ...  0.697641\n",
              "vectorizer_CountVectorizer_ng22                      0.689454  ...  0.689604\n",
              "vectorizer_CountVectorizer_ng12                      0.714521  ...  0.712492\n",
              "vectorizer_CountVectorizer_ng13                      0.710881  ...  0.711159\n",
              "vectorizer_CountVectorizer_ng24                      0.679136  ...  0.681827\n",
              "vectorizer_TfidfVectorizer_ng11                      0.704041  ...  0.698085\n",
              "vectorizer_TfidfVectorizer_ng12                      0.715107  ...  0.713529\n",
              "vectorizer_TfidfVectorizer_ng12_maxdf05_mindf00...   0.676841  ...  0.666012\n",
              "vectorizer_TfidfVectorizer_ng12_maxdf05              0.715107  ...  0.713529\n",
              "vectorizer_TfidfVectorizer_ng12_maxdf01              0.715525  ...  0.712937\n",
              "vectorizer_TfidfVectorizer_ng12_maxdf05_mindf001     0.676841  ...  0.666012\n",
              "\n",
              "[11 rows x 4 columns]"
            ]
          },
          "metadata": {},
          "execution_count": 60
        }
      ]
    },
    {
      "cell_type": "markdown",
      "metadata": {
        "id": "EtAt-E-oxhxU"
      },
      "source": [
        "ngram_range=(1, 2), max_df=0.5, min_df=5"
      ]
    },
    {
      "cell_type": "code",
      "metadata": {
        "colab": {
          "base_uri": "https://localhost:8080/",
          "height": 425
        },
        "id": "jLj_NNWhxiU3",
        "outputId": "28c81830-6b5e-45b4-d8da-8b5a6f0b292c"
      },
      "source": [
        "vectorizer_TfidfVectorizer_ng12_maxdf05_mindf5 = TfidfVectorizer(\n",
        "    ngram_range=(1, 2), max_df=0.5, min_df=5\n",
        "    )\n",
        "\n",
        "vectorized_x_train = vectorizer_TfidfVectorizer_ng12_maxdf05_mindf5.fit_transform(x_train_preprocessed)\n",
        "vectorized_x_test = vectorizer_TfidfVectorizer_ng12_maxdf05_mindf5.transform(x_test_preprocessed)\n",
        "\n",
        "clf = MultinomialNB()\n",
        "clf.fit(vectorized_x_train, y_train)\n",
        "y_pred = clf.predict(vectorized_x_test)\n",
        "\n",
        "new_df = pd.DataFrame(\n",
        "    {'precision': [precision_score(y_test, y_pred, average='weighted')],\n",
        "     'recall': [recall_score(y_test, y_pred, average='weighted')],\n",
        "     'f1': [f1_score(y_test, y_pred, average='weighted')],\n",
        "     'accuracy': [accuracy_score(y_test, y_pred)]}, \n",
        "    index=['vectorizer_TfidfVectorizer_ng12_maxdf05_mindf5'])\n",
        "\n",
        "comparison_df = comparison_df.append(new_df)\n",
        "comparison_df"
      ],
      "execution_count": null,
      "outputs": [
        {
          "output_type": "execute_result",
          "data": {
            "text/html": [
              "<div>\n",
              "<style scoped>\n",
              "    .dataframe tbody tr th:only-of-type {\n",
              "        vertical-align: middle;\n",
              "    }\n",
              "\n",
              "    .dataframe tbody tr th {\n",
              "        vertical-align: top;\n",
              "    }\n",
              "\n",
              "    .dataframe thead th {\n",
              "        text-align: right;\n",
              "    }\n",
              "</style>\n",
              "<table border=\"1\" class=\"dataframe\">\n",
              "  <thead>\n",
              "    <tr style=\"text-align: right;\">\n",
              "      <th></th>\n",
              "      <th>precision</th>\n",
              "      <th>recall</th>\n",
              "      <th>f1</th>\n",
              "      <th>accuracy</th>\n",
              "    </tr>\n",
              "  </thead>\n",
              "  <tbody>\n",
              "    <tr>\n",
              "      <th>vectorizer_CountVectorizer_ng11</th>\n",
              "      <td>0.703347</td>\n",
              "      <td>0.697641</td>\n",
              "      <td>0.698068</td>\n",
              "      <td>0.697641</td>\n",
              "    </tr>\n",
              "    <tr>\n",
              "      <th>vectorizer_CountVectorizer_ng22</th>\n",
              "      <td>0.689454</td>\n",
              "      <td>0.689604</td>\n",
              "      <td>0.689123</td>\n",
              "      <td>0.689604</td>\n",
              "    </tr>\n",
              "    <tr>\n",
              "      <th>vectorizer_CountVectorizer_ng12</th>\n",
              "      <td>0.714521</td>\n",
              "      <td>0.712492</td>\n",
              "      <td>0.712502</td>\n",
              "      <td>0.712492</td>\n",
              "    </tr>\n",
              "    <tr>\n",
              "      <th>vectorizer_CountVectorizer_ng13</th>\n",
              "      <td>0.710881</td>\n",
              "      <td>0.711159</td>\n",
              "      <td>0.710547</td>\n",
              "      <td>0.711159</td>\n",
              "    </tr>\n",
              "    <tr>\n",
              "      <th>vectorizer_CountVectorizer_ng24</th>\n",
              "      <td>0.679136</td>\n",
              "      <td>0.681827</td>\n",
              "      <td>0.680069</td>\n",
              "      <td>0.681827</td>\n",
              "    </tr>\n",
              "    <tr>\n",
              "      <th>vectorizer_TfidfVectorizer_ng11</th>\n",
              "      <td>0.704041</td>\n",
              "      <td>0.698085</td>\n",
              "      <td>0.698781</td>\n",
              "      <td>0.698085</td>\n",
              "    </tr>\n",
              "    <tr>\n",
              "      <th>vectorizer_TfidfVectorizer_ng12</th>\n",
              "      <td>0.715107</td>\n",
              "      <td>0.713529</td>\n",
              "      <td>0.713256</td>\n",
              "      <td>0.713529</td>\n",
              "    </tr>\n",
              "    <tr>\n",
              "      <th>vectorizer_TfidfVectorizer_ng12_maxdf05_mindf001_maxf2</th>\n",
              "      <td>0.676841</td>\n",
              "      <td>0.666012</td>\n",
              "      <td>0.667872</td>\n",
              "      <td>0.666012</td>\n",
              "    </tr>\n",
              "    <tr>\n",
              "      <th>vectorizer_TfidfVectorizer_ng12_maxdf05</th>\n",
              "      <td>0.715107</td>\n",
              "      <td>0.713529</td>\n",
              "      <td>0.713256</td>\n",
              "      <td>0.713529</td>\n",
              "    </tr>\n",
              "    <tr>\n",
              "      <th>vectorizer_TfidfVectorizer_ng12_maxdf01</th>\n",
              "      <td>0.715525</td>\n",
              "      <td>0.712937</td>\n",
              "      <td>0.712984</td>\n",
              "      <td>0.712937</td>\n",
              "    </tr>\n",
              "    <tr>\n",
              "      <th>vectorizer_TfidfVectorizer_ng12_maxdf05_mindf001</th>\n",
              "      <td>0.676841</td>\n",
              "      <td>0.666012</td>\n",
              "      <td>0.667872</td>\n",
              "      <td>0.666012</td>\n",
              "    </tr>\n",
              "    <tr>\n",
              "      <th>vectorizer_TfidfVectorizer_ng12_maxdf05_mindf5</th>\n",
              "      <td>0.722398</td>\n",
              "      <td>0.714455</td>\n",
              "      <td>0.715781</td>\n",
              "      <td>0.714455</td>\n",
              "    </tr>\n",
              "  </tbody>\n",
              "</table>\n",
              "</div>"
            ],
            "text/plain": [
              "                                                    precision  ...  accuracy\n",
              "vectorizer_CountVectorizer_ng11                      0.703347  ...  0.697641\n",
              "vectorizer_CountVectorizer_ng22                      0.689454  ...  0.689604\n",
              "vectorizer_CountVectorizer_ng12                      0.714521  ...  0.712492\n",
              "vectorizer_CountVectorizer_ng13                      0.710881  ...  0.711159\n",
              "vectorizer_CountVectorizer_ng24                      0.679136  ...  0.681827\n",
              "vectorizer_TfidfVectorizer_ng11                      0.704041  ...  0.698085\n",
              "vectorizer_TfidfVectorizer_ng12                      0.715107  ...  0.713529\n",
              "vectorizer_TfidfVectorizer_ng12_maxdf05_mindf00...   0.676841  ...  0.666012\n",
              "vectorizer_TfidfVectorizer_ng12_maxdf05              0.715107  ...  0.713529\n",
              "vectorizer_TfidfVectorizer_ng12_maxdf01              0.715525  ...  0.712937\n",
              "vectorizer_TfidfVectorizer_ng12_maxdf05_mindf001     0.676841  ...  0.666012\n",
              "vectorizer_TfidfVectorizer_ng12_maxdf05_mindf5       0.722398  ...  0.714455\n",
              "\n",
              "[12 rows x 4 columns]"
            ]
          },
          "metadata": {},
          "execution_count": 61
        }
      ]
    },
    {
      "cell_type": "markdown",
      "metadata": {
        "id": "bGWHymEdxzO3"
      },
      "source": [
        "ngram_range=(1, 2), max_df=0.5, min_df=5, max_features=int(vocab_len/2)"
      ]
    },
    {
      "cell_type": "code",
      "metadata": {
        "colab": {
          "base_uri": "https://localhost:8080/",
          "height": 457
        },
        "id": "zRMlyIJUxzoH",
        "outputId": "e252337d-c47b-4a66-dfcc-321a776681bc"
      },
      "source": [
        "vectorizer_TfidfVectorizer_ng12_maxdf05_mindf5_maxf2 = TfidfVectorizer(\n",
        "    ngram_range=(1, 2), max_df=0.5, min_df=5, max_features=int(vocab_len/2)\n",
        "    )\n",
        "\n",
        "vectorized_x_train = vectorizer_TfidfVectorizer_ng12_maxdf05_mindf5_maxf2.fit_transform(x_train_preprocessed)\n",
        "vectorized_x_test = vectorizer_TfidfVectorizer_ng12_maxdf05_mindf5_maxf2.transform(x_test_preprocessed)\n",
        "\n",
        "clf = MultinomialNB()\n",
        "clf.fit(vectorized_x_train, y_train)\n",
        "y_pred = clf.predict(vectorized_x_test)\n",
        "\n",
        "new_df = pd.DataFrame(\n",
        "    {'precision': [precision_score(y_test, y_pred, average='weighted')],\n",
        "     'recall': [recall_score(y_test, y_pred, average='weighted')],\n",
        "     'f1': [f1_score(y_test, y_pred, average='weighted')],\n",
        "     'accuracy': [accuracy_score(y_test, y_pred)]}, \n",
        "    index=['vectorizer_TfidfVectorizer_ng12_maxdf05_mindf5_maxf2'])\n",
        "\n",
        "comparison_df = comparison_df.append(new_df)\n",
        "comparison_df"
      ],
      "execution_count": null,
      "outputs": [
        {
          "output_type": "execute_result",
          "data": {
            "text/html": [
              "<div>\n",
              "<style scoped>\n",
              "    .dataframe tbody tr th:only-of-type {\n",
              "        vertical-align: middle;\n",
              "    }\n",
              "\n",
              "    .dataframe tbody tr th {\n",
              "        vertical-align: top;\n",
              "    }\n",
              "\n",
              "    .dataframe thead th {\n",
              "        text-align: right;\n",
              "    }\n",
              "</style>\n",
              "<table border=\"1\" class=\"dataframe\">\n",
              "  <thead>\n",
              "    <tr style=\"text-align: right;\">\n",
              "      <th></th>\n",
              "      <th>precision</th>\n",
              "      <th>recall</th>\n",
              "      <th>f1</th>\n",
              "      <th>accuracy</th>\n",
              "    </tr>\n",
              "  </thead>\n",
              "  <tbody>\n",
              "    <tr>\n",
              "      <th>vectorizer_CountVectorizer_ng11</th>\n",
              "      <td>0.703347</td>\n",
              "      <td>0.697641</td>\n",
              "      <td>0.698068</td>\n",
              "      <td>0.697641</td>\n",
              "    </tr>\n",
              "    <tr>\n",
              "      <th>vectorizer_CountVectorizer_ng22</th>\n",
              "      <td>0.689454</td>\n",
              "      <td>0.689604</td>\n",
              "      <td>0.689123</td>\n",
              "      <td>0.689604</td>\n",
              "    </tr>\n",
              "    <tr>\n",
              "      <th>vectorizer_CountVectorizer_ng12</th>\n",
              "      <td>0.714521</td>\n",
              "      <td>0.712492</td>\n",
              "      <td>0.712502</td>\n",
              "      <td>0.712492</td>\n",
              "    </tr>\n",
              "    <tr>\n",
              "      <th>vectorizer_CountVectorizer_ng13</th>\n",
              "      <td>0.710881</td>\n",
              "      <td>0.711159</td>\n",
              "      <td>0.710547</td>\n",
              "      <td>0.711159</td>\n",
              "    </tr>\n",
              "    <tr>\n",
              "      <th>vectorizer_CountVectorizer_ng24</th>\n",
              "      <td>0.679136</td>\n",
              "      <td>0.681827</td>\n",
              "      <td>0.680069</td>\n",
              "      <td>0.681827</td>\n",
              "    </tr>\n",
              "    <tr>\n",
              "      <th>vectorizer_TfidfVectorizer_ng11</th>\n",
              "      <td>0.704041</td>\n",
              "      <td>0.698085</td>\n",
              "      <td>0.698781</td>\n",
              "      <td>0.698085</td>\n",
              "    </tr>\n",
              "    <tr>\n",
              "      <th>vectorizer_TfidfVectorizer_ng12</th>\n",
              "      <td>0.715107</td>\n",
              "      <td>0.713529</td>\n",
              "      <td>0.713256</td>\n",
              "      <td>0.713529</td>\n",
              "    </tr>\n",
              "    <tr>\n",
              "      <th>vectorizer_TfidfVectorizer_ng12_maxdf05_mindf001_maxf2</th>\n",
              "      <td>0.676841</td>\n",
              "      <td>0.666012</td>\n",
              "      <td>0.667872</td>\n",
              "      <td>0.666012</td>\n",
              "    </tr>\n",
              "    <tr>\n",
              "      <th>vectorizer_TfidfVectorizer_ng12_maxdf05</th>\n",
              "      <td>0.715107</td>\n",
              "      <td>0.713529</td>\n",
              "      <td>0.713256</td>\n",
              "      <td>0.713529</td>\n",
              "    </tr>\n",
              "    <tr>\n",
              "      <th>vectorizer_TfidfVectorizer_ng12_maxdf01</th>\n",
              "      <td>0.715525</td>\n",
              "      <td>0.712937</td>\n",
              "      <td>0.712984</td>\n",
              "      <td>0.712937</td>\n",
              "    </tr>\n",
              "    <tr>\n",
              "      <th>vectorizer_TfidfVectorizer_ng12_maxdf05_mindf001</th>\n",
              "      <td>0.676841</td>\n",
              "      <td>0.666012</td>\n",
              "      <td>0.667872</td>\n",
              "      <td>0.666012</td>\n",
              "    </tr>\n",
              "    <tr>\n",
              "      <th>vectorizer_TfidfVectorizer_ng12_maxdf05_mindf5</th>\n",
              "      <td>0.722398</td>\n",
              "      <td>0.714455</td>\n",
              "      <td>0.715781</td>\n",
              "      <td>0.714455</td>\n",
              "    </tr>\n",
              "    <tr>\n",
              "      <th>vectorizer_TfidfVectorizer_ng12_maxdf05_mindf5_maxf2</th>\n",
              "      <td>0.719691</td>\n",
              "      <td>0.710492</td>\n",
              "      <td>0.712020</td>\n",
              "      <td>0.710492</td>\n",
              "    </tr>\n",
              "  </tbody>\n",
              "</table>\n",
              "</div>"
            ],
            "text/plain": [
              "                                                    precision  ...  accuracy\n",
              "vectorizer_CountVectorizer_ng11                      0.703347  ...  0.697641\n",
              "vectorizer_CountVectorizer_ng22                      0.689454  ...  0.689604\n",
              "vectorizer_CountVectorizer_ng12                      0.714521  ...  0.712492\n",
              "vectorizer_CountVectorizer_ng13                      0.710881  ...  0.711159\n",
              "vectorizer_CountVectorizer_ng24                      0.679136  ...  0.681827\n",
              "vectorizer_TfidfVectorizer_ng11                      0.704041  ...  0.698085\n",
              "vectorizer_TfidfVectorizer_ng12                      0.715107  ...  0.713529\n",
              "vectorizer_TfidfVectorizer_ng12_maxdf05_mindf00...   0.676841  ...  0.666012\n",
              "vectorizer_TfidfVectorizer_ng12_maxdf05              0.715107  ...  0.713529\n",
              "vectorizer_TfidfVectorizer_ng12_maxdf01              0.715525  ...  0.712937\n",
              "vectorizer_TfidfVectorizer_ng12_maxdf05_mindf001     0.676841  ...  0.666012\n",
              "vectorizer_TfidfVectorizer_ng12_maxdf05_mindf5       0.722398  ...  0.714455\n",
              "vectorizer_TfidfVectorizer_ng12_maxdf05_mindf5_...   0.719691  ...  0.710492\n",
              "\n",
              "[13 rows x 4 columns]"
            ]
          },
          "metadata": {},
          "execution_count": 62
        }
      ]
    },
    {
      "cell_type": "markdown",
      "metadata": {
        "id": "R4qHTFx90B7T"
      },
      "source": [
        "ngram_range=(1, 2), max_df=0.5, min_df=5, max_features=int(vocab_len*0.99)"
      ]
    },
    {
      "cell_type": "code",
      "metadata": {
        "colab": {
          "base_uri": "https://localhost:8080/",
          "height": 488
        },
        "id": "G9O3vkTa0CP3",
        "outputId": "fb3a5f4f-356b-4bb9-c88d-2a12df336ba7"
      },
      "source": [
        "vectorizer_TfidfVectorizer_ng12_maxdf05_mindf5_maxf099 = TfidfVectorizer(\n",
        "    ngram_range=(1, 2), max_df=0.5, min_df=5, max_features=int(vocab_len*0.99)\n",
        "    )\n",
        "\n",
        "vectorized_x_train = vectorizer_TfidfVectorizer_ng12_maxdf05_mindf5_maxf099.fit_transform(x_train_preprocessed)\n",
        "vectorized_x_test = vectorizer_TfidfVectorizer_ng12_maxdf05_mindf5_maxf099.transform(x_test_preprocessed)\n",
        "\n",
        "clf = MultinomialNB()\n",
        "clf.fit(vectorized_x_train, y_train)\n",
        "y_pred = clf.predict(vectorized_x_test)\n",
        "\n",
        "new_df = pd.DataFrame(\n",
        "    {'precision': [precision_score(y_test, y_pred, average='weighted')],\n",
        "     'recall': [recall_score(y_test, y_pred, average='weighted')],\n",
        "     'f1': [f1_score(y_test, y_pred, average='weighted')],\n",
        "     'accuracy': [accuracy_score(y_test, y_pred)]}, \n",
        "    index=['vectorizer_TfidfVectorizer_ng12_maxdf05_mindf5_maxf099'])\n",
        "\n",
        "comparison_df = comparison_df.append(new_df)\n",
        "comparison_df"
      ],
      "execution_count": null,
      "outputs": [
        {
          "output_type": "execute_result",
          "data": {
            "text/html": [
              "<div>\n",
              "<style scoped>\n",
              "    .dataframe tbody tr th:only-of-type {\n",
              "        vertical-align: middle;\n",
              "    }\n",
              "\n",
              "    .dataframe tbody tr th {\n",
              "        vertical-align: top;\n",
              "    }\n",
              "\n",
              "    .dataframe thead th {\n",
              "        text-align: right;\n",
              "    }\n",
              "</style>\n",
              "<table border=\"1\" class=\"dataframe\">\n",
              "  <thead>\n",
              "    <tr style=\"text-align: right;\">\n",
              "      <th></th>\n",
              "      <th>precision</th>\n",
              "      <th>recall</th>\n",
              "      <th>f1</th>\n",
              "      <th>accuracy</th>\n",
              "    </tr>\n",
              "  </thead>\n",
              "  <tbody>\n",
              "    <tr>\n",
              "      <th>vectorizer_CountVectorizer_ng11</th>\n",
              "      <td>0.703347</td>\n",
              "      <td>0.697641</td>\n",
              "      <td>0.698068</td>\n",
              "      <td>0.697641</td>\n",
              "    </tr>\n",
              "    <tr>\n",
              "      <th>vectorizer_CountVectorizer_ng22</th>\n",
              "      <td>0.689454</td>\n",
              "      <td>0.689604</td>\n",
              "      <td>0.689123</td>\n",
              "      <td>0.689604</td>\n",
              "    </tr>\n",
              "    <tr>\n",
              "      <th>vectorizer_CountVectorizer_ng12</th>\n",
              "      <td>0.714521</td>\n",
              "      <td>0.712492</td>\n",
              "      <td>0.712502</td>\n",
              "      <td>0.712492</td>\n",
              "    </tr>\n",
              "    <tr>\n",
              "      <th>vectorizer_CountVectorizer_ng13</th>\n",
              "      <td>0.710881</td>\n",
              "      <td>0.711159</td>\n",
              "      <td>0.710547</td>\n",
              "      <td>0.711159</td>\n",
              "    </tr>\n",
              "    <tr>\n",
              "      <th>vectorizer_CountVectorizer_ng24</th>\n",
              "      <td>0.679136</td>\n",
              "      <td>0.681827</td>\n",
              "      <td>0.680069</td>\n",
              "      <td>0.681827</td>\n",
              "    </tr>\n",
              "    <tr>\n",
              "      <th>vectorizer_TfidfVectorizer_ng11</th>\n",
              "      <td>0.704041</td>\n",
              "      <td>0.698085</td>\n",
              "      <td>0.698781</td>\n",
              "      <td>0.698085</td>\n",
              "    </tr>\n",
              "    <tr>\n",
              "      <th>vectorizer_TfidfVectorizer_ng12</th>\n",
              "      <td>0.715107</td>\n",
              "      <td>0.713529</td>\n",
              "      <td>0.713256</td>\n",
              "      <td>0.713529</td>\n",
              "    </tr>\n",
              "    <tr>\n",
              "      <th>vectorizer_TfidfVectorizer_ng12_maxdf05_mindf001_maxf2</th>\n",
              "      <td>0.676841</td>\n",
              "      <td>0.666012</td>\n",
              "      <td>0.667872</td>\n",
              "      <td>0.666012</td>\n",
              "    </tr>\n",
              "    <tr>\n",
              "      <th>vectorizer_TfidfVectorizer_ng12_maxdf05</th>\n",
              "      <td>0.715107</td>\n",
              "      <td>0.713529</td>\n",
              "      <td>0.713256</td>\n",
              "      <td>0.713529</td>\n",
              "    </tr>\n",
              "    <tr>\n",
              "      <th>vectorizer_TfidfVectorizer_ng12_maxdf01</th>\n",
              "      <td>0.715525</td>\n",
              "      <td>0.712937</td>\n",
              "      <td>0.712984</td>\n",
              "      <td>0.712937</td>\n",
              "    </tr>\n",
              "    <tr>\n",
              "      <th>vectorizer_TfidfVectorizer_ng12_maxdf05_mindf001</th>\n",
              "      <td>0.676841</td>\n",
              "      <td>0.666012</td>\n",
              "      <td>0.667872</td>\n",
              "      <td>0.666012</td>\n",
              "    </tr>\n",
              "    <tr>\n",
              "      <th>vectorizer_TfidfVectorizer_ng12_maxdf05_mindf5</th>\n",
              "      <td>0.722398</td>\n",
              "      <td>0.714455</td>\n",
              "      <td>0.715781</td>\n",
              "      <td>0.714455</td>\n",
              "    </tr>\n",
              "    <tr>\n",
              "      <th>vectorizer_TfidfVectorizer_ng12_maxdf05_mindf5_maxf2</th>\n",
              "      <td>0.719691</td>\n",
              "      <td>0.710492</td>\n",
              "      <td>0.712020</td>\n",
              "      <td>0.710492</td>\n",
              "    </tr>\n",
              "    <tr>\n",
              "      <th>vectorizer_TfidfVectorizer_ng12_maxdf05_mindf5_maxf099</th>\n",
              "      <td>0.722696</td>\n",
              "      <td>0.714640</td>\n",
              "      <td>0.716016</td>\n",
              "      <td>0.714640</td>\n",
              "    </tr>\n",
              "  </tbody>\n",
              "</table>\n",
              "</div>"
            ],
            "text/plain": [
              "                                                    precision  ...  accuracy\n",
              "vectorizer_CountVectorizer_ng11                      0.703347  ...  0.697641\n",
              "vectorizer_CountVectorizer_ng22                      0.689454  ...  0.689604\n",
              "vectorizer_CountVectorizer_ng12                      0.714521  ...  0.712492\n",
              "vectorizer_CountVectorizer_ng13                      0.710881  ...  0.711159\n",
              "vectorizer_CountVectorizer_ng24                      0.679136  ...  0.681827\n",
              "vectorizer_TfidfVectorizer_ng11                      0.704041  ...  0.698085\n",
              "vectorizer_TfidfVectorizer_ng12                      0.715107  ...  0.713529\n",
              "vectorizer_TfidfVectorizer_ng12_maxdf05_mindf00...   0.676841  ...  0.666012\n",
              "vectorizer_TfidfVectorizer_ng12_maxdf05              0.715107  ...  0.713529\n",
              "vectorizer_TfidfVectorizer_ng12_maxdf01              0.715525  ...  0.712937\n",
              "vectorizer_TfidfVectorizer_ng12_maxdf05_mindf001     0.676841  ...  0.666012\n",
              "vectorizer_TfidfVectorizer_ng12_maxdf05_mindf5       0.722398  ...  0.714455\n",
              "vectorizer_TfidfVectorizer_ng12_maxdf05_mindf5_...   0.719691  ...  0.710492\n",
              "vectorizer_TfidfVectorizer_ng12_maxdf05_mindf5_...   0.722696  ...  0.714640\n",
              "\n",
              "[14 rows x 4 columns]"
            ]
          },
          "metadata": {},
          "execution_count": 63
        }
      ]
    },
    {
      "cell_type": "markdown",
      "metadata": {
        "id": "RdBfuPf60QeH"
      },
      "source": [
        "#### Символьные n-граммы"
      ]
    },
    {
      "cell_type": "markdown",
      "metadata": {
        "id": "JlXyZG0N1PHX"
      },
      "source": [
        "ngram_range=(3, 6)"
      ]
    },
    {
      "cell_type": "code",
      "metadata": {
        "colab": {
          "base_uri": "https://localhost:8080/",
          "height": 551
        },
        "id": "1HGrTGdd1Paf",
        "outputId": "62d69faf-7f77-4991-ea9b-9fd68a2df374"
      },
      "source": [
        "vectorizer_CountVectorizer_char_ng3_6 = CountVectorizer(analyzer='char', ngram_range=(3, 6))\n",
        "\n",
        "vectorized_x_train = vectorizer_CountVectorizer_char_ng3_6.fit_transform(x_train_preprocessed)\n",
        "vectorized_x_test = vectorizer_CountVectorizer_char_ng3_6.transform(x_test_preprocessed)\n",
        "\n",
        "clf = MultinomialNB()\n",
        "clf.fit(vectorized_x_train, y_train)\n",
        "y_pred = clf.predict(vectorized_x_test)\n",
        "\n",
        "new_df = pd.DataFrame(\n",
        "    {'precision': [precision_score(y_test, y_pred, average='weighted')],\n",
        "     'recall': [recall_score(y_test, y_pred, average='weighted')],\n",
        "     'f1': [f1_score(y_test, y_pred, average='weighted')],\n",
        "     'accuracy': [accuracy_score(y_test, y_pred)]}, \n",
        "    index=['vectorizer_CountVectorizer_char_ng3_6'])\n",
        "\n",
        "comparison_df = comparison_df.append(new_df)\n",
        "comparison_df"
      ],
      "execution_count": null,
      "outputs": [
        {
          "output_type": "execute_result",
          "data": {
            "text/html": [
              "<div>\n",
              "<style scoped>\n",
              "    .dataframe tbody tr th:only-of-type {\n",
              "        vertical-align: middle;\n",
              "    }\n",
              "\n",
              "    .dataframe tbody tr th {\n",
              "        vertical-align: top;\n",
              "    }\n",
              "\n",
              "    .dataframe thead th {\n",
              "        text-align: right;\n",
              "    }\n",
              "</style>\n",
              "<table border=\"1\" class=\"dataframe\">\n",
              "  <thead>\n",
              "    <tr style=\"text-align: right;\">\n",
              "      <th></th>\n",
              "      <th>precision</th>\n",
              "      <th>recall</th>\n",
              "      <th>f1</th>\n",
              "      <th>accuracy</th>\n",
              "    </tr>\n",
              "  </thead>\n",
              "  <tbody>\n",
              "    <tr>\n",
              "      <th>vectorizer_CountVectorizer_ng11</th>\n",
              "      <td>0.703347</td>\n",
              "      <td>0.697641</td>\n",
              "      <td>0.698068</td>\n",
              "      <td>0.697641</td>\n",
              "    </tr>\n",
              "    <tr>\n",
              "      <th>vectorizer_CountVectorizer_ng22</th>\n",
              "      <td>0.689454</td>\n",
              "      <td>0.689604</td>\n",
              "      <td>0.689123</td>\n",
              "      <td>0.689604</td>\n",
              "    </tr>\n",
              "    <tr>\n",
              "      <th>vectorizer_CountVectorizer_ng12</th>\n",
              "      <td>0.714521</td>\n",
              "      <td>0.712492</td>\n",
              "      <td>0.712502</td>\n",
              "      <td>0.712492</td>\n",
              "    </tr>\n",
              "    <tr>\n",
              "      <th>vectorizer_CountVectorizer_ng13</th>\n",
              "      <td>0.710881</td>\n",
              "      <td>0.711159</td>\n",
              "      <td>0.710547</td>\n",
              "      <td>0.711159</td>\n",
              "    </tr>\n",
              "    <tr>\n",
              "      <th>vectorizer_CountVectorizer_ng24</th>\n",
              "      <td>0.679136</td>\n",
              "      <td>0.681827</td>\n",
              "      <td>0.680069</td>\n",
              "      <td>0.681827</td>\n",
              "    </tr>\n",
              "    <tr>\n",
              "      <th>vectorizer_TfidfVectorizer_ng11</th>\n",
              "      <td>0.704041</td>\n",
              "      <td>0.698085</td>\n",
              "      <td>0.698781</td>\n",
              "      <td>0.698085</td>\n",
              "    </tr>\n",
              "    <tr>\n",
              "      <th>vectorizer_TfidfVectorizer_ng12</th>\n",
              "      <td>0.715107</td>\n",
              "      <td>0.713529</td>\n",
              "      <td>0.713256</td>\n",
              "      <td>0.713529</td>\n",
              "    </tr>\n",
              "    <tr>\n",
              "      <th>vectorizer_TfidfVectorizer_ng12_maxdf05_mindf001_maxf2</th>\n",
              "      <td>0.676841</td>\n",
              "      <td>0.666012</td>\n",
              "      <td>0.667872</td>\n",
              "      <td>0.666012</td>\n",
              "    </tr>\n",
              "    <tr>\n",
              "      <th>vectorizer_TfidfVectorizer_ng12_maxdf05</th>\n",
              "      <td>0.715107</td>\n",
              "      <td>0.713529</td>\n",
              "      <td>0.713256</td>\n",
              "      <td>0.713529</td>\n",
              "    </tr>\n",
              "    <tr>\n",
              "      <th>vectorizer_TfidfVectorizer_ng12_maxdf01</th>\n",
              "      <td>0.715525</td>\n",
              "      <td>0.712937</td>\n",
              "      <td>0.712984</td>\n",
              "      <td>0.712937</td>\n",
              "    </tr>\n",
              "    <tr>\n",
              "      <th>vectorizer_TfidfVectorizer_ng12_maxdf05_mindf001</th>\n",
              "      <td>0.676841</td>\n",
              "      <td>0.666012</td>\n",
              "      <td>0.667872</td>\n",
              "      <td>0.666012</td>\n",
              "    </tr>\n",
              "    <tr>\n",
              "      <th>vectorizer_TfidfVectorizer_ng12_maxdf05_mindf5</th>\n",
              "      <td>0.722398</td>\n",
              "      <td>0.714455</td>\n",
              "      <td>0.715781</td>\n",
              "      <td>0.714455</td>\n",
              "    </tr>\n",
              "    <tr>\n",
              "      <th>vectorizer_TfidfVectorizer_ng12_maxdf05_mindf5_maxf2</th>\n",
              "      <td>0.719691</td>\n",
              "      <td>0.710492</td>\n",
              "      <td>0.712020</td>\n",
              "      <td>0.710492</td>\n",
              "    </tr>\n",
              "    <tr>\n",
              "      <th>vectorizer_TfidfVectorizer_ng12_maxdf05_mindf5_maxf099</th>\n",
              "      <td>0.722696</td>\n",
              "      <td>0.714640</td>\n",
              "      <td>0.716016</td>\n",
              "      <td>0.714640</td>\n",
              "    </tr>\n",
              "    <tr>\n",
              "      <th>vectorizer_CountVectorizer_char_ng1_10</th>\n",
              "      <td>0.721629</td>\n",
              "      <td>0.715455</td>\n",
              "      <td>0.716928</td>\n",
              "      <td>0.715455</td>\n",
              "    </tr>\n",
              "    <tr>\n",
              "      <th>vectorizer_CountVectorizer_char_ng3_6</th>\n",
              "      <td>0.714206</td>\n",
              "      <td>0.704196</td>\n",
              "      <td>0.706081</td>\n",
              "      <td>0.704196</td>\n",
              "    </tr>\n",
              "  </tbody>\n",
              "</table>\n",
              "</div>"
            ],
            "text/plain": [
              "                                                    precision  ...  accuracy\n",
              "vectorizer_CountVectorizer_ng11                      0.703347  ...  0.697641\n",
              "vectorizer_CountVectorizer_ng22                      0.689454  ...  0.689604\n",
              "vectorizer_CountVectorizer_ng12                      0.714521  ...  0.712492\n",
              "vectorizer_CountVectorizer_ng13                      0.710881  ...  0.711159\n",
              "vectorizer_CountVectorizer_ng24                      0.679136  ...  0.681827\n",
              "vectorizer_TfidfVectorizer_ng11                      0.704041  ...  0.698085\n",
              "vectorizer_TfidfVectorizer_ng12                      0.715107  ...  0.713529\n",
              "vectorizer_TfidfVectorizer_ng12_maxdf05_mindf00...   0.676841  ...  0.666012\n",
              "vectorizer_TfidfVectorizer_ng12_maxdf05              0.715107  ...  0.713529\n",
              "vectorizer_TfidfVectorizer_ng12_maxdf01              0.715525  ...  0.712937\n",
              "vectorizer_TfidfVectorizer_ng12_maxdf05_mindf001     0.676841  ...  0.666012\n",
              "vectorizer_TfidfVectorizer_ng12_maxdf05_mindf5       0.722398  ...  0.714455\n",
              "vectorizer_TfidfVectorizer_ng12_maxdf05_mindf5_...   0.719691  ...  0.710492\n",
              "vectorizer_TfidfVectorizer_ng12_maxdf05_mindf5_...   0.722696  ...  0.714640\n",
              "vectorizer_CountVectorizer_char_ng1_10               0.721629  ...  0.715455\n",
              "vectorizer_CountVectorizer_char_ng3_6                0.714206  ...  0.704196\n",
              "\n",
              "[16 rows x 4 columns]"
            ]
          },
          "metadata": {},
          "execution_count": 65
        }
      ]
    },
    {
      "cell_type": "markdown",
      "metadata": {
        "id": "mp5PWu3D0tK3"
      },
      "source": [
        "ngram_range=(1, 10)"
      ]
    },
    {
      "cell_type": "code",
      "metadata": {
        "colab": {
          "base_uri": "https://localhost:8080/",
          "height": 519
        },
        "id": "oMR16h4S0UoP",
        "outputId": "a6ea67e6-7853-48d2-8e5e-e8841aab4ef0"
      },
      "source": [
        "vectorizer_CountVectorizer_char_ng1_10 = CountVectorizer(analyzer='char', ngram_range=(1, 10))\n",
        "\n",
        "vectorized_x_train = vectorizer_CountVectorizer_char_ng1_10.fit_transform(x_train_preprocessed)\n",
        "vectorized_x_test = vectorizer_CountVectorizer_char_ng1_10.transform(x_test_preprocessed)\n",
        "\n",
        "clf = MultinomialNB()\n",
        "clf.fit(vectorized_x_train, y_train)\n",
        "y_pred = clf.predict(vectorized_x_test)\n",
        "\n",
        "new_df = pd.DataFrame(\n",
        "    {'precision': [precision_score(y_test, y_pred, average='weighted')],\n",
        "     'recall': [recall_score(y_test, y_pred, average='weighted')],\n",
        "     'f1': [f1_score(y_test, y_pred, average='weighted')],\n",
        "     'accuracy': [accuracy_score(y_test, y_pred)]}, \n",
        "    index=['vectorizer_CountVectorizer_char_ng1_10'])\n",
        "\n",
        "comparison_df = comparison_df.append(new_df)\n",
        "comparison_df"
      ],
      "execution_count": null,
      "outputs": [
        {
          "output_type": "execute_result",
          "data": {
            "text/html": [
              "<div>\n",
              "<style scoped>\n",
              "    .dataframe tbody tr th:only-of-type {\n",
              "        vertical-align: middle;\n",
              "    }\n",
              "\n",
              "    .dataframe tbody tr th {\n",
              "        vertical-align: top;\n",
              "    }\n",
              "\n",
              "    .dataframe thead th {\n",
              "        text-align: right;\n",
              "    }\n",
              "</style>\n",
              "<table border=\"1\" class=\"dataframe\">\n",
              "  <thead>\n",
              "    <tr style=\"text-align: right;\">\n",
              "      <th></th>\n",
              "      <th>precision</th>\n",
              "      <th>recall</th>\n",
              "      <th>f1</th>\n",
              "      <th>accuracy</th>\n",
              "    </tr>\n",
              "  </thead>\n",
              "  <tbody>\n",
              "    <tr>\n",
              "      <th>vectorizer_CountVectorizer_ng11</th>\n",
              "      <td>0.703347</td>\n",
              "      <td>0.697641</td>\n",
              "      <td>0.698068</td>\n",
              "      <td>0.697641</td>\n",
              "    </tr>\n",
              "    <tr>\n",
              "      <th>vectorizer_CountVectorizer_ng22</th>\n",
              "      <td>0.689454</td>\n",
              "      <td>0.689604</td>\n",
              "      <td>0.689123</td>\n",
              "      <td>0.689604</td>\n",
              "    </tr>\n",
              "    <tr>\n",
              "      <th>vectorizer_CountVectorizer_ng12</th>\n",
              "      <td>0.714521</td>\n",
              "      <td>0.712492</td>\n",
              "      <td>0.712502</td>\n",
              "      <td>0.712492</td>\n",
              "    </tr>\n",
              "    <tr>\n",
              "      <th>vectorizer_CountVectorizer_ng13</th>\n",
              "      <td>0.710881</td>\n",
              "      <td>0.711159</td>\n",
              "      <td>0.710547</td>\n",
              "      <td>0.711159</td>\n",
              "    </tr>\n",
              "    <tr>\n",
              "      <th>vectorizer_CountVectorizer_ng24</th>\n",
              "      <td>0.679136</td>\n",
              "      <td>0.681827</td>\n",
              "      <td>0.680069</td>\n",
              "      <td>0.681827</td>\n",
              "    </tr>\n",
              "    <tr>\n",
              "      <th>vectorizer_TfidfVectorizer_ng11</th>\n",
              "      <td>0.704041</td>\n",
              "      <td>0.698085</td>\n",
              "      <td>0.698781</td>\n",
              "      <td>0.698085</td>\n",
              "    </tr>\n",
              "    <tr>\n",
              "      <th>vectorizer_TfidfVectorizer_ng12</th>\n",
              "      <td>0.715107</td>\n",
              "      <td>0.713529</td>\n",
              "      <td>0.713256</td>\n",
              "      <td>0.713529</td>\n",
              "    </tr>\n",
              "    <tr>\n",
              "      <th>vectorizer_TfidfVectorizer_ng12_maxdf05_mindf001_maxf2</th>\n",
              "      <td>0.676841</td>\n",
              "      <td>0.666012</td>\n",
              "      <td>0.667872</td>\n",
              "      <td>0.666012</td>\n",
              "    </tr>\n",
              "    <tr>\n",
              "      <th>vectorizer_TfidfVectorizer_ng12_maxdf05</th>\n",
              "      <td>0.715107</td>\n",
              "      <td>0.713529</td>\n",
              "      <td>0.713256</td>\n",
              "      <td>0.713529</td>\n",
              "    </tr>\n",
              "    <tr>\n",
              "      <th>vectorizer_TfidfVectorizer_ng12_maxdf01</th>\n",
              "      <td>0.715525</td>\n",
              "      <td>0.712937</td>\n",
              "      <td>0.712984</td>\n",
              "      <td>0.712937</td>\n",
              "    </tr>\n",
              "    <tr>\n",
              "      <th>vectorizer_TfidfVectorizer_ng12_maxdf05_mindf001</th>\n",
              "      <td>0.676841</td>\n",
              "      <td>0.666012</td>\n",
              "      <td>0.667872</td>\n",
              "      <td>0.666012</td>\n",
              "    </tr>\n",
              "    <tr>\n",
              "      <th>vectorizer_TfidfVectorizer_ng12_maxdf05_mindf5</th>\n",
              "      <td>0.722398</td>\n",
              "      <td>0.714455</td>\n",
              "      <td>0.715781</td>\n",
              "      <td>0.714455</td>\n",
              "    </tr>\n",
              "    <tr>\n",
              "      <th>vectorizer_TfidfVectorizer_ng12_maxdf05_mindf5_maxf2</th>\n",
              "      <td>0.719691</td>\n",
              "      <td>0.710492</td>\n",
              "      <td>0.712020</td>\n",
              "      <td>0.710492</td>\n",
              "    </tr>\n",
              "    <tr>\n",
              "      <th>vectorizer_TfidfVectorizer_ng12_maxdf05_mindf5_maxf099</th>\n",
              "      <td>0.722696</td>\n",
              "      <td>0.714640</td>\n",
              "      <td>0.716016</td>\n",
              "      <td>0.714640</td>\n",
              "    </tr>\n",
              "    <tr>\n",
              "      <th>vectorizer_CountVectorizer_char_ng1_10</th>\n",
              "      <td>0.721629</td>\n",
              "      <td>0.715455</td>\n",
              "      <td>0.716928</td>\n",
              "      <td>0.715455</td>\n",
              "    </tr>\n",
              "  </tbody>\n",
              "</table>\n",
              "</div>"
            ],
            "text/plain": [
              "                                                    precision  ...  accuracy\n",
              "vectorizer_CountVectorizer_ng11                      0.703347  ...  0.697641\n",
              "vectorizer_CountVectorizer_ng22                      0.689454  ...  0.689604\n",
              "vectorizer_CountVectorizer_ng12                      0.714521  ...  0.712492\n",
              "vectorizer_CountVectorizer_ng13                      0.710881  ...  0.711159\n",
              "vectorizer_CountVectorizer_ng24                      0.679136  ...  0.681827\n",
              "vectorizer_TfidfVectorizer_ng11                      0.704041  ...  0.698085\n",
              "vectorizer_TfidfVectorizer_ng12                      0.715107  ...  0.713529\n",
              "vectorizer_TfidfVectorizer_ng12_maxdf05_mindf00...   0.676841  ...  0.666012\n",
              "vectorizer_TfidfVectorizer_ng12_maxdf05              0.715107  ...  0.713529\n",
              "vectorizer_TfidfVectorizer_ng12_maxdf01              0.715525  ...  0.712937\n",
              "vectorizer_TfidfVectorizer_ng12_maxdf05_mindf001     0.676841  ...  0.666012\n",
              "vectorizer_TfidfVectorizer_ng12_maxdf05_mindf5       0.722398  ...  0.714455\n",
              "vectorizer_TfidfVectorizer_ng12_maxdf05_mindf5_...   0.719691  ...  0.710492\n",
              "vectorizer_TfidfVectorizer_ng12_maxdf05_mindf5_...   0.722696  ...  0.714640\n",
              "vectorizer_CountVectorizer_char_ng1_10               0.721629  ...  0.715455\n",
              "\n",
              "[15 rows x 4 columns]"
            ]
          },
          "metadata": {},
          "execution_count": 64
        }
      ]
    },
    {
      "cell_type": "markdown",
      "metadata": {
        "id": "3RwsygFQ1447"
      },
      "source": [
        "#### Вывод"
      ]
    },
    {
      "cell_type": "code",
      "metadata": {
        "colab": {
          "base_uri": "https://localhost:8080/",
          "height": 551
        },
        "id": "Qvr1ie-s17zN",
        "outputId": "fc7b1e07-3694-46ce-8d1b-b26fcbee3ea8"
      },
      "source": [
        "comparison_df.sort_values(by=['accuracy'], ascending=False)"
      ],
      "execution_count": null,
      "outputs": [
        {
          "output_type": "execute_result",
          "data": {
            "text/html": [
              "<div>\n",
              "<style scoped>\n",
              "    .dataframe tbody tr th:only-of-type {\n",
              "        vertical-align: middle;\n",
              "    }\n",
              "\n",
              "    .dataframe tbody tr th {\n",
              "        vertical-align: top;\n",
              "    }\n",
              "\n",
              "    .dataframe thead th {\n",
              "        text-align: right;\n",
              "    }\n",
              "</style>\n",
              "<table border=\"1\" class=\"dataframe\">\n",
              "  <thead>\n",
              "    <tr style=\"text-align: right;\">\n",
              "      <th></th>\n",
              "      <th>precision</th>\n",
              "      <th>recall</th>\n",
              "      <th>f1</th>\n",
              "      <th>accuracy</th>\n",
              "    </tr>\n",
              "  </thead>\n",
              "  <tbody>\n",
              "    <tr>\n",
              "      <th>vectorizer_CountVectorizer_char_ng1_10</th>\n",
              "      <td>0.721629</td>\n",
              "      <td>0.715455</td>\n",
              "      <td>0.716928</td>\n",
              "      <td>0.715455</td>\n",
              "    </tr>\n",
              "    <tr>\n",
              "      <th>vectorizer_TfidfVectorizer_ng12_maxdf05_mindf5_maxf099</th>\n",
              "      <td>0.722696</td>\n",
              "      <td>0.714640</td>\n",
              "      <td>0.716016</td>\n",
              "      <td>0.714640</td>\n",
              "    </tr>\n",
              "    <tr>\n",
              "      <th>vectorizer_TfidfVectorizer_ng12_maxdf05_mindf5</th>\n",
              "      <td>0.722398</td>\n",
              "      <td>0.714455</td>\n",
              "      <td>0.715781</td>\n",
              "      <td>0.714455</td>\n",
              "    </tr>\n",
              "    <tr>\n",
              "      <th>vectorizer_TfidfVectorizer_ng12</th>\n",
              "      <td>0.715107</td>\n",
              "      <td>0.713529</td>\n",
              "      <td>0.713256</td>\n",
              "      <td>0.713529</td>\n",
              "    </tr>\n",
              "    <tr>\n",
              "      <th>vectorizer_TfidfVectorizer_ng12_maxdf05</th>\n",
              "      <td>0.715107</td>\n",
              "      <td>0.713529</td>\n",
              "      <td>0.713256</td>\n",
              "      <td>0.713529</td>\n",
              "    </tr>\n",
              "    <tr>\n",
              "      <th>vectorizer_TfidfVectorizer_ng12_maxdf01</th>\n",
              "      <td>0.715525</td>\n",
              "      <td>0.712937</td>\n",
              "      <td>0.712984</td>\n",
              "      <td>0.712937</td>\n",
              "    </tr>\n",
              "    <tr>\n",
              "      <th>vectorizer_CountVectorizer_ng12</th>\n",
              "      <td>0.714521</td>\n",
              "      <td>0.712492</td>\n",
              "      <td>0.712502</td>\n",
              "      <td>0.712492</td>\n",
              "    </tr>\n",
              "    <tr>\n",
              "      <th>vectorizer_CountVectorizer_ng13</th>\n",
              "      <td>0.710881</td>\n",
              "      <td>0.711159</td>\n",
              "      <td>0.710547</td>\n",
              "      <td>0.711159</td>\n",
              "    </tr>\n",
              "    <tr>\n",
              "      <th>vectorizer_TfidfVectorizer_ng12_maxdf05_mindf5_maxf2</th>\n",
              "      <td>0.719691</td>\n",
              "      <td>0.710492</td>\n",
              "      <td>0.712020</td>\n",
              "      <td>0.710492</td>\n",
              "    </tr>\n",
              "    <tr>\n",
              "      <th>vectorizer_CountVectorizer_char_ng3_6</th>\n",
              "      <td>0.714206</td>\n",
              "      <td>0.704196</td>\n",
              "      <td>0.706081</td>\n",
              "      <td>0.704196</td>\n",
              "    </tr>\n",
              "    <tr>\n",
              "      <th>vectorizer_TfidfVectorizer_ng11</th>\n",
              "      <td>0.704041</td>\n",
              "      <td>0.698085</td>\n",
              "      <td>0.698781</td>\n",
              "      <td>0.698085</td>\n",
              "    </tr>\n",
              "    <tr>\n",
              "      <th>vectorizer_CountVectorizer_ng11</th>\n",
              "      <td>0.703347</td>\n",
              "      <td>0.697641</td>\n",
              "      <td>0.698068</td>\n",
              "      <td>0.697641</td>\n",
              "    </tr>\n",
              "    <tr>\n",
              "      <th>vectorizer_CountVectorizer_ng22</th>\n",
              "      <td>0.689454</td>\n",
              "      <td>0.689604</td>\n",
              "      <td>0.689123</td>\n",
              "      <td>0.689604</td>\n",
              "    </tr>\n",
              "    <tr>\n",
              "      <th>vectorizer_CountVectorizer_ng24</th>\n",
              "      <td>0.679136</td>\n",
              "      <td>0.681827</td>\n",
              "      <td>0.680069</td>\n",
              "      <td>0.681827</td>\n",
              "    </tr>\n",
              "    <tr>\n",
              "      <th>vectorizer_TfidfVectorizer_ng12_maxdf05_mindf001_maxf2</th>\n",
              "      <td>0.676841</td>\n",
              "      <td>0.666012</td>\n",
              "      <td>0.667872</td>\n",
              "      <td>0.666012</td>\n",
              "    </tr>\n",
              "    <tr>\n",
              "      <th>vectorizer_TfidfVectorizer_ng12_maxdf05_mindf001</th>\n",
              "      <td>0.676841</td>\n",
              "      <td>0.666012</td>\n",
              "      <td>0.667872</td>\n",
              "      <td>0.666012</td>\n",
              "    </tr>\n",
              "  </tbody>\n",
              "</table>\n",
              "</div>"
            ],
            "text/plain": [
              "                                                    precision  ...  accuracy\n",
              "vectorizer_CountVectorizer_char_ng1_10               0.721629  ...  0.715455\n",
              "vectorizer_TfidfVectorizer_ng12_maxdf05_mindf5_...   0.722696  ...  0.714640\n",
              "vectorizer_TfidfVectorizer_ng12_maxdf05_mindf5       0.722398  ...  0.714455\n",
              "vectorizer_TfidfVectorizer_ng12                      0.715107  ...  0.713529\n",
              "vectorizer_TfidfVectorizer_ng12_maxdf05              0.715107  ...  0.713529\n",
              "vectorizer_TfidfVectorizer_ng12_maxdf01              0.715525  ...  0.712937\n",
              "vectorizer_CountVectorizer_ng12                      0.714521  ...  0.712492\n",
              "vectorizer_CountVectorizer_ng13                      0.710881  ...  0.711159\n",
              "vectorizer_TfidfVectorizer_ng12_maxdf05_mindf5_...   0.719691  ...  0.710492\n",
              "vectorizer_CountVectorizer_char_ng3_6                0.714206  ...  0.704196\n",
              "vectorizer_TfidfVectorizer_ng11                      0.704041  ...  0.698085\n",
              "vectorizer_CountVectorizer_ng11                      0.703347  ...  0.697641\n",
              "vectorizer_CountVectorizer_ng22                      0.689454  ...  0.689604\n",
              "vectorizer_CountVectorizer_ng24                      0.679136  ...  0.681827\n",
              "vectorizer_TfidfVectorizer_ng12_maxdf05_mindf00...   0.676841  ...  0.666012\n",
              "vectorizer_TfidfVectorizer_ng12_maxdf05_mindf001     0.676841  ...  0.666012\n",
              "\n",
              "[16 rows x 4 columns]"
            ]
          },
          "metadata": {},
          "execution_count": 68
        }
      ]
    },
    {
      "cell_type": "markdown",
      "metadata": {
        "id": "jqL4IuK02Xr7"
      },
      "source": [
        "Таким образом наилучим образом, по метрике accuracy, себя показал **векторайзер Символьных n-грамм с параметрами ngram_range=(1, 10)**"
      ]
    },
    {
      "cell_type": "markdown",
      "metadata": {
        "id": "5QYTwyMtWhAZ"
      },
      "source": [
        "## Задание 5.2 Регулярные выражения\n",
        "\n",
        "Регулярные выражения - способ поиска и анализа строк. Например, можно понять, какие даты в наборе строк представлены в формате DD/MM/YYYY, а какие - в других форматах. \n",
        "\n",
        "Или бывает, например, что перед работой с текстом, надо почистить его от своеобразного мусора: упоминаний пользователей, url и так далее.\n",
        "\n",
        "Навык полезный, давайте в нём тоже потренируемся.\n",
        "\n",
        "Для работы с регулярными выражениями есть библиотека **re**"
      ]
    },
    {
      "cell_type": "markdown",
      "metadata": {
        "id": "dcofxNEJO9ed"
      },
      "source": [
        "![mem.jpeg](data:image/jpeg;base64,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)"
      ]
    },
    {
      "cell_type": "code",
      "metadata": {
        "id": "VaUW5S4gWhAb"
      },
      "source": [
        "import re"
      ],
      "execution_count": null,
      "outputs": []
    },
    {
      "cell_type": "markdown",
      "metadata": {
        "id": "D6aYh7Osl8xr"
      },
      "source": [
        "В регулярных выражениях, кроме привычных символов-букв, есть специальные символы:\n",
        "* **?а** - ноль или один символ **а**\n",
        "* **+а** - один или более символов **а**\n",
        "* **\\*а** - ноль или более символов **а** (не путать с +)\n",
        "* **.** - любое количество любого символа\n",
        "\n",
        "Пример:\n",
        "Выражению \\*a?b. соответствуют последовательности a, ab, abc, aa, aac НО НЕ abb!"
      ]
    },
    {
      "cell_type": "markdown",
      "metadata": {
        "id": "q7zOFFA3l_KQ"
      },
      "source": [
        "Рассмотрим подробно несколько наиболее полезных функций:"
      ]
    },
    {
      "cell_type": "markdown",
      "metadata": {
        "id": "DbJrUpARWhAd"
      },
      "source": [
        "### findall\n",
        "возвращает список всех найденных непересекающихся совпадений.\n",
        "\n",
        "Регулярное выражение **ab+c.**: \n",
        "* **a** - просто символ **a**\n",
        "* **b+** - один или более символов **b**\n",
        "* **c** - просто символ **c**\n",
        "* **.** - любой символ\n"
      ]
    },
    {
      "cell_type": "code",
      "metadata": {
        "id": "2athHzKuWhAd",
        "colab": {
          "base_uri": "https://localhost:8080/"
        },
        "outputId": "3b52f80d-f148-4e29-a61e-8c0115999515"
      },
      "source": [
        "result = re.findall('ab+c.', 'abcdefghijkabcabcxabc') \n",
        "print(result)"
      ],
      "execution_count": null,
      "outputs": [
        {
          "output_type": "stream",
          "name": "stdout",
          "text": [
            "['abcd', 'abca']\n"
          ]
        }
      ]
    },
    {
      "cell_type": "markdown",
      "metadata": {
        "id": "A9FpIw5RWhAf"
      },
      "source": [
        "Вопрос на внимательность: почему нет abcx?"
      ]
    },
    {
      "cell_type": "code",
      "metadata": {
        "id": "pjDM6fiDLG12"
      },
      "source": [
        ""
      ],
      "execution_count": null,
      "outputs": []
    },
    {
      "cell_type": "markdown",
      "metadata": {
        "id": "Rlaf-BUH4DUw"
      },
      "source": [
        "**Ответ:** Потому что ищет все *непересекающиеся* совпадения"
      ]
    },
    {
      "cell_type": "markdown",
      "metadata": {
        "id": "B5ttzoxEWhAg"
      },
      "source": [
        "**Задание**: вернуть список первых двух букв каждого слова в строке, состоящей из нескольких слов."
      ]
    },
    {
      "cell_type": "code",
      "metadata": {
        "id": "7ZR2AEq3WhAg",
        "colab": {
          "base_uri": "https://localhost:8080/"
        },
        "outputId": "314525ae-d1d8-489e-a087-66ad290fb257"
      },
      "source": [
        "find_test_txt = 'Two roads diverged in a yellow wood, And sorry I could not travel both'\n",
        "re.findall(r'\\b\\w{1,2}', find_test_txt) "
      ],
      "execution_count": null,
      "outputs": [
        {
          "output_type": "execute_result",
          "data": {
            "text/plain": [
              "['Tw',\n",
              " 'ro',\n",
              " 'di',\n",
              " 'in',\n",
              " 'a',\n",
              " 'ye',\n",
              " 'wo',\n",
              " 'An',\n",
              " 'so',\n",
              " 'I',\n",
              " 'co',\n",
              " 'no',\n",
              " 'tr',\n",
              " 'bo']"
            ]
          },
          "metadata": {},
          "execution_count": 3
        }
      ]
    },
    {
      "cell_type": "markdown",
      "metadata": {
        "id": "MI18l-l9WhAk"
      },
      "source": [
        "### split\n",
        "разделяет строку по заданному шаблону\n"
      ]
    },
    {
      "cell_type": "code",
      "metadata": {
        "id": "sVKdRoc1WhAl",
        "colab": {
          "base_uri": "https://localhost:8080/"
        },
        "outputId": "582053ad-1439-4dfd-ba41-e6954e4a4fcd"
      },
      "source": [
        "result = re.split(',', 'itsy, bitsy, teenie, weenie') \n",
        "print(result)"
      ],
      "execution_count": null,
      "outputs": [
        {
          "output_type": "stream",
          "name": "stdout",
          "text": [
            "['itsy', ' bitsy', ' teenie', ' weenie']\n"
          ]
        }
      ]
    },
    {
      "cell_type": "markdown",
      "metadata": {
        "id": "10u5efuSWhAm"
      },
      "source": [
        "можно указать максимальное количество разбиений"
      ]
    },
    {
      "cell_type": "code",
      "metadata": {
        "id": "9U9EQZMwWhAn",
        "colab": {
          "base_uri": "https://localhost:8080/"
        },
        "outputId": "3e1a021e-1cff-424c-9c19-6c384ad0d8ec"
      },
      "source": [
        "result = re.split(',', 'itsy, bitsy, teenie, weenie', maxsplit=2) \n",
        "print(result)"
      ],
      "execution_count": null,
      "outputs": [
        {
          "output_type": "stream",
          "name": "stdout",
          "text": [
            "['itsy', ' bitsy', ' teenie, weenie']\n"
          ]
        }
      ]
    },
    {
      "cell_type": "markdown",
      "metadata": {
        "id": "0EMcMyflWhAp"
      },
      "source": [
        "**Задание**: разбейте строку, состоящую из нескольких предложений, по точкам, но не более чем на 3 предложения."
      ]
    },
    {
      "cell_type": "code",
      "metadata": {
        "id": "dVgPSjEOWhAp",
        "colab": {
          "base_uri": "https://localhost:8080/"
        },
        "outputId": "150bad94-8dcc-4150-8050-6ea303ed5f76"
      },
      "source": [
        "split_test_txt1 = '1 sent. 2 sent. 3 sent. 4 sent. 5 sent.'\n",
        "print(re.split('[.]', split_test_txt1, maxsplit=2))\n",
        "\n",
        "split_test_txt2 = 'The first bitcoin upgrade in four years has just gone live. It is a rare moment of consensus among stakeholders, and it’s a big deal for the world’s most popular cryptocurrency. The Taproot update means greater transaction privacy and efficiency – and crucially, it will unlock the potential for smart contracts, which can be used to eliminate middlemen from transactions. “Taproot matters, because it opens a breadth of opportunity for entrepreneurs interested in expanding bitcoin’s utility,” said Alyse Killeen, founder and managing partner of bitcoin-focused venture firm Stillmark. Unlike bitcoin’s 2017 upgrade – referred to as the “last civil war” because of the contentious ideological divide separating adherents – Taproot has near universal support, in part because these changes involve fairly incremental improvements to the code.' \n",
        "print(re.split('[.]', split_test_txt2, maxsplit=2))"
      ],
      "execution_count": null,
      "outputs": [
        {
          "output_type": "stream",
          "name": "stdout",
          "text": [
            "['1 sent', ' 2 sent', ' 3 sent. 4 sent. 5 sent.']\n",
            "['The first bitcoin upgrade in four years has just gone live', ' It is a rare moment of consensus among stakeholders, and it’s a big deal for the world’s most popular cryptocurrency', ' The Taproot update means greater transaction privacy and efficiency – and crucially, it will unlock the potential for smart contracts, which can be used to eliminate middlemen from transactions. “Taproot matters, because it opens a breadth of opportunity for entrepreneurs interested in expanding bitcoin’s utility,” said Alyse Killeen, founder and managing partner of bitcoin-focused venture firm Stillmark. Unlike bitcoin’s 2017 upgrade – referred to as the “last civil war” because of the contentious ideological divide separating adherents – Taproot has near universal support, in part because these changes involve fairly incremental improvements to the code.']\n"
          ]
        }
      ]
    },
    {
      "cell_type": "markdown",
      "metadata": {
        "id": "1wrEGqBSWhAr"
      },
      "source": [
        "### sub\n",
        "ищет шаблон в строке и заменяет все совпадения на указанную подстроку\n",
        "\n",
        "параметры: (pattern, repl, string)"
      ]
    },
    {
      "cell_type": "code",
      "metadata": {
        "id": "az3KxKWwWhAr",
        "colab": {
          "base_uri": "https://localhost:8080/"
        },
        "outputId": "94ed5607-4749-4552-c232-a15f4afdede1"
      },
      "source": [
        "result = re.sub('a', 'b', 'abcabc')\n",
        "print (result)"
      ],
      "execution_count": null,
      "outputs": [
        {
          "output_type": "stream",
          "name": "stdout",
          "text": [
            "bbcbbc\n"
          ]
        }
      ]
    },
    {
      "cell_type": "markdown",
      "metadata": {
        "id": "qD0n7_HPWhAt"
      },
      "source": [
        "**Задание**: напишите регулярное выражение, которое позволит заменить все цифры в строке на \"DIG\"."
      ]
    },
    {
      "cell_type": "code",
      "metadata": {
        "id": "s_Sdu7xlWhAu",
        "colab": {
          "base_uri": "https://localhost:8080/"
        },
        "outputId": "453bc9d2-769f-4db2-eded-e82344c470fa"
      },
      "source": [
        "sub_test_txt1 = 'The Bitcoin stock-to-flow (S2F) model created by pseudonymous analyst PlanB, which analyzes the supply dynamics of Bitcoin and its scarcity enforced by the protocol’s halving of miner rewards every four years, is predicting a monthly close of around $98,000 for November.'\n",
        "print(sub_test_txt1)\n",
        "\n",
        "print(re.sub('\\d', 'DIG', sub_test_txt1))"
      ],
      "execution_count": null,
      "outputs": [
        {
          "output_type": "stream",
          "name": "stdout",
          "text": [
            "The Bitcoin stock-to-flow (S2F) model created by pseudonymous analyst PlanB, which analyzes the supply dynamics of Bitcoin and its scarcity enforced by the protocol’s halving of miner rewards every four years, is predicting a monthly close of around $98,000 for November.\n",
            "The Bitcoin stock-to-flow (SDIGF) model created by pseudonymous analyst PlanB, which analyzes the supply dynamics of Bitcoin and its scarcity enforced by the protocol’s halving of miner rewards every four years, is predicting a monthly close of around $DIGDIG,DIGDIGDIG for November.\n"
          ]
        }
      ]
    },
    {
      "cell_type": "markdown",
      "metadata": {
        "id": "b8__oi1PWhAv"
      },
      "source": [
        "**Задание**: напишите  регулярное выражение, которое позволит убрать url из строки."
      ]
    },
    {
      "cell_type": "code",
      "metadata": {
        "id": "KwNS9zt4WhAv",
        "colab": {
          "base_uri": "https://localhost:8080/"
        },
        "outputId": "e908b0f2-8f63-4c54-be99-6f3e66b31575"
      },
      "source": [
        "sub_test_txt2 = 'According to PlanB, his model’s predictions have actualized — for the most part. The analyst shared ( https://www.nasdaq.com/articles/stock-to-flow-targets-%2498000-bitcoin-by-end-of-november-will-it-actualize-2021-11-01 ) that both August and September resonated closely with the actual monthly closing price of $47,000 and $43,000, respectively.'\n",
        "print(sub_test_txt2)\n",
        "\n",
        "print(re.sub('http\\S+', '', sub_test_txt2))"
      ],
      "execution_count": null,
      "outputs": [
        {
          "output_type": "stream",
          "name": "stdout",
          "text": [
            "According to PlanB, his model’s predictions have actualized — for the most part. The analyst shared ( https://www.nasdaq.com/articles/stock-to-flow-targets-%2498000-bitcoin-by-end-of-november-will-it-actualize-2021-11-01 ) that both August and September resonated closely with the actual monthly closing price of $47,000 and $43,000, respectively.\n",
            "According to PlanB, his model’s predictions have actualized — for the most part. The analyst shared (  ) that both August and September resonated closely with the actual monthly closing price of $47,000 and $43,000, respectively.\n"
          ]
        }
      ]
    },
    {
      "cell_type": "markdown",
      "metadata": {
        "id": "DTrk81J4hKZF"
      },
      "source": [
        "Больше о крипторынке: https://t.me/css_trade\n"
      ]
    },
    {
      "cell_type": "code",
      "metadata": {
        "colab": {
          "base_uri": "https://localhost:8080/"
        },
        "id": "HK9ixfeAhizO",
        "outputId": "449170c9-162c-46be-c4a1-1fcc09b30f71"
      },
      "source": [
        "sub_test_txt3 = 'Больше о крипторынке: https://t.me/css_trade'\n",
        "print(sub_test_txt3)\n",
        "\n",
        "print(re.sub('http\\S+', '', sub_test_txt3))"
      ],
      "execution_count": null,
      "outputs": [
        {
          "output_type": "stream",
          "name": "stdout",
          "text": [
            "Больше о крипторынке: https://t.me/css_trade\n",
            "Больше о крипторынке: \n"
          ]
        }
      ]
    },
    {
      "cell_type": "markdown",
      "metadata": {
        "id": "gStgBJy2WhAx"
      },
      "source": [
        "### compile\n",
        "компилирует регулярное выражение в отдельный объект"
      ]
    },
    {
      "cell_type": "code",
      "metadata": {
        "id": "JstTupisWhAy",
        "colab": {
          "base_uri": "https://localhost:8080/"
        },
        "outputId": "d3702d0f-5841-43bb-9dc6-28549f499de0"
      },
      "source": [
        "# Пример: построение списка всех слов строки:\n",
        "prog = re.compile('[А-Яа-яё\\-]+')\n",
        "prog.findall(\"Слова? Да, больше, ещё больше слов! Что-то ещё.\")"
      ],
      "execution_count": null,
      "outputs": [
        {
          "output_type": "execute_result",
          "data": {
            "text/plain": [
              "['Слова', 'Да', 'больше', 'ещё', 'больше', 'слов', 'Что-то', 'ещё']"
            ]
          },
          "metadata": {},
          "execution_count": 25
        }
      ]
    },
    {
      "cell_type": "markdown",
      "metadata": {
        "id": "WXEXc3G0WhA2"
      },
      "source": [
        "**Задание**: для выбранной строки постройте список слов, которые длиннее трех символов."
      ]
    },
    {
      "cell_type": "code",
      "metadata": {
        "id": "nFvnIWbUWhA2",
        "colab": {
          "base_uri": "https://localhost:8080/"
        },
        "outputId": "aac686ca-d35b-4a24-f6aa-3595519a3d05"
      },
      "source": [
        "pattern1 = re.compile('[А-Яа-яё\\-]{4,}')\n",
        "pattern1.findall(\"Слова? Да, больше, ещё больше слов! Что-то ещё.\")"
      ],
      "execution_count": null,
      "outputs": [
        {
          "output_type": "execute_result",
          "data": {
            "text/plain": [
              "['Слова', 'больше', 'больше', 'слов', 'Что-то']"
            ]
          },
          "metadata": {},
          "execution_count": 109
        }
      ]
    },
    {
      "cell_type": "markdown",
      "metadata": {
        "id": "SQDNZ3HQWhA3"
      },
      "source": [
        "**Задание**: вернуть список доменов (@gmail.com) из списка адресов электронной почты:\n",
        "\n",
        "```\n",
        "abc.test@gmail.com, xyz@test.in, test.first@analyticsvidhya.com, first.test@rest.biz\n",
        "```"
      ]
    },
    {
      "cell_type": "code",
      "metadata": {
        "colab": {
          "base_uri": "https://localhost:8080/"
        },
        "id": "STswcTNjPsLc",
        "outputId": "1aae3acb-93a9-4022-ef19-0b1a94c74648"
      },
      "source": [
        "pattern2 = re.compile('\\S+@gmail.com')\n",
        "pattern2.findall(\"abc.test@gmail.com, xyz@test.in, test.first@analyticsvidhya.com, first.test@rest.biz\")"
      ],
      "execution_count": null,
      "outputs": [
        {
          "output_type": "execute_result",
          "data": {
            "text/plain": [
              "['abc.test@gmail.com']"
            ]
          },
          "metadata": {},
          "execution_count": 4
        }
      ]
    },
    {
      "cell_type": "code",
      "metadata": {
        "id": "btiWKoksUlfR"
      },
      "source": [
        ""
      ],
      "execution_count": null,
      "outputs": []
    }
  ]
}